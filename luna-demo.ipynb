{
 "cells": [
  {
   "cell_type": "markdown",
   "metadata": {},
   "source": [
    "# Aqarios Luna Platform Demo\n",
    "\n",
    "This jupyter notebook will walk you through some of the potential uses of the Luna platform with the goal of demonstrating how this tool can be integrated into existing workflows. \n",
    "\n",
    "This demo will only include functionality from LunaSolve, our platform focused on optimization using state-of-the-art quantum, hybrid, and classical heuristics.\n",
    "\n",
    "The structure of this notebook is as follows:\n",
    " - **Part 1**: Introduction\n",
    " - **Part 2**: LunaSolve\n",
    " - **Part 3**: Setup\n",
    " - **Part 4**: Real-world optimization using built-in transformations\n",
    " - **Part 5**: Open-ended optimization using manually constructed QUBOs\n",
    "\n",
    "For a complete overview of our API's functionality visit https://api.aqarios.com/docs for interative documentation."
   ]
  },
  {
   "cell_type": "markdown",
   "metadata": {},
   "source": [
    "## Part 1: Introduction\n",
    "Many business problems that companies face today can be formulated as optimization problems, whether in supply chain management, portfolio optimization, or balancing demand and supply for electricity. However, many of our real-world optimization problems are so complex that they cannot be solved efficiently or at all with our current hardware - *classical computers*. This leads to extremely inefficient workflows throughout our economy and huge losses that can even run into the billions for larger companies.\n",
    "\n",
    "This is exactly where **Quantum Computing** will come into their own. The huge leap in computing power and speed will allow us to efficiently solve these optimization problems, leading to unimaginable advances in the future of our economy.\n",
    "\n",
    "Aqarios Luna is a platform that will enable businesses to benefit from quantum technology and solve the most complex business problems. While quantum computers have tremendous potential, the complexity of communicating with them as well as understanding and applying the algorithms is a major hurdle to overcome and one that many companies struggle with. This is where we come in - Luna provides an intuitive and easy-to-use interface for accessing and applying quantum computing from the perspective of a business user - the use case and its solution. With Luna, there is no need to understand how quantum algorithms work in order to apply them. At the same time, Luna offers full customization and flexibility for those users who have the necessary knowledge and want to delve deeper.\n"
   ]
  },
  {
   "cell_type": "markdown",
   "metadata": {},
   "source": [
    "## Part 2: LunaSolve\n",
    "\n",
    "The service you will learn about in this notebook is **LunaSolve**, our service for solving optimization problems efficiently. LunaSolve offers 3 main functions:\n",
    "\n",
    "- **Transform**: You can provide us with your use case in a predefined but intuitive and easy to understand format, which we will automatically transform into the necessary format to solve the problem on quantum devices.\n",
    "- **Recommend**: We give you a recommendation on the best algorithm and hardware to use to solve your specific problem.\n",
    "- **Solve**: You tell us which solver you want to use - we take care of everything necessary to get the algorithm onto quantum hardware and solve your problem.\n",
    "\n",
    "Note that our platform automatically saves your problem formulations and generated solutions, so you can access them again at any later time without having to resubmit the optimization problem or run the solver again."
   ]
  },
  {
   "cell_type": "markdown",
   "metadata": {},
   "source": [
    "## Part 3: Setup\n",
    "\n",
    "In order to make this notebook interactive, there are a few necessary steps to setup our environment."
   ]
  },
  {
   "cell_type": "markdown",
   "metadata": {},
   "source": [
    "### A. Install the necessary packages"
   ]
  },
  {
   "cell_type": "code",
   "execution_count": 2,
   "metadata": {},
   "outputs": [
    {
     "name": "stdout",
     "output_type": "stream",
     "text": [
      "Requirement already satisfied: requests in /home/michael/PycharmProjects/IntroductionToAI/commonroad-search/venv/lib/python3.7/site-packages (2.28.0)\n",
      "Requirement already satisfied: certifi>=2017.4.17 in /home/michael/PycharmProjects/IntroductionToAI/commonroad-search/venv/lib/python3.7/site-packages (from requests) (2022.6.15)\n",
      "Requirement already satisfied: charset-normalizer~=2.0.0 in /home/michael/PycharmProjects/IntroductionToAI/commonroad-search/venv/lib/python3.7/site-packages (from requests) (2.0.12)\n",
      "Requirement already satisfied: idna<4,>=2.5 in /home/michael/PycharmProjects/IntroductionToAI/commonroad-search/venv/lib/python3.7/site-packages (from requests) (3.3)\n",
      "Requirement already satisfied: urllib3<1.27,>=1.21.1 in /home/michael/PycharmProjects/IntroductionToAI/commonroad-search/venv/lib/python3.7/site-packages (from requests) (1.26.9)\n",
      "\u001b[33mWARNING: You are using pip version 21.3.1; however, version 23.1.2 is available.\n",
      "You should consider upgrading via the '/home/michael/PycharmProjects/IntroductionToAI/commonroad-search/venv/bin/python -m pip install --upgrade pip' command.\u001b[0m\n",
      "Note: you may need to restart the kernel to use updated packages.\n",
      "Requirement already satisfied: networkx in /home/michael/PycharmProjects/IntroductionToAI/commonroad-search/venv/lib/python3.7/site-packages (2.6.3)\n",
      "\u001b[33mWARNING: You are using pip version 21.3.1; however, version 23.1.2 is available.\n",
      "You should consider upgrading via the '/home/michael/PycharmProjects/IntroductionToAI/commonroad-search/venv/bin/python -m pip install --upgrade pip' command.\u001b[0m\n",
      "Note: you may need to restart the kernel to use updated packages.\n"
     ]
    }
   ],
   "source": [
    "%pip install requests\n",
    "%pip install networkx"
   ]
  },
  {
   "cell_type": "markdown",
   "metadata": {},
   "source": [
    "### B. Set the API URL for requests"
   ]
  },
  {
   "cell_type": "code",
   "execution_count": 1,
   "metadata": {},
   "outputs": [],
   "source": [
    "URL = \"https://api.aqarios.com\""
   ]
  },
  {
   "cell_type": "markdown",
   "metadata": {},
   "source": [
    "### C. Authenticate your account\n",
    "\n",
    "Create a file in this same directory named: `credentials.json`.\n",
    "\n",
    "This will house your secret login information so that you can request access tokens from the platform.\n",
    "\n",
    "The file should look like this:\n",
    "\n",
    "```\n",
    "{\n",
    "    \"username\": \"YOUREMAILHERE\",\n",
    "    \"password\": \"YOURPASSWORDHERE\"\n",
    "}\n",
    "```"
   ]
  },
  {
   "cell_type": "code",
   "execution_count": 3,
   "metadata": {},
   "outputs": [],
   "source": [
    "import json\n",
    "import requests"
   ]
  },
  {
   "cell_type": "code",
   "execution_count": 29,
   "metadata": {},
   "outputs": [],
   "source": [
    "# get credentials from secret file\n",
    "with open(\"credentials.json\", 'r') as f:\n",
    "    credentials = json.load(f)\n",
    "    username = credentials['username']\n",
    "    password = credentials['password']\n",
    "\n",
    "# request API for token using credentials\n",
    "response = requests.post(\n",
    "    url=URL+\"/accessToken\",\n",
    "    data={\n",
    "        \"username\": username,\n",
    "        \"password\": password\n",
    "    }\n",
    ")\n",
    "\n",
    "# set received token as header\n",
    "token = response.json().get(\"access_token\")\n",
    "headers = {\"Authorization\": f\"Bearer {token}\"}"
   ]
  },
  {
   "cell_type": "markdown",
   "metadata": {},
   "source": [
    "## Part 4: Real-world optimization\n",
    "\n",
    "There are many computationally challenging optimization problems defined in the literature, which cover a variety of domains. Examples like the Traveling Salesman Problem, Job-Shop Scheduling, or the Knapsack Problem are likely familiar to many who have spent time in the field. \n",
    "\n",
    "Many, but not all, of these optimization problems have been analized by researchers interested in attempting to solve them of quantum hardware. This process requires a transformative step. \n",
    "\n",
    "While the Traveling Salesman Problem is described by a graph which contains all the desired destinations and the distances between them, this representation is not suitable for current quantum annealer, let alone classical optimization heuristics. \n",
    "\n",
    "This is the first functionaly of LunaSolve: **Transform**. \n",
    "\n",
    "We provide users with a built-in library of (currently) **40** different optimization problems which can be configured using human-readable data formats (such as graphs). These are then automatically transformed into appropriate mathematical represetations for quantum computers."
   ]
  },
  {
   "cell_type": "markdown",
   "metadata": {},
   "source": [
    "### A. Retrieve available optimizations\n",
    "\n",
    "The list of currently available optimizations can be retrieved using the `/api/problem/info/all` endpoint. However, we recommend browsing this information using the interactive documentation referenced above.\n",
    "\n",
    "Here is an example of an optimization specification from the docs:\n",
    "\n",
    "<div>\n",
    "<img src=\"static/tsp-docs.jpg\" width=\"800\"/>\n",
    "</div>\n",
    "\n",
    "This includes a description of the optimization problem, its attributes, and references to the publication that its transformation is taken from.\n",
    "\n",
    "The full list can be found by:\n",
    "1. Navigating to https://api.aqarios.com/docs#/Optimizations/create_optimization_api_optimizations_post\n",
    "2. Clicking on **Schema** in the Request Body section.\n",
    "3. Opening the `instance` dropdown.\n",
    "4. Opening the optimization problem of your choice.\n"
   ]
  },
  {
   "cell_type": "markdown",
   "metadata": {},
   "source": [
    "### B. Create an instance of an optimization\n",
    "\n",
    "Suppose you need to coordinate the shipping of wholesale products to across Germany. You have retailers in the seven largest German cites and want to deliver all of your product at once using the shortest route possible to minize transportation costs.\n",
    "\n",
    "After browsing our list of available optimization problems, you notice that we have already implemented the Travelling Salesman problem. After reviewing the schema of the formulation in the manner described above, you find that the problem can be referenced by the *name* TSP and you see that the problem can be defined by a graph with edge weights representing the distances between each major city."
   ]
  },
  {
   "cell_type": "code",
   "execution_count": 5,
   "metadata": {},
   "outputs": [],
   "source": [
    "import networkx as nx"
   ]
  },
  {
   "cell_type": "code",
   "execution_count": 6,
   "metadata": {},
   "outputs": [],
   "source": [
    "# Create an empty graph\n",
    "graph = nx.Graph()\n",
    "\n",
    "# Add nodes\n",
    "cities = ['Berlin', 'Hamburg', 'Munich', 'Cologne', 'Frankfurt', 'Stuttgart', 'Düsseldorf']\n",
    "graph.add_nodes_from(cities)\n",
    "\n",
    "# Add edges and their weights (distances between cities)\n",
    "edges = [('Berlin', 'Hamburg', 289), \n",
    "         ('Berlin', 'Munich', 590), \n",
    "         ('Berlin', 'Cologne', 579), \n",
    "         ('Berlin', 'Frankfurt', 551), \n",
    "         ('Berlin', 'Stuttgart', 639), \n",
    "         ('Berlin', 'Düsseldorf', 569), \n",
    "         ('Hamburg', 'Munich', 791), \n",
    "         ('Hamburg', 'Cologne', 433), \n",
    "         ('Hamburg', 'Frankfurt', 493), \n",
    "         ('Hamburg', 'Stuttgart', 656), \n",
    "         ('Hamburg', 'Düsseldorf', 401), \n",
    "         ('Munich', 'Cologne', 573), \n",
    "         ('Munich', 'Frankfurt', 392), \n",
    "         ('Munich', 'Stuttgart', 233), \n",
    "         ('Munich', 'Düsseldorf', 612), \n",
    "         ('Cologne', 'Frankfurt', 212), \n",
    "         ('Cologne', 'Stuttgart', 377), \n",
    "         ('Cologne', 'Düsseldorf', 54), \n",
    "         ('Frankfurt', 'Stuttgart', 205), \n",
    "         ('Frankfurt', 'Düsseldorf', 229), \n",
    "         ('Stuttgart', 'Düsseldorf', 416)]\n",
    "graph.add_weighted_edges_from(edges)\n",
    "\n",
    "graph_data = nx.to_dict_of_dicts(graph)"
   ]
  },
  {
   "cell_type": "markdown",
   "metadata": {},
   "source": [
    "Now send a request to the API to create a new optimization instance according to this graph specification. The optimization is stored in the platform and can be referenced with an ID from now on."
   ]
  },
  {
   "cell_type": "code",
   "execution_count": 7,
   "metadata": {},
   "outputs": [
    {
     "data": {
      "text/plain": [
       "'id: 648c4eb39f9ac53c2885c995'"
      ]
     },
     "execution_count": 7,
     "metadata": {},
     "output_type": "execute_result"
    }
   ],
   "source": [
    "request_body = {\n",
    "    \"instance\": {\n",
    "        \"name\": \"TSP\",\n",
    "        \"graph\": graph_data\n",
    "    }\n",
    "}\n",
    "\n",
    "response = requests.post(\n",
    "    url=URL+\"/api/optimizations\",\n",
    "    headers=headers,\n",
    "    json=request_body\n",
    ")\n",
    "\n",
    "tsp_id = response.json().get(\"_id\")\n",
    "f\"id: {tsp_id}\""
   ]
  },
  {
   "cell_type": "markdown",
   "metadata": {},
   "source": [
    "### C. Solve your optimization\n",
    "\n",
    "Now that you have obtained an ID for your TSP problem, you can start using LunaSolve's other services. In addition to our large library of use cases, we also provide a library of **more than 40 algorithms** that you can choose from to solve your optimization problem.\n",
    "\n",
    "Similar to the problem formulations, you can also view a list of all solvers that we have implemented and are ready to be used. You can access this list via the `/api/info/solvers/available` endpoint or again via our interactive documentation. You can also get more detailed information about each solver using the `/api/info/solvers` end point."
   ]
  },
  {
   "cell_type": "code",
   "execution_count": 8,
   "metadata": {},
   "outputs": [
    {
     "data": {
      "text/plain": [
       "['genetic_algorithm_cross_local_search_merz99',\n",
       " 'genetic_algorithm_cross_merz99',\n",
       " 'genetic_algorithm_hasan00',\n",
       " 'genetic_algorithm_kopt_local_search_katayama00',\n",
       " 'genetic_algorithm_kopt_local_search_merz04',\n",
       " 'genetic_algorithm_lodi99',\n",
       " 'genetic_algorithm_mutate_merz99',\n",
       " 'genetic_algorithm_tabu_search_lu10',\n",
       " 'global_equilibrium_search',\n",
       " 'grasp_greedy_merz02',\n",
       " 'iterated_tabu_search_palubeckis04',\n",
       " 'iterated_tabu_search_palubeckis06',\n",
       " 'kopt_local_search_grasp_merz02',\n",
       " 'kopt_local_search_random_restarts_merz02',\n",
       " 'oneopt_local_search_random_restarts_merz02',\n",
       " 'simulated_annealing_alkhamis98',\n",
       " 'simulated_annealing_beasley98',\n",
       " 'simulated_annealing_katayama01',\n",
       " 'tabu_search_beasley98',\n",
       " 'tabu_search_glover98',\n",
       " 'tabu_search_grasp_palubeckis04',\n",
       " 'tabu_search_hasan00',\n",
       " 'tabu_search_long_term_memory_glover10',\n",
       " 'tabu_search_long_term_memory_palubeckis04',\n",
       " 'tabu_search_palubeckis04',\n",
       " 'brute_force',\n",
       " 'dialectic_search',\n",
       " 'dwave_qpu',\n",
       " 'kerberos',\n",
       " 'parallel_tempering_qpu',\n",
       " 'parallel_tempering',\n",
       " 'population_annealing_qpu',\n",
       " 'population_annealing',\n",
       " 'qbsolv_like_simulated_annealing',\n",
       " 'qbsolv_like_tabu_search',\n",
       " 'qbsolv_qpu',\n",
       " 'repeated_reverse_quantum_annealing',\n",
       " 'simulated_annealing',\n",
       " 'tabu_search',\n",
       " 'quantum_assisted_genetic_algorithm',\n",
       " 'quantum_assisted_genetic_algorithm_multiprocessing',\n",
       " 'quantum_assisted_genetic_algorithm_pairwise',\n",
       " 'simulated_annealing_assisted_genetic_algorithm',\n",
       " 'simulated_annealing_assisted_genetic_algorithm_muliprocessing',\n",
       " 'simulated_annealing_assisted_genetic_algorithm_pairwise',\n",
       " 'variational_quantum_eigensolver',\n",
       " 'quantum_approximate_optimization_algorithm',\n",
       " 'recursive_quantum_approximate_optimization_algorithm']"
      ]
     },
     "execution_count": 8,
     "metadata": {},
     "output_type": "execute_result"
    }
   ],
   "source": [
    "response = requests.get(\n",
    "    url=URL+\"/api/info/solvers/available\",\n",
    "    headers=headers\n",
    ")\n",
    "\n",
    "response.json()"
   ]
  },
  {
   "cell_type": "markdown",
   "metadata": {},
   "source": [
    "Each solver represents a different approach to solving optimization problems and therefore can be configured differently. To allow you to configure your algorithm exactly as you wish, we provide the ability to send solver-specific parameters to each run of the algorithms. Again, we provide detailed documentation on all solvers and their corresponding parameters.\n",
    "\n",
    "Solvers are divided into several categories depending on their origin and/or underlying hardware."
   ]
  },
  {
   "cell_type": "code",
   "execution_count": 9,
   "metadata": {},
   "outputs": [
    {
     "data": {
      "text/plain": [
       "dict_keys(['MQLib', 'DWave', 'Aqarios', 'IBM'])"
      ]
     },
     "execution_count": 9,
     "metadata": {},
     "output_type": "execute_result"
    }
   ],
   "source": [
    "response = requests.get(\n",
    "    url=URL+\"/api/info/solvers\",\n",
    "    headers=headers\n",
    ")\n",
    "\n",
    "solvers = response.json()\n",
    "solvers.keys()"
   ]
  },
  {
   "cell_type": "markdown",
   "metadata": {},
   "source": [
    "Let's take a look at all solvers offered by D-Wave Systems."
   ]
  },
  {
   "cell_type": "code",
   "execution_count": 10,
   "metadata": {},
   "outputs": [
    {
     "data": {
      "text/plain": [
       "['brute_force',\n",
       " 'dialectic_search',\n",
       " 'dwave_qpu',\n",
       " 'kerberos',\n",
       " 'parallel_tempering_qpu',\n",
       " 'parallel_tempering',\n",
       " 'population_annealing_qpu',\n",
       " 'population_annealing',\n",
       " 'qbsolv_exact_solver',\n",
       " 'qbsolv_like_simulated_annealing',\n",
       " 'qbsolv_like_tabu_search',\n",
       " 'qbsolv_qpu',\n",
       " 'qbsolv_simulated_annealing',\n",
       " 'qbsolv_tabu_search',\n",
       " 'repeated_reverse_quantum_annealing',\n",
       " 'simulated_annealing',\n",
       " 'tabu_search']"
      ]
     },
     "execution_count": 10,
     "metadata": {},
     "output_type": "execute_result"
    }
   ],
   "source": [
    "dwave_solvers = [solver['full_name'] for solver in solvers['DWave']]\n",
    "dwave_solvers"
   ]
  },
  {
   "cell_type": "code",
   "execution_count": 11,
   "metadata": {},
   "outputs": [
    {
     "data": {
      "text/plain": [
       "[{'full_name': 'brute_force',\n",
       "  'short_name': 'BF',\n",
       "  'available': True,\n",
       "  'params': {'solver_limit': 1000000.0},\n",
       "  'description': '\\n    # Brute Force Solver\\n\\n    Description\\n    ----------\\n\\n    The Brute Force Solver utilizes a conventional brute force approach to search \\n    through all possible solutions. The solver becomes very slow for problems with more \\n    than 17 variables.\\n\\n    Parameters\\n    ----------\\n\\n    ### solver_limit: int\\n        \\n maximum size of the QUBO\\n    ',\n",
       "  'qpu_provider': None},\n",
       " {'full_name': 'dialectic_search',\n",
       "  'short_name': 'DS',\n",
       "  'available': True,\n",
       "  'params': {'decomposer_size': 10,\n",
       "   'max_iter': 100,\n",
       "   'max_tries': 100,\n",
       "   'max_time': 5,\n",
       "   'target': None},\n",
       "  'description': '\\n    # Dialectic Search Solver\\n\\n    Description\\n    ----------\\n\\n    The Dialectic Search Solver uses a path search between two states representing \\n    the thesis and antithesis. A greedy search is used to reduce the energy by applying \\n    bit flips in an attempt to find the solution.\\n\\n    Parameters\\n    ----------\\n\\n    ### decomposer_size: int\\n        \\n number of selected variables for the graph search to stop\\n\\n    ### max_iter: int\\n        \\n maximum number of iterations (ignored if target is not None)\\n\\n    ### max_tries: int\\n        \\n maximum number of iterations with unchanged output to terminate algorithm\\n\\n    ### max_time: int\\n        \\n time in seconds after which the algorithm will stop\\n\\n    ### target: float\\n        \\n energy level that the algorithm tries to reach. If None, the algorithm will \\n        run until any other stopping criterion kicks in\\n    ',\n",
       "  'qpu_provider': None},\n",
       " {'full_name': 'dwave_qpu',\n",
       "  'short_name': 'DQ',\n",
       "  'available': True,\n",
       "  'params': {'qpu_config': {}, 'sample_params': {}},\n",
       "  'description': '\\n    # DWaveQPU\\n\\n    Description\\n    ----------\\n\\n    The DWaveQPU uses a minor embedding to map problems onto a specified D-Wave sampler.\\n    The sampler solves the problem with the specified sampler method. With each call \\n    of the sampling method, the minor embedding is recalculated.\\n\\n    Parameters\\n    ----------\\n\\n    ### qpu_config: Dict\\n        \\n parameters for managing workers and handling thread pools of the QPU \\n        (for additional information see: \\n        [D-Wave Client](https://docs.ocean.dwavesys.com/en/stable/docs_cloud/reference/resources.html#dwave.cloud.client.Client))\\n\\n    ### sample_params: Dict\\n        \\n parameters for the QPU of the DWaveSampler \\n        (for additional information see: \\n        [D-Wave Client](https://docs.ocean.dwavesys.com/en/stable/docs_cloud/reference/resources.html#dwave.cloud.client.Client))\\n    ',\n",
       "  'qpu_provider': 'dwave'},\n",
       " {'full_name': 'kerberos',\n",
       "  'short_name': 'K',\n",
       "  'available': True,\n",
       "  'params': {'max_iter': 100,\n",
       "   'timeout': 5,\n",
       "   'sa_reads': 1,\n",
       "   'sa_sweeps': 10000,\n",
       "   'tabu_timeout': 500,\n",
       "   'qpu_reads': 100,\n",
       "   'qpu_params': None,\n",
       "   'qpu_config': {},\n",
       "   'max_subproblem_size': 20,\n",
       "   'convergence': 3,\n",
       "   'target': None,\n",
       "   'rolling_history': 0.3,\n",
       "   'traversal': 'bfs',\n",
       "   'cpu_count_multiplier': 1},\n",
       "  'description': \"\\n    # Kerberos\\n\\n    Description\\n    ----------\\n\\n    Kerberos divides the problem into subproblems and solves them using Tabu Search, \\n    Simulated Annealing and QPU Subproblem Sampling. These algorithms are executed \\n    in parallel and afterwards the best solutions are combined. This procedure \\n    is applied iteratively until the best solution is found or a termination criterion \\n    is met.\\n\\n    Parameters\\n    ----------\\n\\n    ### max_iter: int\\n        \\n maximum number of iterations after which the algorithm will stop\\n\\n    ### timeout: int\\n        \\n time in seconds after which the algorithm will stop\\n\\n    ### sa_reads: int\\n        \\n number of reads for the simulated annealing branch\\n\\n    ### sa_sweeps: int\\n        \\n number of sweeps for the simulated annealing branch\\n\\n    ### tabu_timeout: int\\n        \\n time in milliseconds after which the tabu search will stop\\n\\n    ### qpu_reads: int\\n        \\n number of reads for the qpu branch\\n\\n    ### qpu_params: Dict\\n        \\n parameters for the QPU of the DWaveSampler \\n        (for additional information see: \\n        [D-Wave Client](https://docs.ocean.dwavesys.com/en/stable/docs_cloud/reference/resources.html#dwave.cloud.client.Client))\\n\\n    ### qpu_config: Dict\\n        \\n parameters for managing workers and handling thread pools of the QPU \\n        (for additional information see: \\n        [D-Wave Client](https://docs.ocean.dwavesys.com/en/stable/docs_cloud/reference/resources.html#dwave.cloud.client.Client))\\n\\n    ### max_subproblem_size: int\\n        \\n maximum subproblem size for the qpu branch\\n\\n    ### convergence: int\\n        \\n maximum number of iterations with unchanged output to terminate algorithm\\n\\n    ### target: float\\n        \\n energy level that the algorithm tries to reach. If None, the algorithm will \\n        run until any other stopping criterion kicks in\\n\\n    ### rolling_history: float\\n        \\n percentage of the problem size for the rolling section (in 0.0 to 1.0). \\n        If reached, the unrolling for the subproblem is reset.\\n\\n    ### traversal: str\\n        \\n traversal algorithm used to pick a subproblem. Supports either 'energy', \\n        'bfs' or 'pfs'\\n            \\n - 'energy' picks variables according to the descending energy impact\\n            \\n - 'bfs' picks variables using a breadth-first traversal on the energy \\n            impact list\\n            \\n - 'pfs' picks variables using a priority-first traversal on the energy \\n            impact list and continues with the variables with the highest energy impacts\\n            \\n\\n\\n    ### cpu_count_multiplier: float\\n        \\n multiplication factor for the number of CPU counts in the thread pool\\n    \",\n",
       "  'qpu_provider': 'dwave'},\n",
       " {'full_name': 'parallel_tempering_qpu',\n",
       "  'short_name': 'PTQ',\n",
       "  'available': True,\n",
       "  'params': {'qpu_config': {},\n",
       "   'n_sweeps': 10000,\n",
       "   'n_iter': 5,\n",
       "   'target': None,\n",
       "   'timeout': 5,\n",
       "   'cpu_count_multiplier': 5,\n",
       "   'n_replicas': 4,\n",
       "   'decomposer_size': 10},\n",
       "  'description': '\\n    # Parallel Tempering QPU\\n\\n    Description\\n    ----------\\n\\n    Parallel Tempering uses multiple optimization procedures per temperature. \\n    During the cooling process, an exchange of replicas can take place between \\n    the parallel procedures, thus enabling higher energy mountains to be overcome.\\n\\n    Parameters\\n    ----------\\n\\n    ### qpu_config: Dict\\n        \\n parameters for managing workers and handling thread pools of the QPU \\n        (for additional information see: \\n        [D-Wave Client](https://docs.ocean.dwavesys.com/en/stable/docs_cloud/reference/resources.html#dwave.cloud.client.Client))\\n\\n    ### n_sweeps: int\\n        \\n number of sweeps per fixed temperature sampling\\n\\n    ### n_iter: int\\n        \\n maximum number of iterations after which the algorithm will stop\\n\\n    ### target: float\\n        \\n energy level that the algorithm tries to reach. If None, the algorithm will \\n        run until any other stopping criterion kicks in\\n\\n    ### timeout: int\\n        \\n time in seconds after which the algorithm will stop\\n\\n    ### cpu_count_multiplier: float\\n        \\n multiplication factor for the number of CPU counts in the thread pool\\n\\n    ### n_replicas: int\\n        \\n number of parallel states / replicas\\n\\n    ### decomposer_size: int\\n        \\n maximum sweep size for the qpu branch\\n    ',\n",
       "  'qpu_provider': 'dwave'},\n",
       " {'full_name': 'parallel_tempering',\n",
       "  'short_name': 'PT',\n",
       "  'available': True,\n",
       "  'params': {'n_sweeps': 500,\n",
       "   'random_swaps_factor': 1,\n",
       "   'n_iter': 3,\n",
       "   'target': None,\n",
       "   'timeout': 5,\n",
       "   'cpu_count_multiplier': 5,\n",
       "   'n_replicas': 2,\n",
       "   'convergence': None},\n",
       "  'description': '\\n    # Parallel Tempering\\n\\n    Description\\n    ----------\\n\\n    Parallel Tempering uses multiple optimization procedures per temperature. \\n    During the cooling process, an exchange of replicas can take place between \\n    the parallel procedures, thus enabling higher energy mountains to be overcome.\\n\\n    Parameters\\n    ----------\\n\\n    ### n_sweeps: int\\n        \\n number of sweeps per fixed temperature sampling\\n\\n    ### random_swaps_factor: float\\n        \\n factor for randomly swapping replicas\\n\\n    ### n_iter: int\\n        \\n maximum number of iterations after which the algorithm will stop\\n\\n    ### target: float\\n        \\n energy level that the algorithm tries to reach. If None, the algorithm will \\n        run until any other stopping criterion kicks in\\n\\n    ### timeout: int\\n        \\n time in seconds after which the algorithm will stop\\n\\n    ### cpu_count_multiplier: float\\n        \\n multiplication factor for the number of CPU counts in the thread pool\\n\\n    ### n_replicas: int\\n        \\n number of parallel states / replicas\\n\\n    ### convergence: int\\n        \\n maximum number of iterations with unchanged output to terminate algorithm\\n    ',\n",
       "  'qpu_provider': None},\n",
       " {'full_name': 'population_annealing_qpu',\n",
       "  'short_name': 'PAQ',\n",
       "  'available': True,\n",
       "  'params': {'qpu_config': {},\n",
       "   'n_sweeps': 1000,\n",
       "   'n_iter': 20,\n",
       "   'n_reads': 20,\n",
       "   'cpu_count_multiplier': 5,\n",
       "   'target': None,\n",
       "   'timeout': 5,\n",
       "   'decomposer_size': 2,\n",
       "   'max_time': 2},\n",
       "  'description': '\\n    # Population Annealing QPU\\n\\n    Description\\n    ----------\\n\\n    Population Annealing uses a sequential Monte Carlo method to minimize the energy \\n    of a population. The population consists of walkers that can explore their \\n    neighborhood during the cooling process. Afterwards, walkers are removed and \\n    duplicated using bias to lower energy. Eventually, a population collapse occurs \\n    where all walkers are in the lowest energy state.\\n\\n    Parameters\\n    ----------\\n\\n    ### qpu_config: Dict\\n        \\n parameters for managing workers and handling thread pools of the QPU \\n        (for additional information see: \\n        [D-Wave Client](https://docs.ocean.dwavesys.com/en/stable/docs_cloud/reference/resources.html#dwave.cloud.client.Client))\\n\\n    ### n_sweeps: int\\n        \\n number of sweeps per fixed temperature sampling\\n\\n    ### n_iter: int\\n        \\n maximum number of iterations after which the algorithm will stop\\n\\n    ### n_reads: int\\n        \\n number of produced samples\\n\\n    ### cpu_count_multiplier: float\\n        \\n multiplication factor for the number of CPU counts in the thread pool\\n\\n    ### target: float\\n        \\n energy level that the algorithm tries to reach. If None, the algorithm will \\n        run until any other stopping criterion kicks in\\n\\n    ### timeout: int\\n        \\n time in seconds after which the algorithm will stop\\n\\n    ### decomposer_size: int\\n        \\n maximum sweep size for the qpu branch\\n\\n    ### max_time: int\\n        \\n time in seconds after which the sampler will stop\\n    ',\n",
       "  'qpu_provider': 'dwave'},\n",
       " {'full_name': 'population_annealing',\n",
       "  'short_name': 'PA',\n",
       "  'available': True,\n",
       "  'params': {'n_sweeps': 1000,\n",
       "   'n_iter': 20,\n",
       "   'n_reads': 20,\n",
       "   'cpu_count_multiplier': 5,\n",
       "   'target': None,\n",
       "   'timeout': 5},\n",
       "  'description': '\\n    # Population Annealing\\n\\n    Description\\n    ----------\\n\\n    Population Annealing uses a sequential Monte Carlo method to minimize the energy \\n    of a population. The population consists of walkers that can explore their \\n    neighborhood during the cooling process. Afterwards, walkers are removed and \\n    duplicated using bias to lower energy. Eventually, a population collapse occurs \\n    where all walkers are in the lowest energy state.\\n\\n    Parameters\\n    ----------\\n\\n    ### n_sweeps: int\\n        \\n number of sweeps per fixed temperature sampling\\n\\n    ### n_iter: int\\n        \\n maximum number of iterations after which the algorithm will stop\\n\\n    ### n_reads: int\\n        \\n number of produced samples\\n\\n    ### cpu_count_multiplier: float\\n        \\n multiplication factor for the number of CPU counts in the thread pool\\n\\n    ### target: float\\n        \\n energy level that the algorithm tries to reach. If None, the algorithm will \\n        run until any other stopping criterion kicks in\\n\\n    ### timeout: int\\n        \\n time in seconds after which the algorithm will stop\\n    ',\n",
       "  'qpu_provider': None},\n",
       " {'full_name': 'qbsolv_exact_solver',\n",
       "  'short_name': 'QES',\n",
       "  'available': False,\n",
       "  'params': {'target': None, 'timeout': 5},\n",
       "  'description': '\\n    # QBSolv Exact Solver\\n\\n    Description\\n    ----------\\n\\n    The QBSolv Exact Solver utilizes a conventional brute force approach to search \\n    through all possible solutions. The solver becomes very slow for problems with more \\n    than 17 variables.\\n\\n    Parameters\\n    ----------\\n\\n    ### target: float\\n        \\n energy level that the algorithm tries to reach. If None, the algorithm will \\n        run until any other stopping criterion kicks in\\n\\n    ### timeout: int\\n        \\n time in seconds after which the algorithm will stop\\n    ',\n",
       "  'qpu_provider': None},\n",
       " {'full_name': 'qbsolv_like_simulated_annealing',\n",
       "  'short_name': 'QLSA',\n",
       "  'available': True,\n",
       "  'params': {'simulated_annealing': {'num_reads': None,\n",
       "    'num_sweeps': 1000,\n",
       "    'beta_range': None,\n",
       "    'beta_schedule_type': 'geometric',\n",
       "    'initial_states_generator': 'random'},\n",
       "   'qbsolv_like': {'decomposer_size': 50,\n",
       "    'rolling': True,\n",
       "    'rolling_history': 0.15,\n",
       "    'max_iter': 10,\n",
       "    'max_time': 5,\n",
       "    'convergence': 3,\n",
       "    'target': None}},\n",
       "  'description': \"\\n    # QBSolv Like Simulated Annealing\\n\\n    Description\\n    ----------\\n\\n    QBSolv Like Simulated Annealing breaks down the problem and solves the parts \\n    individually using a classic solver that uses Simulated Annealing.\\n    This particular implementation uses hybrid.SimulatedAnnealingSubproblemSampler \\n    (https://docs.ocean.dwavesys.com/projects/hybrid/en/stable/reference/samplers.html#simulatedannealingsubproblemsampler) \\n    as a sampler for the subproblems to achieve a QBSolv like behaviour.\\n\\n    Parameters\\n    ----------\\n\\n    ## simulated_annealing: Dict\\n        \\n dictionary containing params for the simulated annealing part with following \\n        attributes:\\n\\n        ### num_reads: int\\n            \\n number of produced samples\\n\\n        ### num_sweeps: int\\n            \\n number of sweeps per fixed temperature sampling\\n\\n        ### beta_range: tuple\\n            \\n Explicit linearly applied beta range that is used for the schedule\\n\\n        ### beta_schedule_type: str\\n            \\n beta scheduler type used to interpolate given beta range. \\n            Supports either 'linear' or 'geometric'\\n\\n        ### initial_states_generator: str\\n            \\n defines expansion of input state subsamples into inital states for \\n            the simulated annealing if subsamples are fewer than num_reads. \\n            Supports either 'none', 'tile' or 'random'\\n\\n    ## qbsolv_like: Dict\\n        \\n dictionary containing params for the QBSolv Like part with following \\n        attributes:\\n\\n        ### decomposer_size: int\\n            \\n maximum sweep size for the qpu branch\\n\\n        ### rolling: bool\\n            \\n use rolling variable list sorted by decreasing impact\\n\\n        ### rolling_history: float\\n            \\n percentage of the problem size for the rolling section (in 0.0 to 1.0). \\n            If reached, the unrolling for the subproblem is reset.\\n\\n        ### max_iter: int\\n            \\n maximum number of iterations after which the algorithm will stop\\n\\n        ### max_time: int\\n            \\n time in seconds after which the qbsolv like will stop\\n\\n        ### convergence: int\\n            \\n maximum number of iterations with unchanged output to terminate algorithm\\n\\n        ### target: float\\n            \\n energy level that the algorithm tries to reach. If None, the algorithm \\n            will run until any other stopping criterion kicks in\\n    \",\n",
       "  'qpu_provider': None},\n",
       " {'full_name': 'qbsolv_like_tabu_search',\n",
       "  'short_name': 'QLTS',\n",
       "  'available': True,\n",
       "  'params': {'tabu_search': {'num_reads': None,\n",
       "    'tenure': None,\n",
       "    'timeout': 10,\n",
       "    'initial_states_generator': 'random'},\n",
       "   'qbsolv_like': {'decomposer_size': 50,\n",
       "    'rolling': True,\n",
       "    'rolling_history': 0.15,\n",
       "    'max_iter': 10,\n",
       "    'max_time': 5,\n",
       "    'convergence': 3,\n",
       "    'target': None}},\n",
       "  'description': \"\\n    # QBSolv Like Tabu Search\\n\\n    Description\\n    ----------\\n\\n    QBSolv Like Tabu Search breaks down the problem and solves the parts individually \\n    using a classic solver that uses Tabu Search.\\n    This particular implementation uses hybrid.TabuSubproblemSampler \\n    (https://docs.ocean.dwavesys.com/projects/hybrid/en/stable/reference/samplers.html#tabusubproblemsampler) \\n    as a sampler for the subproblems to achieve a QBSolv like behaviour.\\n\\n    Parameters\\n    ----------\\n\\n    ## tabu_search: Dict\\n        \\n dictionary containing params for the simulated annealing part with following \\n        attributes:\\n\\n        ### num_reads: int\\n            \\n number of produced samples\\n\\n        ### tenure: int\\n            \\n length of the tabu list\\n\\n        ### timeout: int\\n            \\n time in seconds after which the subproblem tabu search will stop\\n\\n        ### initial_states_generator: str\\n            \\n defines expansion of input state subsamples into inital states for \\n            the tabu search if subsamples are fewer than num_reads. \\n            Supports either 'none', 'tile' or 'random'\\n\\n    ## qbsolv_like: Dict\\n        \\n dictionary containing params for the QBSolv Like part with following \\n        attributes:\\n\\n        ### decomposer_size: int\\n            \\n maximum sweep size for the qpu branch\\n\\n        ### rolling: bool\\n            \\n use rolling variable list sorted by decreasing impact\\n\\n        ### rolling_history: float\\n            \\n percentage of the problem size for the rolling section (in 0.0 to 1.0). \\n            If reached, the unrolling for the subproblem is reset.\\n\\n        ### max_iter: int\\n            \\n maximum number of iterations after which the algorithm will stop\\n\\n        ### max_time: int\\n            \\n time in seconds after which the qbsolv like will stop\\n\\n        ### convergence: int\\n            \\n maximum number of iterations with unchanged output to terminate algorithm\\n\\n        ### target: float\\n            \\n energy level that the algorithm tries to reach. If None, the algorithm \\n            will run until any other stopping criterion kicks in\\n    \",\n",
       "  'qpu_provider': None},\n",
       " {'full_name': 'qbsolv_qpu',\n",
       "  'short_name': 'QQ',\n",
       "  'available': True,\n",
       "  'params': {'qpu_config': {},\n",
       "   'decomposer_size': 10,\n",
       "   'rolling': True,\n",
       "   'rolling_history': 0.15,\n",
       "   'max_iter': 10,\n",
       "   'convergence': 3,\n",
       "   'max_time': 5,\n",
       "   'cpu_count_multiplier': 5},\n",
       "  'description': '\\n    # QBSolv QPU\\n\\n    Description\\n    ----------\\n\\n    QBSolv QPU splits the problem into parts and solves them using the Tabu Search \\n    algorithm. For this purpose, the DWaveSampler is used.\\n\\n    Parameters\\n    ----------\\n\\n    ### qpu_config: Dict\\n        \\n parameters for managing workers and handling thread pools of the QPU \\n        (for additional information see: \\n        [D-Wave Client](https://docs.ocean.dwavesys.com/en/stable/docs_cloud/reference/resources.html#dwave.cloud.client.Client))\\n\\n    ### decomposer_size: int\\n        \\n maximum sweep size for the qpu branch\\n\\n    ### rolling: bool\\n        \\n use rolling variable list sorted by decreasing impact\\n\\n    ### rolling_history: float\\n        \\n percentage of the problem size for the rolling section (in 0.0 to 1.0). \\n        If reached, the unrolling for the subproblem is reset.\\n\\n    ### max_iter: int\\n        \\n maximum number of iterations after which the algorithm will stop\\n\\n    ### convergence: int\\n        \\n maximum number of iterations with unchanged output to terminate algorithm\\n\\n    ### max_time: int\\n        \\n time in seconds after which the algorithm will stop\\n\\n    ### cpu_count_multiplier: float\\n        \\n multiplication factor for the number of CPU counts in the thread pool\\n    ',\n",
       "  'qpu_provider': 'dwave'},\n",
       " {'full_name': 'qbsolv_simulated_annealing',\n",
       "  'short_name': 'QSA',\n",
       "  'available': False,\n",
       "  'params': {'num_reads': None,\n",
       "   'num_sweeps': 1000,\n",
       "   'beta_range': None,\n",
       "   'beta_schedule_type': 'geometric',\n",
       "   'initial_states_generator': 'random',\n",
       "   'target': None,\n",
       "   'timeout': 5},\n",
       "  'description': \"\\n    # QBSolv Simulated Annealing\\n\\n    Description\\n    ----------\\n\\n    QBSolv Simulated Annealing breaks down the problem and solves the parts \\n    individually using a classic solver that uses Simulated Annealing.\\n    This particular implementation uses neal.SimulatedAnnealingSampler\\n    (https://docs.ocean.dwavesys.com/en/stable/docs_neal/reference/sampler.html) \\n    as a sampler for the subproblems.\\n\\n    Parameters\\n    ----------\\n\\n    ### num_reads: int\\n        \\n number of produced samples\\n\\n    ### num_sweeps: int\\n        \\n number of sweeps per fixed temperature sampling\\n\\n    ### beta_range: tuple\\n        \\n Explicit linearly applied beta range that is used for the schedule\\n\\n    ### beta_schedule_type: str\\n        \\n beta scheduler type used to interpolate given beta range. \\n        Supports either 'linear' or 'geometric'\\n\\n    ### initial_states_generator: str\\n        \\n defines expansion of input state subsamples into inital states for \\n        the simulated annealing if subsamples are fewer than num_reads. \\n        Supports either 'none', 'tile' or 'random'\\n\\n    ### target: float\\n        \\n energy level that the algorithm tries to reach. If None, the algorithm will \\n        run until any other stopping criterion kicks in\\n\\n    ### timeout: int\\n        \\n time in seconds after which the algorithm will stop\\n    \",\n",
       "  'qpu_provider': None},\n",
       " {'full_name': 'qbsolv_tabu_search',\n",
       "  'short_name': 'QTS',\n",
       "  'available': False,\n",
       "  'params': {'num_reads': None,\n",
       "   'tenure': None,\n",
       "   'initial_states_generator': 'random',\n",
       "   'timeout': 5},\n",
       "  'description': \"\\n    # QBSolv Tabu Search\\n\\n    Description\\n    ----------\\n\\n    QBSolv Tabu Search breaks down the problem and solves the parts individually \\n    using a classic solver that uses Tabu Search.\\n    This particular implementation uses tabu.TabuSampler \\n    (https://docs.ocean.dwavesys.com/en/stable/docs_tabu/reference/sampler.html) \\n    as a sampler for the subproblems.\\n\\n    Parameters\\n    ----------\\n\\n    ### num_reads: int\\n        \\n number of produced samples\\n\\n    ### tenure: int\\n        \\n length of the tabu list\\n\\n    ### initial_states_generator: str\\n        \\n defines expansion of input state subsamples into inital states for \\n        the simulated annealing if subsamples are fewer than num_reads. \\n        Supports either 'none', 'tile' or 'random'\\n\\n    ### timeout: int\\n        \\n time in seconds after which the algorithm will stop\\n    \",\n",
       "  'qpu_provider': None},\n",
       " {'full_name': 'repeated_reverse_quantum_annealing',\n",
       "  'short_name': 'RRQA',\n",
       "  'available': True,\n",
       "  'params': {'qpu_config': {},\n",
       "   'beta_schedule': [0.5, 3],\n",
       "   'reverse_schedule': [[0.0, 1.0], [3, 0.5], [7.0, 0.5], [10.0, 1.0]],\n",
       "   'num_reads': 1024,\n",
       "   'timeout': 5,\n",
       "   'target': 0.0},\n",
       "  'description': '\\n    # Repeated Reverse Quantum Annealing\\n\\n    Description\\n    ----------\\n\\n    Repeated Reverse Quantum Annealing begins the annealing process from a previously \\n    initialized state and increases the temperature from there. Afterwards, \\n    the temperature is decreased again until the solution is found. This procedure is \\n    repeated several times with this particular solver.\\n    (for additional information see: \\n    [D-Wave Reverse Annealing](https://docs.dwavesys.com/docs/latest/c_qpu_annealing.html#reverse-annealing))\\n\\n    Parameters\\n    ----------\\n\\n    ### qpu_config: Dict\\n        \\n parameters for managing workers and handling thread pools of the QPU \\n        (for additional information see: \\n        [D-Wave Client](https://docs.ocean.dwavesys.com/en/stable/docs_cloud/reference/resources.html#dwave.cloud.client.Client))\\n\\n    ### beta_schedule: List\\n        \\n beta schedule values are used to create the reverse schedule\\n\\n    ### reverse_schedule: List\\n        \\n reverse schedule determines the course of the temperatures \\n        for the Repeated Reverse Quantum Annealing\\n\\n    ### num_reads: int\\n        \\n number of produced samples\\n\\n    ### timeout: int\\n        \\n time in seconds after which the algorithm will stop\\n\\n    ### target: float\\n        \\n energy level that the algorithm tries to reach. If None, the algorithm will \\n        run until any other stopping criterion kicks in\\n    ',\n",
       "  'qpu_provider': 'dwave'},\n",
       " {'full_name': 'simulated_annealing',\n",
       "  'short_name': 'SA',\n",
       "  'available': True,\n",
       "  'params': {'beta_range': None,\n",
       "   'num_reads': None,\n",
       "   'num_sweeps': 200,\n",
       "   'beta_schedule_type': 'geometric',\n",
       "   'initial_states_generator': 'random',\n",
       "   'n_init_samples': 1,\n",
       "   'timeout': 5},\n",
       "  'description': \"\\n    # Simulated Annealing\\n\\n    Description\\n    ----------\\n\\n    Simulated Annealing finds the solution to a problem using a annealing process. \\n    Initially, random states are chosen in the solution landscape. Afterwards, as \\n    the temperature decreases, states are chosen that are more energetically favorable. \\n    At the end of the complete annealing process, the resulting states make up \\n    the solution.\\n\\n    Parameters\\n    ----------\\n\\n    ### beta_range: tuple\\n        \\n Explicit linearly applied beta range that is used for the schedule\\n\\n    ### num_reads: int\\n        \\n number of produced samples\\n\\n    ### num_sweeps: int\\n        \\n number of sweeps per fixed temperature sampling\\n\\n    ### beta_schedule_type: str\\n        \\n beta scheduler type used to interpolate given beta range. \\n        Supports either 'linear' or 'geometric'\\n\\n    ### initial_states_generator: str\\n        \\n defines expansion of input state subsamples into inital states for \\n        the simulated annealing if subsamples are fewer than num_reads. \\n        Supports either 'none', 'tile' or 'random'\\n\\n    ### n_init_samples: int\\n        \\n number of states initially selected at random\\n    \",\n",
       "  'qpu_provider': None},\n",
       " {'full_name': 'tabu_search',\n",
       "  'short_name': 'TS',\n",
       "  'available': True,\n",
       "  'params': {'initial_states_generator': 'random',\n",
       "   'num_reads': None,\n",
       "   'tenure': None,\n",
       "   'timeout': 5,\n",
       "   'energy_threshold': None},\n",
       "  'description': \"\\n    # Tabu Search\\n\\n    Description\\n    ----------\\n\\n    Tabu Search is a heuristic optimization method that works with the help of a tabu \\n    list. Initially, random states are chosen in the solution landscape. Afterwards, \\n    an iterative search for energetically better states in the neighborhood is started \\n    from these states. According to a tabu strategy, states are added to the tabu list \\n    that are not allowed to be selected as successor states for a tabu duration. \\n    The tabu search ends as soon as there are no better successor states in \\n    the neighborhood. The resulting state is therefore the solution to the problem.\\n\\n    Parameters\\n    ----------\\n\\n    ### initial_states_generator: str\\n        \\n defines expansion of input state subsamples into inital states for \\n        the simulated annealing if subsamples are fewer than num_reads. \\n        Supports either 'none', 'tile' or 'random'\\n\\n    ### num_reads: int\\n        \\n number of produced samples\\n\\n    ### tenure: int\\n        \\n length of the tabu list\\n\\n    ### timeout: int\\n        \\n time in seconds after which the algorithm will stop\\n\\n    ### energy_threshold: float\\n        \\n energy level that the algorithm tries to reach. If None, the algorithm will \\n        run until any other stopping criterion kicks in\\n    \",\n",
       "  'qpu_provider': None}]"
      ]
     },
     "execution_count": 11,
     "metadata": {},
     "output_type": "execute_result"
    }
   ],
   "source": [
    "solvers[\"DWave\"]"
   ]
  },
  {
   "cell_type": "markdown",
   "metadata": {},
   "source": [
    "Now let's assume that we want to solve the problem with Simulated Annealing. Let's first take a look at how this algorithm is defined."
   ]
  },
  {
   "cell_type": "code",
   "execution_count": 14,
   "metadata": {},
   "outputs": [
    {
     "name": "stdout",
     "output_type": "stream",
     "text": [
      "\n",
      "    # Simulated Annealing\n",
      "\n",
      "    Description\n",
      "    ----------\n",
      "\n",
      "    Simulated Annealing finds the solution to a problem using a annealing process. \n",
      "    Initially, random states are chosen in the solution landscape. Afterwards, as \n",
      "    the temperature decreases, states are chosen that are more energetically favorable. \n",
      "    At the end of the complete annealing process, the resulting states make up \n",
      "    the solution.\n",
      "\n",
      "    Parameters\n",
      "    ----------\n",
      "\n",
      "    ### beta_range: tuple\n",
      "        \n",
      " Explicit linearly applied beta range that is used for the schedule\n",
      "\n",
      "    ### num_reads: int\n",
      "        \n",
      " number of produced samples\n",
      "\n",
      "    ### num_sweeps: int\n",
      "        \n",
      " number of sweeps per fixed temperature sampling\n",
      "\n",
      "    ### beta_schedule_type: str\n",
      "        \n",
      " beta scheduler type used to interpolate given beta range. \n",
      "        Supports either 'linear' or 'geometric'\n",
      "\n",
      "    ### initial_states_generator: str\n",
      "        \n",
      " defines expansion of input state subsamples into inital states for \n",
      "        the simulated annealing if subsamples are fewer than num_reads. \n",
      "        Supports either 'none', 'tile' or 'random'\n",
      "\n",
      "    ### n_init_samples: int\n",
      "        \n",
      " number of states initially selected at random\n",
      "    \n"
     ]
    }
   ],
   "source": [
    "sa = next(x for x in solvers['DWave'] if x['full_name'] == 'simulated_annealing') \n",
    "print(sa['description'])"
   ]
  },
  {
   "cell_type": "markdown",
   "metadata": {},
   "source": [
    "In case you are not sure which parameters to choose, you can go with our default parameters."
   ]
  },
  {
   "cell_type": "code",
   "execution_count": 15,
   "metadata": {},
   "outputs": [
    {
     "data": {
      "text/plain": [
       "{'beta_range': None,\n",
       " 'num_reads': None,\n",
       " 'num_sweeps': 200,\n",
       " 'beta_schedule_type': 'geometric',\n",
       " 'initial_states_generator': 'random',\n",
       " 'n_init_samples': 1,\n",
       " 'timeout': 5}"
      ]
     },
     "execution_count": 15,
     "metadata": {},
     "output_type": "execute_result"
    }
   ],
   "source": [
    "sa_params = sa['params']\n",
    "sa_params"
   ]
  },
  {
   "cell_type": "markdown",
   "metadata": {},
   "source": [
    "Now that we have decided on an algorithm and the parameters, let's actually solve our problem from before."
   ]
  },
  {
   "cell_type": "code",
   "execution_count": 16,
   "metadata": {},
   "outputs": [],
   "source": [
    "response = requests.post(\n",
    "    url=URL+f\"/api/optimizations/{tsp_id}/solutions\",\n",
    "    headers=headers,\n",
    "    params={\"solver_name\": \"simulated_annealing\"},\n",
    "    # You can also simply omit the json parameter if you want to use the default parameters.\n",
    "    json=sa_params\n",
    ")"
   ]
  },
  {
   "cell_type": "markdown",
   "metadata": {},
   "source": [
    "Since some solvers (especially quantum hardware) can take a long time to call, we don't want to keep you and the execution of your code waiting during this time. Instead, when a solution is requested, a 202 code is returned with a `solution_url` where the final result can be retrieved via the API once the computation is complete."
   ]
  },
  {
   "cell_type": "code",
   "execution_count": 17,
   "metadata": {},
   "outputs": [],
   "source": [
    "solution_url = response.json().get(\"solution_url\")\n",
    "\n",
    "# Here you may have to wait, depending on the software and hardware you have chosen and how complex your problem is.\n",
    "\n",
    "response = requests.get(\n",
    "    url=URL+f\"/{solution_url}\",\n",
    "    headers=headers\n",
    ")\n",
    "\n",
    "solution = response.json()\n",
    "solution.get(\"solution\")"
   ]
  },
  {
   "attachments": {},
   "cell_type": "markdown",
   "metadata": {},
   "source": [
    "### D. Making samples readable\n",
    "\n",
    "Most optimization problems in our API have built in back-transformations to translate binary solution vectors back into the semantic context of their original problem. You can use this endpoint to quickly make sense of the solutions the solvers generate for you."
   ]
  },
  {
   "cell_type": "code",
   "execution_count": 47,
   "metadata": {},
   "outputs": [
    {
     "data": {
      "text/plain": [
       "[['Munich'],\n",
       " ['Cologne'],\n",
       " ['Hamburg'],\n",
       " ['Berlin'],\n",
       " ['Stuttgart'],\n",
       " ['Frankfurt'],\n",
       " ['Düsseldorf']]"
      ]
     },
     "execution_count": 47,
     "metadata": {},
     "output_type": "execute_result"
    }
   ],
   "source": [
    "response = requests.get(\n",
    "    url=URL+f\"/api/optimizations/{tsp_id}/representation\",\n",
    "    headers=headers,\n",
    "    params={\"bits\": json.dumps(solution.get(\"solution\").get(\"samples\")[0])}\n",
    ")\n",
    "\n",
    "response.json().get(\"solution\")"
   ]
  },
  {
   "attachments": {},
   "cell_type": "markdown",
   "metadata": {},
   "source": [
    "### E. Getting recommendations on solution algorithms\n",
    "\n",
    "However, in most cases, choosing some arbitrary solver with default parameters is not the most efficient way to solve optimization problems. Instead, you can use LunaSolve's *AI-powered* **Recommendation engine** to get a recommendation for the best solver to solve your particular problem.\n",
    "\n",
    "*Note: the `/recommendation` endpoint is currently still in a prototypical state and as such will only recommend classical solvers. More to come in future updates.*"
   ]
  },
  {
   "cell_type": "code",
   "execution_count": 67,
   "metadata": {},
   "outputs": [
    {
     "data": {
      "text/plain": [
       "{'solver': 'tabu', 'solver_params': {'num_reads': 1}}"
      ]
     },
     "execution_count": 67,
     "metadata": {},
     "output_type": "execute_result"
    }
   ],
   "source": [
    "response = requests.get(\n",
    "    url=URL+f\"/api/optimizations/{tsp_id}/recommendation\",\n",
    "    headers=headers\n",
    ")\n",
    "\n",
    "recommendation = response.json()\n",
    "recommendation"
   ]
  },
  {
   "cell_type": "markdown",
   "metadata": {},
   "source": [
    "Now, use the received recommendation to request a solution from the API"
   ]
  },
  {
   "cell_type": "code",
   "execution_count": 69,
   "metadata": {},
   "outputs": [],
   "source": [
    "response = requests.post(\n",
    "    url=URL+f\"/api/optimizations/{tsp_id}/solutions\",\n",
    "    headers=headers,\n",
    "    params={\"solver_name\": \"tabu_search\"},\n",
    "    json=recommendation.get(\"solver_params\")\n",
    ")\n",
    "\n",
    "solution_url = response.json().get(\"solution_url\")"
   ]
  },
  {
   "cell_type": "code",
   "execution_count": null,
   "metadata": {},
   "outputs": [],
   "source": [
    "# Wait for your solution to be complete\n",
    "\n",
    "response = requests.get(\n",
    "    url=URL+f\"/{solution_url}\",\n",
    "    headers=headers\n",
    ")\n",
    "\n",
    "solution = response.json()"
   ]
  },
  {
   "attachments": {},
   "cell_type": "markdown",
   "metadata": {},
   "source": [
    "### F. Running on quantum hardware\n",
    "\n",
    "Using the same interface as before for classical optimization heuristics, you can also access real QPU time given you have a valid token from the provider.\n",
    "\n",
    "First, use our QPU-token API to add a QPU token to your account."
   ]
  },
  {
   "cell_type": "code",
   "execution_count": null,
   "metadata": {},
   "outputs": [],
   "source": [
    "response = requests.post(\n",
    "    url=URL+f\"/api/users/me/qpu_tokens\",\n",
    "    headers=headers,\n",
    "    json={\n",
    "        \"name\": \"dwave-token\",\n",
    "        \"provider\": \"dwave\",\n",
    "        \"token\": \"<YOURTOKENHERE>\"\n",
    "    }\n",
    ")"
   ]
  },
  {
   "cell_type": "code",
   "execution_count": 28,
   "metadata": {},
   "outputs": [],
   "source": [
    "response = requests.post(\n",
    "    url=URL+f\"/api/optimizations/{tsp_id}/solutions\",\n",
    "    headers=headers,\n",
    "    params={\"solver_name\": \"dwave_qpu\"},\n",
    ")"
   ]
  },
  {
   "cell_type": "code",
   "execution_count": 53,
   "metadata": {},
   "outputs": [
    {
     "data": {
      "text/plain": [
       "{'id': '648c68ce9f9ac53c2885c9a4',\n",
       " 'creation_time': '2023-06-16T13:51:10.601000',\n",
       " 'status': 'ready',\n",
       " 'solution': {'samples': [[False,\n",
       "    False,\n",
       "    False,\n",
       "    False,\n",
       "    True,\n",
       "    False,\n",
       "    False,\n",
       "    False,\n",
       "    False,\n",
       "    False,\n",
       "    True,\n",
       "    False,\n",
       "    False,\n",
       "    False,\n",
       "    True,\n",
       "    False,\n",
       "    False,\n",
       "    False,\n",
       "    False,\n",
       "    False,\n",
       "    False,\n",
       "    False,\n",
       "    False,\n",
       "    True,\n",
       "    False,\n",
       "    False,\n",
       "    False,\n",
       "    False,\n",
       "    False,\n",
       "    True,\n",
       "    False,\n",
       "    False,\n",
       "    True,\n",
       "    False,\n",
       "    False,\n",
       "    False,\n",
       "    False,\n",
       "    False,\n",
       "    False,\n",
       "    False,\n",
       "    False,\n",
       "    True,\n",
       "    False,\n",
       "    False,\n",
       "    False,\n",
       "    False,\n",
       "    False,\n",
       "    True,\n",
       "    True]],\n",
       "  'energies': [-4042.0],\n",
       "  'solver': 'dwave_qpu',\n",
       "  'params': {'qpu_config': {'token': 'DEV-8ff81bc8dff32d02095b8b209466563db405227a',\n",
       "    'config_file': False},\n",
       "   'sample_params': {}},\n",
       "  'runtime': {'total': 18.776005744934082,\n",
       "   'overhead': 18.76004473493408,\n",
       "   'qpu': 0.01596101},\n",
       "  'metadata': {'timing': {'qpu_sampling_time': 175.84,\n",
       "    'qpu_anneal_time_per_sample': 20.0,\n",
       "    'qpu_readout_time_per_sample': 135.3,\n",
       "    'qpu_access_time': 15961.01,\n",
       "    'qpu_access_overhead_time': 1101.99,\n",
       "    'qpu_programming_time': 15785.17,\n",
       "    'qpu_delay_time_per_sample': 20.54,\n",
       "    'total_post_processing_time': 468.0,\n",
       "    'post_processing_overhead_time': 468.0},\n",
       "   'problem_id': 'b36dd1cc-093e-4ab6-8271-d4d5c5def66b'}}}"
      ]
     },
     "execution_count": 53,
     "metadata": {},
     "output_type": "execute_result"
    }
   ],
   "source": [
    "response = requests.get(\n",
    "    url=URL+f\"/api/optimizations/{tsp_id}/solutions/648c68ce9f9ac53c2885c9a4\",\n",
    "    headers=headers\n",
    ")\n",
    "response.json()"
   ]
  },
  {
   "attachments": {},
   "cell_type": "markdown",
   "metadata": {},
   "source": [
    "### G. Accessing your optimizations and solutions\n",
    "\n",
    "As mentioned before, we take care of storing your optimization problems and the corresponding solutions, so you can access them later on again."
   ]
  },
  {
   "cell_type": "code",
   "execution_count": 48,
   "metadata": {},
   "outputs": [
    {
     "data": {
      "text/plain": [
       "['64788626ebb81f268a8f485d',\n",
       " '64804f85c7bc5dfc5c8a3784',\n",
       " '648887e7f441121f32d0451f',\n",
       " '648887f0f441121f32d04520',\n",
       " '648c4eb39f9ac53c2885c995']"
      ]
     },
     "execution_count": 48,
     "metadata": {},
     "output_type": "execute_result"
    }
   ],
   "source": [
    "show_limit = 50\n",
    "response = requests.get(\n",
    "    url=URL+f\"/api/optimizations?limit={show_limit}\",\n",
    "    headers=headers\n",
    ")\n",
    "optimizations = response.json()\n",
    "all_ids = [o['_id'] for o in optimizations]\n",
    "all_ids"
   ]
  },
  {
   "attachments": {},
   "cell_type": "markdown",
   "metadata": {},
   "source": [
    "You can now reuse the optimizations you have already created and, for example, get more results from additional solvers."
   ]
  },
  {
   "cell_type": "code",
   "execution_count": 49,
   "metadata": {},
   "outputs": [],
   "source": [
    "opt_id = all_ids[0]\n",
    "\n",
    "solvers = ['tabu_search', 'simulated_annealing', 'dialectic_search']\n",
    "for s in solvers:\n",
    "    response = requests.post(\n",
    "        url=URL+f\"/api/optimizations/{tsp_id}/solutions\",\n",
    "        headers=headers,\n",
    "        params={\"solver_name\": s},\n",
    "    )"
   ]
  },
  {
   "attachments": {},
   "cell_type": "markdown",
   "metadata": {},
   "source": [
    "And after that, you can similarly access all the solutions you have already created for the problem instance."
   ]
  },
  {
   "cell_type": "code",
   "execution_count": 52,
   "metadata": {},
   "outputs": [
    {
     "data": {
      "text/plain": [
       "['648c506a9f9ac53c2885c997', '648c54eb9f9ac53c2885c99a']"
      ]
     },
     "execution_count": 52,
     "metadata": {},
     "output_type": "execute_result"
    }
   ],
   "source": [
    "response = requests.get(\n",
    "    url=URL+f\"/api/optimizations/{tsp_id}/solutions\",\n",
    "    headers=headers\n",
    ")\n",
    "[sol.get(\"id\") for sol in response.json()]"
   ]
  },
  {
   "attachments": {},
   "cell_type": "markdown",
   "metadata": {},
   "source": [
    "Finally, if at some point you no longer need or want a particular optimization, you of course have the option to remove it from our platform."
   ]
  },
  {
   "cell_type": "code",
   "execution_count": null,
   "metadata": {},
   "outputs": [],
   "source": [
    "requests.delete(\n",
    "    url=URL+f\"/api/optimizations/{opt_id}\",\n",
    "    headers=headers\n",
    ")"
   ]
  },
  {
   "attachments": {},
   "cell_type": "markdown",
   "metadata": {},
   "source": [
    "## Part 5: Open-ended optimization using manually constructed QUBOs\n",
    "\n",
    "As useful as the library of optimization problems is, not all scenarios can be fit cleanly into a pre-defined problem definition. Some users may wish to input and solve their own custom mathematical models. \n",
    "\n",
    "Our services currently make all the samy functionalities available to optimization problems available to problems formulated as QUBO (quadratic unconstrained binary optimization) matrices. The matrices are passed as nested lists of floats."
   ]
  },
  {
   "cell_type": "markdown",
   "metadata": {},
   "source": [
    "### A. Initialize QUBO\n",
    "\n",
    "First, create a list of lists of floats (or integers) which represents the QUBO in question. Then send that qubo to LunaSolve."
   ]
  },
  {
   "cell_type": "code",
   "execution_count": null,
   "metadata": {},
   "outputs": [],
   "source": [
    "qubo = [\n",
    "    [4, 0, 0, 0, -2],\n",
    "    [0, -2, 0, 0, 0],\n",
    "    [0, 0, 6, -3, 0],\n",
    "    [0, 0, -3, 2, 0],\n",
    "    [-2, 0, 0, 0, 5]\n",
    "]"
   ]
  },
  {
   "cell_type": "code",
   "execution_count": null,
   "metadata": {},
   "outputs": [],
   "source": [
    "response = requests.post(\n",
    "    url=URL+f\"/api/qubos\",\n",
    "    headers=headers,\n",
    "    json={\"matrix\": qubo}\n",
    ")\n",
    "\n",
    "qubo_id = response.json().get(\"_id\")\n",
    "f\"id: {qubo_id}\""
   ]
  },
  {
   "cell_type": "markdown",
   "metadata": {},
   "source": [
    "### B. Solve QUBO\n",
    "\n",
    "Request the creation of a new solution for the QUBO and retrieve it once solving is completed."
   ]
  },
  {
   "cell_type": "code",
   "execution_count": null,
   "metadata": {},
   "outputs": [],
   "source": [
    "response = requests.post(\n",
    "    url=URL+f\"/api/qubos/{qubo_id}/solutions\",\n",
    "    headers=headers,\n",
    "    params={\"solver_name\": \"simulated_annealing\"}\n",
    "    json={\"num_sweeps\": 100, \"num_reads\"= 10}\n",
    ")\n",
    "\n",
    "solution = response.json()\n",
    "solution"
   ]
  },
  {
   "cell_type": "markdown",
   "metadata": {},
   "source": [
    "### C. Custom Solving Heuristic\n",
    "\n",
    "Researchers are often wish to develop their own proprietary heuristics for solving QUBOs effectively. These can involve complicated business logic for pre- and post-processing of results. LunaSolve can support developers of optimization heuristics by unifying the access point to both classical and quantum solvers. \n",
    "\n",
    "As an example of how Luna's integration could support the development of an innovative approach to QUBO solving, one can imagine a heuristic which strategically splits a QUBO into sub-QUBOs, which are then sent to existing solvers so that the results can be brought together to for an optimal total solution. This kind of functionality can be easily achieved using LunaSolve, as the business logic behind the novel heuristic can be written and maintained in the desired programming language and corresponding repository, while the Luna platform acts as a signel point of access to the solving heuristics which must be called inside the custom algorithm."
   ]
  }
 ],
 "metadata": {
  "kernelspec": {
   "display_name": "Python 3",
   "language": "python",
   "name": "python3"
  },
  "language_info": {
   "codemirror_mode": {
    "name": "ipython",
    "version": 3
   },
   "file_extension": ".py",
   "mimetype": "text/x-python",
   "name": "python",
   "nbconvert_exporter": "python",
   "pygments_lexer": "ipython3",
   "version": "3.10.8"
  }
 },
 "nbformat": 4,
 "nbformat_minor": 2
}
