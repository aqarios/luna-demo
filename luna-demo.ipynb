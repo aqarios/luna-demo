{
 "cells": [
  {
   "cell_type": "markdown",
   "metadata": {},
   "source": [
    "# Aqarios Luna Platform Demo\n",
    "\n",
    "This jupyter notebook will walk you through some of the potential uses of the Luna platform with the goal of demonstrating how this tool can be integrated into existing workflows. \n",
    "\n",
    "This demo will only include functionality from LunaSolve, our platform focused on optimization using state-of-the-art quantum, hybrid, and classical heuristics.\n",
    "\n",
    "The structure of this notebook is as follows:\n",
    " - **Part 1**: Introduction\n",
    " - **Part 2**: LunaSolve\n",
    " - **Part 3**: Setup\n",
    " - **Part 4**: Real-world optimization using built-in transformations\n",
    " - **Part 5**: Open-ended optimization using manually constructed QUBOs\n",
    "\n",
    "For a complete overview of our API's functionality visit https://api.aqarios.com/docs for interative documentation."
   ]
  },
  {
   "cell_type": "markdown",
   "metadata": {},
   "source": [
    "## Part 1: Introduction\n",
    "Many business problems that companies face today can be formulated as optimization problems, whether in supply chain management, portfolio optimization, or balancing demand and supply for electricity. However, many of our real-world optimization problems are so complex that they cannot be solved efficiently or at all with our current hardware - *classical computers*. This leads to extremely inefficient workflows throughout our economy and huge losses that can even run into the billions for larger companies.\n",
    "\n",
    "This is exactly where **Quantum Computing** will come into their own. The huge leap in computing power and speed will allow us to efficiently solve these optimization problems, leading to unimaginable advances in the future of our economy.\n",
    "\n",
    "Aqarios Luna is a platform that will enable businesses to benefit from quantum technology and solve the most complex business problems. While quantum computers have tremendous potential, the complexity of communicating with them as well as understanding and applying the algorithms is a major hurdle to overcome and one that many companies struggle with. This is where we come in - Luna provides an intuitive and easy-to-use interface for accessing and applying quantum computing from the perspective of a business user - the use case and its solution. With Luna, there is no need to understand how quantum algorithms work in order to apply them. At the same time, Luna offers full customization and flexibility for those users who have the necessary knowledge and want to delve deeper.\n"
   ]
  },
  {
   "cell_type": "markdown",
   "metadata": {},
   "source": [
    "## Part 2: LunaSolve\n",
    "\n",
    "The service you will learn about in this notebook is **LunaSolve**, our service for solving optimization problems efficiently. LunaSolve offers 3 main functions:\n",
    "\n",
    "- **Transform**: You can provide us with your use case in a predefined but intuitive and easy to understand format, which we will automatically transform into the necessary format to solve the problem on quantum devices.\n",
    "- **Recommend**: We give you a recommendation on the best algorithm and hardware to use to solve your specific problem.\n",
    "- **Solve**: You tell us which solver you want to use - we take care of everything necessary to get the algorithm onto quantum hardware and solve your problem.\n",
    "\n",
    "Note that our platform automatically saves your problem formulations and generated solutions, so you can access them again at any later time without having to resubmit the optimization problem or run the solver again."
   ]
  },
  {
   "cell_type": "markdown",
   "metadata": {},
   "source": [
    "## Part 3: Setup\n",
    "\n",
    "In order to make this notebook interactive, there are a few necessary steps to setup our environment."
   ]
  },
  {
   "cell_type": "markdown",
   "metadata": {},
   "source": [
    "### A. Install the necessary packages"
   ]
  },
  {
   "cell_type": "code",
   "execution_count": null,
   "metadata": {},
   "outputs": [],
   "source": [
    "%pip install requests\n",
    "%pip install networkx"
   ]
  },
  {
   "cell_type": "markdown",
   "metadata": {},
   "source": [
    "### B. Set the API URL for requests"
   ]
  },
  {
   "cell_type": "code",
   "execution_count": 17,
   "metadata": {},
   "outputs": [],
   "source": [
    "# URL = \"https://api.aqarios.com\"\n",
    "URL = \"http://0.0.0.0:8000\""
   ]
  },
  {
   "cell_type": "markdown",
   "metadata": {},
   "source": [
    "### C. Authenticate your account\n",
    "\n",
    "Create a file in this same directory named: `credentials.json`.\n",
    "\n",
    "This will house your secret login information so that you can request access tokens from the platform.\n",
    "\n",
    "The file should look like this:\n",
    "\n",
    "```\n",
    "{\n",
    "    \"username\": \"YOUREMAILHERE\",\n",
    "    \"password\": \"YOURPASSWORDHERE\"\n",
    "}\n",
    "```"
   ]
  },
  {
   "cell_type": "code",
   "execution_count": 15,
   "metadata": {},
   "outputs": [],
   "source": [
    "import json\n",
    "import requests"
   ]
  },
  {
   "cell_type": "code",
   "execution_count": 87,
   "metadata": {},
   "outputs": [],
   "source": [
    "# get credentials from secret file\n",
    "with open(\"credentials.json\", 'r') as f:\n",
    "    credentials = json.load(f)\n",
    "    username = credentials['username']\n",
    "    password = credentials['password']\n",
    "\n",
    "# request API for token using credentials\n",
    "response = requests.post(\n",
    "    url=URL+\"/accessToken\",\n",
    "    data={\n",
    "        \"username\": username,\n",
    "        \"password\": password\n",
    "    }\n",
    ")\n",
    "\n",
    "# set received token as header\n",
    "token = response.json().get(\"access_token\")\n",
    "headers = {\"Authorization\": f\"Bearer {token}\"}"
   ]
  },
  {
   "cell_type": "markdown",
   "metadata": {},
   "source": [
    "## Part 4: Real-world optimization\n",
    "\n",
    "There are many computationally challenging optimization problems defined in the literature, which cover a variety of domains. Examples like the Traveling Salesman Problem, Job-Shop Scheduling, or the Knapsack Problem are likely familiar to many who have spent time in the field. \n",
    "\n",
    "Many, but not all, of these optimization problems have been analized by researchers interested in attempting to solve them of quantum hardware. This process requires a transformative step. \n",
    "\n",
    "While the Traveling Salesman Problem is described by a graph which contains all the desired destinations and the distances between them, this representation is not suitable for current quantum annealer, let alone classical optimization heuristics. \n",
    "\n",
    "This is the first functionaly of LunaSolve: **Transform**. \n",
    "\n",
    "We provide users with a built-in library of (currently) **40** different optimization problems which can be configured using human-readable data formats (such as graphs). These are then automatically transformed into appropriate mathematical represetations for quantum computers."
   ]
  },
  {
   "cell_type": "markdown",
   "metadata": {},
   "source": [
    "### A. Retrieve available optimizations\n",
    "\n",
    "The list of currently available optimizations can be retrieved using the `/api/problem/info/all` endpoint. However, we recommend browsing this information using the interactive documentation referenced above.\n",
    "\n",
    "Here is an example of an optimization specification from the docs:\n",
    "\n",
    "<div>\n",
    "<img src=\"static/tsp-docs.jpg\" width=\"800\"/>\n",
    "</div>\n",
    "\n",
    "This includes a description of the optimization problem, its attributes, and references to the publication that its transformation is taken from.\n",
    "\n",
    "The full list can be found by:\n",
    "1. Navigating to https://api.aqarios.com/docs#/Optimizations/create_optimization_api_optimizations_post\n",
    "2. Clicking on **Schema** in the Request Body section.\n",
    "3. Opening the `instance` dropdown.\n",
    "4. Opening the optimization problem of your choice.\n"
   ]
  },
  {
   "cell_type": "markdown",
   "metadata": {},
   "source": [
    "### B. Create an instance of an optimization\n",
    "\n",
    "Suppose you need to coordinate the shipping of wholesale products to across Germany. You have retailers in the seven largest German cites and want to deliver all of your product at once using the shortest route possible to minize transportation costs.\n",
    "\n",
    "After browsing our list of available optimization problems, you notice that we have already implemented the Travelling Salesman problem. After reviewing the schema of the formulation in the manner described above, you find that the problem can be referenced by the *name* TSP and you see that the problem can be defined by a graph with edge weights representing the distances between each major city."
   ]
  },
  {
   "cell_type": "code",
   "execution_count": null,
   "metadata": {},
   "outputs": [],
   "source": [
    "import networkx as nx"
   ]
  },
  {
   "cell_type": "code",
   "execution_count": null,
   "metadata": {},
   "outputs": [],
   "source": [
    "# Create an empty graph\n",
    "graph = nx.Graph()\n",
    "\n",
    "# Add nodes\n",
    "cities = ['Berlin', 'Hamburg', 'Munich', 'Cologne', 'Frankfurt', 'Stuttgart', 'Düsseldorf']\n",
    "graph.add_nodes_from(cities)\n",
    "\n",
    "# Add edges and their weights (distances between cities)\n",
    "edges = [('Berlin', 'Hamburg', 289), \n",
    "         ('Berlin', 'Munich', 590), \n",
    "         ('Berlin', 'Cologne', 579), \n",
    "         ('Berlin', 'Frankfurt', 551), \n",
    "         ('Berlin', 'Stuttgart', 639), \n",
    "         ('Berlin', 'Düsseldorf', 569), \n",
    "         ('Hamburg', 'Munich', 791), \n",
    "         ('Hamburg', 'Cologne', 433), \n",
    "         ('Hamburg', 'Frankfurt', 493), \n",
    "         ('Hamburg', 'Stuttgart', 656), \n",
    "         ('Hamburg', 'Düsseldorf', 401), \n",
    "         ('Munich', 'Cologne', 573), \n",
    "         ('Munich', 'Frankfurt', 392), \n",
    "         ('Munich', 'Stuttgart', 233), \n",
    "         ('Munich', 'Düsseldorf', 612), \n",
    "         ('Cologne', 'Frankfurt', 212), \n",
    "         ('Cologne', 'Stuttgart', 377), \n",
    "         ('Cologne', 'Düsseldorf', 54), \n",
    "         ('Frankfurt', 'Stuttgart', 205), \n",
    "         ('Frankfurt', 'Düsseldorf', 229), \n",
    "         ('Stuttgart', 'Düsseldorf', 416)]\n",
    "graph.add_weighted_edges_from(edges)\n",
    "\n",
    "graph_data = nx.to_dict_of_dicts(graph)"
   ]
  },
  {
   "cell_type": "markdown",
   "metadata": {},
   "source": [
    "Now send a request to the API to create a new optimization instance according to this graph specification. The optimization is stored in the platform and can be referenced with an ID from now on."
   ]
  },
  {
   "cell_type": "code",
   "execution_count": null,
   "metadata": {},
   "outputs": [],
   "source": [
    "request_body = {\n",
    "    \"instance\": {\n",
    "        \"name\": \"TSP\",\n",
    "        \"graph\": graph_data\n",
    "    }\n",
    "}\n",
    "\n",
    "response = requests.post(\n",
    "    url=URL+\"/api/optimizations\",\n",
    "    headers=headers,\n",
    "    json=request_body\n",
    ")\n",
    "\n",
    "tsp_id = response.json().get(\"_id\")\n",
    "f\"id: {tsp_id}\""
   ]
  },
  {
   "cell_type": "markdown",
   "metadata": {},
   "source": [
    "### C. Solve your optimization\n",
    "\n",
    "Now that you have obtained an ID for your TSP problem, you can start using LunaSolve's other services. In addition to our large library of use cases, we also provide a library of **more than 40 algorithms** that you can choose from to solve your optimization problem.\n",
    "\n",
    "Similar to the problem formulations, you can also view a list of all solvers that we have implemented and are ready to be used. You can access this list via the `/api/info/solvers/available` endpoint or again via our interactive documentation. You can also get more detailed information about each solver using the `/api/info/solvers` end point."
   ]
  },
  {
   "cell_type": "code",
   "execution_count": null,
   "metadata": {},
   "outputs": [],
   "source": [
    "response = requests.get(\n",
    "    url=URL+\"/api/info/solvers/available\",\n",
    "    headers=headers\n",
    ")\n",
    "\n",
    "response.json()"
   ]
  },
  {
   "cell_type": "markdown",
   "metadata": {},
   "source": [
    "Each solver represents a different approach to solving optimization problems and therefore can be configured differently. To allow you to configure your algorithm exactly as you wish, we provide the ability to send solver-specific parameters to each run of the algorithms. Again, we provide detailed documentation on all solvers and their corresponding parameters.\n",
    "\n",
    "Solvers are divided into several categories depending on their origin and/or underlying hardware."
   ]
  },
  {
   "cell_type": "code",
   "execution_count": null,
   "metadata": {},
   "outputs": [],
   "source": [
    "response = requests.get(\n",
    "    url=URL+\"/api/info/solvers\",\n",
    "    headers=headers\n",
    ")\n",
    "\n",
    "solvers = response.json()\n",
    "solvers.keys()"
   ]
  },
  {
   "cell_type": "markdown",
   "metadata": {},
   "source": [
    "Let's take a look at all solvers offered by D-Wave Systems."
   ]
  },
  {
   "cell_type": "code",
   "execution_count": null,
   "metadata": {},
   "outputs": [],
   "source": [
    "dwave_solvers = [solver['full_name'] for solver in solvers['DWave']]\n",
    "dwave_solvers"
   ]
  },
  {
   "cell_type": "code",
   "execution_count": null,
   "metadata": {},
   "outputs": [],
   "source": [
    "solvers[\"DWave\"]"
   ]
  },
  {
   "cell_type": "markdown",
   "metadata": {},
   "source": [
    "Now let's assume that we want to solve the problem with Simulated Annealing. Let's first take a look at how this algorithm is defined."
   ]
  },
  {
   "cell_type": "code",
   "execution_count": null,
   "metadata": {},
   "outputs": [],
   "source": [
    "sa = next(x for x in solvers['DWave'] if x['full_name'] == 'simulated_annealing') \n",
    "print(sa['description'])"
   ]
  },
  {
   "cell_type": "markdown",
   "metadata": {},
   "source": [
    "In case you are not sure which parameters to choose, you can go with our default parameters."
   ]
  },
  {
   "cell_type": "code",
   "execution_count": null,
   "metadata": {},
   "outputs": [],
   "source": [
    "sa_params = sa['params']\n",
    "sa_params"
   ]
  },
  {
   "cell_type": "markdown",
   "metadata": {},
   "source": [
    "Now that we have decided on an algorithm and the parameters, let's actually solve our problem from before."
   ]
  },
  {
   "cell_type": "code",
   "execution_count": null,
   "metadata": {},
   "outputs": [],
   "source": [
    "response = requests.post(\n",
    "    url=URL+f\"/api/optimizations/{tsp_id}/solutions\",\n",
    "    headers=headers,\n",
    "    params={\"solver_name\": \"simulated_annealing\"},\n",
    "    # You can also simply omit the json parameter if you want to use the default parameters.\n",
    "    json=sa_params\n",
    ")"
   ]
  },
  {
   "cell_type": "markdown",
   "metadata": {},
   "source": [
    "Since some solvers (especially quantum hardware) can take a long time to call, we don't want to keep you and the execution of your code waiting during this time. Instead, when a solution is requested, a 202 code is returned with a `solution_url` where the final result can be retrieved via the API once the computation is complete."
   ]
  },
  {
   "cell_type": "code",
   "execution_count": null,
   "metadata": {},
   "outputs": [],
   "source": [
    "solution_url = response.json().get(\"solution_url\")\n",
    "\n",
    "# Here you may have to wait, depending on the software and hardware you have chosen and how complex your problem is.\n",
    "\n",
    "response = requests.get(\n",
    "    url=URL+f\"/{solution_url}\",\n",
    "    headers=headers\n",
    ")\n",
    "\n",
    "solution = response.json()\n",
    "solution.get(\"solution\")"
   ]
  },
  {
   "attachments": {},
   "cell_type": "markdown",
   "metadata": {},
   "source": [
    "### D. Making samples readable\n",
    "\n",
    "Most optimization problems in our API have built in back-transformations to translate binary solution vectors back into the semantic context of their original problem. You can use this endpoint to quickly make sense of the solutions the solvers generate for you."
   ]
  },
  {
   "cell_type": "code",
   "execution_count": null,
   "metadata": {},
   "outputs": [],
   "source": [
    "response = requests.get(\n",
    "    url=URL+f\"/api/optimizations/{tsp_id}/representation\",\n",
    "    headers=headers,\n",
    "    params={\"bits\": json.dumps(solution.get(\"solution\").get(\"samples\")[0])}\n",
    ")\n",
    "\n",
    "response.json().get(\"solution\")"
   ]
  },
  {
   "attachments": {},
   "cell_type": "markdown",
   "metadata": {},
   "source": [
    "### E. Getting recommendations on solution algorithms\n",
    "\n",
    "However, in most cases, choosing some arbitrary solver with default parameters is not the most efficient way to solve optimization problems. Instead, you can use LunaSolve's *AI-powered* **Recommendation engine** to get a recommendation for the best solver to solve your particular problem.\n",
    "\n",
    "*Note: the `/recommendation` endpoint is currently still in a prototypical state and as such will only recommend classical solvers. More to come in future updates.*"
   ]
  },
  {
   "cell_type": "code",
   "execution_count": null,
   "metadata": {},
   "outputs": [],
   "source": [
    "response = requests.get(\n",
    "    url=URL+f\"/api/optimizations/{tsp_id}/recommendation\",\n",
    "    headers=headers\n",
    ")\n",
    "\n",
    "recommendation = response.json()\n",
    "recommendation"
   ]
  },
  {
   "cell_type": "markdown",
   "metadata": {},
   "source": [
    "Now, use the received recommendation to request a solution from the API"
   ]
  },
  {
   "cell_type": "code",
   "execution_count": null,
   "metadata": {},
   "outputs": [],
   "source": [
    "response = requests.post(\n",
    "    url=URL+f\"/api/optimizations/{tsp_id}/solutions\",\n",
    "    headers=headers,\n",
    "    params={\"solver_name\": recommendation.get(\"solver\")},\n",
    "    json=recommendation.get(\"solver_params\")\n",
    ")\n",
    "\n",
    "solution_url = response.json().get(\"solution_url\")"
   ]
  },
  {
   "cell_type": "code",
   "execution_count": null,
   "metadata": {},
   "outputs": [],
   "source": [
    "# Wait for your solution to be complete\n",
    "\n",
    "response = requests.get(\n",
    "    url=URL+f\"/{solution_url}\",\n",
    "    headers=headers\n",
    ")\n",
    "\n",
    "solution = response.json()\n",
    "solution"
   ]
  },
  {
   "attachments": {},
   "cell_type": "markdown",
   "metadata": {},
   "source": [
    "### F. Running on quantum hardware\n",
    "\n",
    "Using the same interface as before for classical optimization heuristics, you can also access real QPU time given you have a valid token from the provider.\n",
    "\n",
    "First, use our QPU-token API to add a QPU token to your account."
   ]
  },
  {
   "cell_type": "code",
   "execution_count": null,
   "metadata": {},
   "outputs": [],
   "source": [
    "response = requests.post(\n",
    "    url=URL+f\"/api/users/me/qpu_tokens\",\n",
    "    headers=headers,\n",
    "    json={\n",
    "        \"name\": \"dwave-token\",\n",
    "        \"provider\": \"dwave\",\n",
    "        \"token\": \"<YOURTOKENHERE>\"\n",
    "    }\n",
    ")"
   ]
  },
  {
   "cell_type": "code",
   "execution_count": null,
   "metadata": {},
   "outputs": [],
   "source": [
    "response = requests.post(\n",
    "    url=URL+f\"/api/optimizations/{tsp_id}/solutions\",\n",
    "    headers=headers,\n",
    "    params={\"solver_name\": \"dwave_qpu\"},\n",
    ")"
   ]
  },
  {
   "cell_type": "code",
   "execution_count": null,
   "metadata": {},
   "outputs": [],
   "source": [
    "response = requests.get(\n",
    "    url=URL+f\"/api/optimizations/{tsp_id}/solutions/648c68ce9f9ac53c2885c9a4\",\n",
    "    headers=headers\n",
    ")\n",
    "response.json()"
   ]
  },
  {
   "attachments": {},
   "cell_type": "markdown",
   "metadata": {},
   "source": [
    "### G. Accessing your optimizations and solutions\n",
    "\n",
    "As mentioned before, we take care of storing your optimization problems and the corresponding solutions, so you can access them later on again."
   ]
  },
  {
   "cell_type": "code",
   "execution_count": null,
   "metadata": {},
   "outputs": [],
   "source": [
    "show_limit = 50\n",
    "response = requests.get(\n",
    "    url=URL+f\"/api/optimizations?limit={show_limit}\",\n",
    "    headers=headers\n",
    ")\n",
    "optimizations = response.json()\n",
    "all_ids = [o['_id'] for o in optimizations]\n",
    "all_ids"
   ]
  },
  {
   "attachments": {},
   "cell_type": "markdown",
   "metadata": {},
   "source": [
    "You can now reuse the optimizations you have already created and, for example, get more results from additional solvers."
   ]
  },
  {
   "cell_type": "code",
   "execution_count": null,
   "metadata": {},
   "outputs": [],
   "source": [
    "opt_id = all_ids[0]\n",
    "\n",
    "solvers = ['tabu_search', 'simulated_annealing', 'dialectic_search']\n",
    "for s in solvers:\n",
    "    response = requests.post(\n",
    "        url=URL+f\"/api/optimizations/{tsp_id}/solutions\",\n",
    "        headers=headers,\n",
    "        params={\"solver_name\": s},\n",
    "    )"
   ]
  },
  {
   "attachments": {},
   "cell_type": "markdown",
   "metadata": {},
   "source": [
    "And after that, you can similarly access all the solutions you have already created for the problem instance."
   ]
  },
  {
   "cell_type": "code",
   "execution_count": null,
   "metadata": {},
   "outputs": [],
   "source": [
    "response = requests.get(\n",
    "    url=URL+f\"/api/optimizations/{tsp_id}/solutions\",\n",
    "    headers=headers\n",
    ")\n",
    "[sol.get(\"id\") for sol in response.json()]"
   ]
  },
  {
   "attachments": {},
   "cell_type": "markdown",
   "metadata": {},
   "source": [
    "Finally, if at some point you no longer need or want a particular optimization, you of course have the option to remove it from our platform."
   ]
  },
  {
   "cell_type": "code",
   "execution_count": null,
   "metadata": {},
   "outputs": [],
   "source": [
    "requests.delete(\n",
    "    url=URL+f\"/api/optimizations/{opt_id}\",\n",
    "    headers=headers\n",
    ")"
   ]
  },
  {
   "attachments": {},
   "cell_type": "markdown",
   "metadata": {},
   "source": [
    "## Part 5: Open-ended optimization using manually constructed QUBOs\n",
    "\n",
    "As useful as the library of optimization problems is, not all scenarios can be fit cleanly into a pre-defined problem definition. Some users may wish to input and solve their own custom mathematical models. \n",
    "\n",
    "Our services currently make all the samy functionalities available to optimization problems available to problems formulated as QUBO (quadratic unconstrained binary optimization) matrices. The matrices are passed as nested lists of floats."
   ]
  },
  {
   "cell_type": "markdown",
   "metadata": {},
   "source": [
    "### A. Initialize QUBO\n",
    "\n",
    "First, create a list of lists of floats (or integers) which represents the QUBO in question. Then send that qubo to LunaSolve."
   ]
  },
  {
   "cell_type": "code",
   "execution_count": null,
   "metadata": {},
   "outputs": [],
   "source": [
    "qubo = [\n",
    "    [4, 0, 0, 0, -2],\n",
    "    [0, -2, 0, 0, 0],\n",
    "    [0, 0, 6, -3, 0],\n",
    "    [0, 0, -3, 2, 0],\n",
    "    [-2, 0, 0, 0, 5]\n",
    "]"
   ]
  },
  {
   "cell_type": "code",
   "execution_count": null,
   "metadata": {},
   "outputs": [],
   "source": [
    "response = requests.post(\n",
    "    url=URL+f\"/api/qubos\",\n",
    "    headers=headers,\n",
    "    json={\"matrix\": qubo}\n",
    ")\n",
    "\n",
    "qubo_id = response.json().get(\"_id\")\n",
    "f\"id: {qubo_id}\""
   ]
  },
  {
   "cell_type": "markdown",
   "metadata": {},
   "source": [
    "### B. Solve QUBO\n",
    "\n",
    "Request the creation of a new solution for the QUBO and retrieve it once solving is completed."
   ]
  },
  {
   "cell_type": "code",
   "execution_count": null,
   "metadata": {},
   "outputs": [],
   "source": [
    "response = requests.post(\n",
    "    url=URL+f\"/api/qubos/{qubo_id}/solutions\",\n",
    "    headers=headers,\n",
    "    params={\"solver_name\": \"simulated_annealing\"},\n",
    "    json={\"num_sweeps\": 100, \"num_reads\": 10}\n",
    ")\n",
    "\n",
    "solution = response.json()\n",
    "solution"
   ]
  },
  {
   "cell_type": "markdown",
   "metadata": {},
   "source": [
    "### C. Custom Solving Heuristic\n",
    "\n",
    "Researchers are often wish to develop their own proprietary heuristics for solving QUBOs effectively. These can involve complicated business logic for pre- and post-processing of results. LunaSolve can support developers of optimization heuristics by unifying the access point to both classical and quantum solvers. \n",
    "\n",
    "As an example of how Luna's integration could support the development of an innovative approach to QUBO solving, one can imagine a heuristic which strategically splits a QUBO into sub-QUBOs, which are then sent to existing solvers so that the results can be brought together to for an optimal total solution. This kind of functionality can be easily achieved using LunaSolve, as the business logic behind the novel heuristic can be written and maintained in the desired programming language and corresponding repository, while the Luna platform acts as a signel point of access to the solving heuristics which must be called inside the custom algorithm."
   ]
  },
  {
   "attachments": {},
   "cell_type": "markdown",
   "metadata": {},
   "source": [
    "## Part 6: Native quantum circuits\n",
    "\n",
    "Luna also provides users the ability to send full quantum gate circuits to IBM's Qiskit service for execution. Circuits are encoded according to the Qiskit specification (.py file for source code a .json file containing metadata about the program) and are sent to API in Base64 encoding."
   ]
  },
  {
   "attachments": {},
   "cell_type": "markdown",
   "metadata": {},
   "source": [
    "### A. Create circuit\n",
    "\n",
    "An example circuit and metadata are located in this repository in the `example_circuit` directory.\n",
    "\n",
    "NOTE: The circuit initializes some qubits, but simply returns the string \"Done.\" upon succesful completion."
   ]
  },
  {
   "cell_type": "code",
   "execution_count": 92,
   "metadata": {},
   "outputs": [],
   "source": [
    "import base64"
   ]
  },
  {
   "cell_type": "code",
   "execution_count": 32,
   "metadata": {},
   "outputs": [],
   "source": [
    "program = None\n",
    "program_metadata = None\n",
    "\n",
    "# open the file in binary mode\n",
    "with open(\"example_circuit/program.py\", 'rb') as file:\n",
    "    # read the contents of the file\n",
    "    file_contents = file.read()\n",
    "\n",
    "    # encode the file contents as base64\n",
    "    program = base64.b64encode(file_contents)\n",
    "\n",
    "    # decode to string\n",
    "    program = program.decode('utf-8')\n",
    "\n",
    "with open(\"example_circuit/program.json\", \"rb\") as file:\n",
    "    file_contents = file.read()\n",
    "    program_metadata = base64.b64encode(file_contents)\n",
    "    program_metadata = program_metadata.decode('utf-8')\n"
   ]
  },
  {
   "cell_type": "code",
   "execution_count": 88,
   "metadata": {},
   "outputs": [],
   "source": [
    "body = {\n",
    "    \"name\": \"TestCircuit\",\n",
    "    \"circuit\": {\n",
    "        \"program\": program,\n",
    "        \"program_metadata\": program_metadata\n",
    "    },\n",
    "    \"inputs\": {\"iterations\": 10},\n",
    "    \"options\": {\"backend_name\": \"ibmq_lima\" }\n",
    "}\n",
    "body_json = json.dumps(body)"
   ]
  },
  {
   "cell_type": "code",
   "execution_count": 89,
   "metadata": {},
   "outputs": [
    {
     "data": {
      "text/plain": [
       "{'organization': {'id': '646e2144eb61924ca4b938c2',\n",
       "  'collection': 'organization'},\n",
       " 'name': 'TestCircuit',\n",
       " 'created_date': '2023-07-19T19:36:55.352000',\n",
       " 'created_by': '646e2144eb61924ca4b938c3',\n",
       " 'modified_date': '2023-07-19T19:36:56.611000',\n",
       " 'modified_by': None,\n",
       " 'read_access': [],\n",
       " 'write_access': [],\n",
       " '_id': '64b83b5752468160e54057cf',\n",
       " 'result': None}"
      ]
     },
     "execution_count": 89,
     "metadata": {},
     "output_type": "execute_result"
    }
   ],
   "source": [
    "response = requests.post(\n",
    "    url=URL+f\"/api/circuits\",\n",
    "    headers=headers,\n",
    "    json=body\n",
    ")\n",
    "result = response.json()\n",
    "id = result.get(\"_id\")\n",
    "result"
   ]
  },
  {
   "attachments": {},
   "cell_type": "markdown",
   "metadata": {},
   "source": [
    "### B. Get circuit results\n",
    "\n",
    "This endpoint requests the results of the job from IBM's Qiskit service. Wait times maybe be long for true quantum hardware."
   ]
  },
  {
   "cell_type": "code",
   "execution_count": 93,
   "metadata": {},
   "outputs": [
    {
     "data": {
      "text/plain": [
       "'Queued'"
      ]
     },
     "execution_count": 93,
     "metadata": {},
     "output_type": "execute_result"
    }
   ],
   "source": [
    "response = requests.get(\n",
    "    url=URL+f\"/api/circuits/{id}\",\n",
    "    headers=headers,\n",
    "    json=body\n",
    ")\n",
    "result = response.json()\n",
    "result.get(\"result\")"
   ]
  }
 ],
 "metadata": {
  "kernelspec": {
   "display_name": "Python 3",
   "language": "python",
   "name": "python3"
  },
  "language_info": {
   "codemirror_mode": {
    "name": "ipython",
    "version": 3
   },
   "file_extension": ".py",
   "mimetype": "text/x-python",
   "name": "python",
   "nbconvert_exporter": "python",
   "pygments_lexer": "ipython3",
   "version": "3.10.8"
  }
 },
 "nbformat": 4,
 "nbformat_minor": 2
}
