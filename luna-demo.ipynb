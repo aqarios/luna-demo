{
 "cells": [
  {
   "cell_type": "markdown",
   "metadata": {},
   "source": [
    "# Aqarios Luna Platform Demo\n",
    "\n",
    "This jupyter notebook will walk you through some of the potential uses of the Luna platform with the goal of demonstrating how this tool can be integrated into existing workflows. \n",
    "\n",
    "This demo will only include functionality from LunaSolve, our platform focused on optimization using state-of-the-art quantum, hybrid, and classical heuristics.\n",
    "\n",
    "The structure of this notebook is as follows:\n",
    " - **Part 1**: Introduction\n",
    " - **Part 2**: LunaSolve\n",
    " - **Part 3**: Setup\n",
    " - **Part 4**: Real-world optimization using built-in transformations\n",
    " - **Part 5**: Open-ended optimization using manually constructed QUBOs\n",
    "\n",
    "For a complete overview of our API's functionality visit https://api.aqarios.com/docs for interative documentation."
   ]
  },
  {
   "cell_type": "markdown",
   "metadata": {},
   "source": [
    "## Part 1: Introduction\n",
    "Many business problems that companies face today can be formulated as optimization problems, whether in supply chain management, portfolio optimization, or balancing demand and supply for electricity. However, many of our real-world optimization problems are so complex that they cannot be solved efficiently or at all with our current hardware - *classical computers*. This leads to extremely inefficient workflows throughout our economy and huge losses that can even run into the billions for larger companies.\n",
    "\n",
    "This is exactly where **Quantum Computing** will come into their own. The huge leap in computing power and speed will allow us to efficiently solve these optimization problems, leading to unimaginable advances in the future of our economy.\n",
    "\n",
    "Aqarios Luna is a platform that will enable businesses to benefit from quantum technology and solve the most complex business problems. While quantum computers have tremendous potential, the complexity of communicating with them as well as understanding and applying the algorithms is a major hurdle to overcome and one that many companies struggle with. This is where we come in - Luna provides an intuitive and easy-to-use interface for accessing and applying quantum computing from the perspective of a business user - the use case and its solution. With Luna, there is no need to understand how quantum algorithms work in order to apply them. At the same time, Luna offers full customization and flexibility for those users who have the necessary knowledge and want to delve deeper.\n"
   ]
  },
  {
   "cell_type": "markdown",
   "metadata": {},
   "source": [
    "## Part 2: LunaSolve\n",
    "\n",
    "The service you will learn about in this notebook is **LunaSolve**, our service for solving optimization problems efficiently. LunaSolve offers 3 main functions:\n",
    "\n",
    "- **Transform**: You can provide us with your use case in a predefined but intuitive and easy to understand format, which we will automatically transform into the necessary format to solve the problem on quantum devices.\n",
    "- **Recommend**: We give you a recommendation on the best algorithm and hardware to use to solve your specific problem.\n",
    "- **Solve**: You tell us which solver you want to use - we take care of everything necessary to get the algorithm onto quantum hardware and solve your problem.\n",
    "\n",
    "Note that our platform automatically saves your problem formulations and generated solutions, so you can access them again at any later time without having to resubmit the optimization problem or run the solver again."
   ]
  },
  {
   "cell_type": "markdown",
   "metadata": {},
   "source": [
    "## Part 3: Setup\n",
    "\n",
    "In order to make this notebook interactive, there are a few necessary steps to setup our environment."
   ]
  },
  {
   "cell_type": "markdown",
   "metadata": {},
   "source": [
    "### A. Install the necessary packages"
   ]
  },
  {
   "cell_type": "code",
   "execution_count": 2,
   "metadata": {},
   "outputs": [
    {
     "name": "stdout",
     "output_type": "stream",
     "text": [
      "Requirement already satisfied: requests in /home/michael/PycharmProjects/IntroductionToAI/commonroad-search/venv/lib/python3.7/site-packages (2.28.0)\n",
      "Requirement already satisfied: certifi>=2017.4.17 in /home/michael/PycharmProjects/IntroductionToAI/commonroad-search/venv/lib/python3.7/site-packages (from requests) (2022.6.15)\n",
      "Requirement already satisfied: charset-normalizer~=2.0.0 in /home/michael/PycharmProjects/IntroductionToAI/commonroad-search/venv/lib/python3.7/site-packages (from requests) (2.0.12)\n",
      "Requirement already satisfied: idna<4,>=2.5 in /home/michael/PycharmProjects/IntroductionToAI/commonroad-search/venv/lib/python3.7/site-packages (from requests) (3.3)\n",
      "Requirement already satisfied: urllib3<1.27,>=1.21.1 in /home/michael/PycharmProjects/IntroductionToAI/commonroad-search/venv/lib/python3.7/site-packages (from requests) (1.26.9)\n",
      "\u001b[33mWARNING: You are using pip version 21.3.1; however, version 23.1.2 is available.\n",
      "You should consider upgrading via the '/home/michael/PycharmProjects/IntroductionToAI/commonroad-search/venv/bin/python -m pip install --upgrade pip' command.\u001b[0m\n",
      "Note: you may need to restart the kernel to use updated packages.\n",
      "Requirement already satisfied: networkx in /home/michael/PycharmProjects/IntroductionToAI/commonroad-search/venv/lib/python3.7/site-packages (2.6.3)\n",
      "\u001b[33mWARNING: You are using pip version 21.3.1; however, version 23.1.2 is available.\n",
      "You should consider upgrading via the '/home/michael/PycharmProjects/IntroductionToAI/commonroad-search/venv/bin/python -m pip install --upgrade pip' command.\u001b[0m\n",
      "Note: you may need to restart the kernel to use updated packages.\n"
     ]
    }
   ],
   "source": [
    "%pip install requests\n",
    "%pip install networkx"
   ]
  },
  {
   "cell_type": "markdown",
   "metadata": {},
   "source": [
    "### B. Set the API URL for requests"
   ]
  },
  {
   "cell_type": "code",
   "execution_count": 3,
   "metadata": {},
   "outputs": [],
   "source": [
    "URL = \"https://api.aqarios.com\""
   ]
  },
  {
   "cell_type": "markdown",
   "metadata": {},
   "source": [
    "### C. Authenticate your account\n",
    "\n",
    "Create a file in this same directory named: `credentials.json`.\n",
    "\n",
    "This will house your secret login information so that you can request access tokens from the platform.\n",
    "\n",
    "The file should look like this:\n",
    "\n",
    "```\n",
    "{\n",
    "    \"username\": \"YOUREMAILHERE\",\n",
    "    \"password\": \"YOURPASSWORDHERE\"\n",
    "}\n",
    "```"
   ]
  },
  {
   "cell_type": "code",
   "execution_count": 4,
   "metadata": {},
   "outputs": [],
   "source": [
    "import json\n",
    "import requests"
   ]
  },
  {
   "cell_type": "code",
   "execution_count": 5,
   "metadata": {},
   "outputs": [],
   "source": [
    "# get credentials from secret file\n",
    "with open(\"credentials.json\", 'r') as f:\n",
    "    credentials = json.load(f)\n",
    "    username = credentials['username']\n",
    "    password = credentials['password']\n",
    "\n",
    "# request API for token using credentials\n",
    "response = requests.post(\n",
    "    url=URL+\"/accessToken\",\n",
    "    data={\n",
    "        \"username\": username,\n",
    "        \"password\": password\n",
    "    }\n",
    ")\n",
    "\n",
    "# set received token as header\n",
    "token = response.json().get(\"access_token\")\n",
    "headers = {\"Authorization\": f\"Bearer {token}\"}"
   ]
  },
  {
   "cell_type": "markdown",
   "metadata": {},
   "source": [
    "## Part 4: Real-world optimization\n",
    "\n",
    "There are many computationally challenging optimization problems defined in the literature, which cover a variety of domains. Examples like the Traveling Salesman Problem, Job-Shop Scheduling, or the Knapsack Problem are likely familiar to many who have spent time in the field. \n",
    "\n",
    "Many, but not all, of these optimization problems have been analized by researchers interested in attempting to solve them of quantum hardware. This process requires a transformative step. \n",
    "\n",
    "While the Traveling Salesman Problem is described by a graph which contains all the desired destinations and the distances between them, this representation is not suitable for current quantum annealer, let alone classical optimization heuristics. \n",
    "\n",
    "This is the first functionaly of LunaSolve: **Transform**. \n",
    "\n",
    "We provide users with a built-in library of (currently) **40** different optimization problems which can be configured using human-readable data formats (such as graphs). These are then automatically transformed into appropriate mathematical represetations for quantum computers."
   ]
  },
  {
   "cell_type": "markdown",
   "metadata": {},
   "source": [
    "### A. Retrieve available optimizations\n",
    "\n",
    "The list of currently available optimizations can be retrieved using the `/api/problem/info/all` endpoint. However, we recommend browsing this information using the interactive documentation referenced above.\n",
    "\n",
    "Here is an example of an optimization specification from the docs:\n",
    "\n",
    "<div>\n",
    "<img src=\"static/tsp-docs.jpg\" width=\"800\"/>\n",
    "</div>\n",
    "\n",
    "This includes a description of the optimization problem, its attributes, and references to the publication that its transformation is taken from.\n",
    "\n",
    "The full list can be found by:\n",
    "1. Navigating to https://api.aqarios.com/docs#/Optimizations/create_optimization_api_optimizations_post\n",
    "2. Clicking on **Schema** in the Request Body section.\n",
    "3. Opening the `instance` dropdown.\n",
    "4. Opening the optimization problem of your choice.\n"
   ]
  },
  {
   "cell_type": "markdown",
   "metadata": {},
   "source": [
    "### B. Create an instance of an optimization\n",
    "\n",
    "Suppose you need to coordinate the shipping of wholesale products to across Germany. You have retailers in the seven largest German cites and want to deliver all of your product at once using the shortest route possible to minize transportation costs.\n",
    "\n",
    "After browsing our list of available optimization problems, you notice that we have already implemented the Travelling Salesman problem. After reviewing the schema of the formulation in the manner described above, you find that the problem can be referenced by the *name* TSP and you see that the problem can be defined by a graph with edge weights representing the distances between each major city."
   ]
  },
  {
   "cell_type": "code",
   "execution_count": 6,
   "metadata": {},
   "outputs": [],
   "source": [
    "import networkx as nx"
   ]
  },
  {
   "cell_type": "code",
   "execution_count": 7,
   "metadata": {},
   "outputs": [],
   "source": [
    "# Create an empty graph\n",
    "graph = nx.Graph()\n",
    "\n",
    "# Add nodes\n",
    "cities = ['Berlin', 'Hamburg', 'Munich', 'Cologne', 'Frankfurt', 'Stuttgart', 'Düsseldorf']\n",
    "graph.add_nodes_from(cities)\n",
    "\n",
    "# Add edges and their weights (distances between cities)\n",
    "edges = [('Berlin', 'Hamburg', 289), \n",
    "         ('Berlin', 'Munich', 590), \n",
    "         ('Berlin', 'Cologne', 579), \n",
    "         ('Berlin', 'Frankfurt', 551), \n",
    "         ('Berlin', 'Stuttgart', 639), \n",
    "         ('Berlin', 'Düsseldorf', 569), \n",
    "         ('Hamburg', 'Munich', 791), \n",
    "         ('Hamburg', 'Cologne', 433), \n",
    "         ('Hamburg', 'Frankfurt', 493), \n",
    "         ('Hamburg', 'Stuttgart', 656), \n",
    "         ('Hamburg', 'Düsseldorf', 401), \n",
    "         ('Munich', 'Cologne', 573), \n",
    "         ('Munich', 'Frankfurt', 392), \n",
    "         ('Munich', 'Stuttgart', 233), \n",
    "         ('Munich', 'Düsseldorf', 612), \n",
    "         ('Cologne', 'Frankfurt', 212), \n",
    "         ('Cologne', 'Stuttgart', 377), \n",
    "         ('Cologne', 'Düsseldorf', 54), \n",
    "         ('Frankfurt', 'Stuttgart', 205), \n",
    "         ('Frankfurt', 'Düsseldorf', 229), \n",
    "         ('Stuttgart', 'Düsseldorf', 416)]\n",
    "graph.add_weighted_edges_from(edges)\n",
    "\n",
    "graph_data = nx.to_dict_of_dicts(graph)"
   ]
  },
  {
   "cell_type": "markdown",
   "metadata": {},
   "source": [
    "Now send a request to the API to create a new optimization instance according to this graph specification. The optimization is stored in the platform and can be referenced with an ID from now on."
   ]
  },
  {
   "cell_type": "code",
   "execution_count": 13,
   "metadata": {},
   "outputs": [
    {
     "data": {
      "text/plain": [
       "'id: 648c46109f9ac53c2885c98e'"
      ]
     },
     "execution_count": 13,
     "metadata": {},
     "output_type": "execute_result"
    }
   ],
   "source": [
    "request_body = {\n",
    "    \"instance\": {\n",
    "        \"name\": \"TSP\",\n",
    "        \"graph\": graph_data\n",
    "    }\n",
    "}\n",
    "\n",
    "response = requests.post(\n",
    "    url=URL+\"/api/optimizations\",\n",
    "    headers=headers,\n",
    "    json=request_body\n",
    ")\n",
    "\n",
    "tsp_id = response.json().get(\"_id\")\n",
    "f\"id: {tsp_id}\""
   ]
  },
  {
   "cell_type": "markdown",
   "metadata": {},
   "source": [
    "### C. Solve your optimization\n",
    "\n",
    "Now that you have obtained an ID for your TSP problem, you can start using LunaSolve's other services. In addition to our large library of use cases, we also provide a library of **more than 40 algorithms** that you can choose from to solve your optimization problem.\n",
    "\n",
    "Similar to the problem formulations, you can also view a list of all solvers that we have implemented and are ready to be used. You can access this list via the `/api/info/solvers/available` endpoint or again via our interactive documentation. You can also get more detailed information about each solver using the `/api/info/solvers` end point."
   ]
  },
  {
   "cell_type": "code",
   "execution_count": 34,
   "metadata": {},
   "outputs": [
    {
     "data": {
      "text/plain": [
       "['genetic_algorithm_cross_local_search_merz99',\n",
       " 'genetic_algorithm_cross_merz99',\n",
       " 'genetic_algorithm_hasan00',\n",
       " 'genetic_algorithm_kopt_local_search_katayama00',\n",
       " 'genetic_algorithm_kopt_local_search_merz04',\n",
       " 'genetic_algorithm_lodi99',\n",
       " 'genetic_algorithm_mutate_merz99',\n",
       " 'genetic_algorithm_tabu_search_lu10',\n",
       " 'global_equilibrium_search',\n",
       " 'grasp_greedy_merz02',\n",
       " 'iterated_tabu_search_palubeckis04',\n",
       " 'iterated_tabu_search_palubeckis06',\n",
       " 'kopt_local_search_grasp_merz02',\n",
       " 'kopt_local_search_random_restarts_merz02',\n",
       " 'oneopt_local_search_random_restarts_merz02',\n",
       " 'simulated_annealing_alkhamis98',\n",
       " 'simulated_annealing_beasley98',\n",
       " 'simulated_annealing_katayama01',\n",
       " 'tabu_search_beasley98',\n",
       " 'tabu_search_glover98',\n",
       " 'tabu_search_grasp_palubeckis04',\n",
       " 'tabu_search_hasan00',\n",
       " 'tabu_search_long_term_memory_glover10',\n",
       " 'tabu_search_long_term_memory_palubeckis04',\n",
       " 'tabu_search_palubeckis04',\n",
       " 'brute_force',\n",
       " 'dialectic_search',\n",
       " 'dwave_qpu',\n",
       " 'kerberos',\n",
       " 'parallel_tempering_qpu',\n",
       " 'parallel_tempering',\n",
       " 'population_annealing_qpu',\n",
       " 'population_annealing',\n",
       " 'qbsolv_like_simulated_annealing',\n",
       " 'qbsolv_like_tabu_search',\n",
       " 'qbsolv_qpu',\n",
       " 'repeated_reverse_quantum_annealing',\n",
       " 'simulated_annealing',\n",
       " 'tabu_search',\n",
       " 'quantum_assisted_genetic_algorithm',\n",
       " 'quantum_assisted_genetic_algorithm_multiprocessing',\n",
       " 'quantum_assisted_genetic_algorithm_pairwise',\n",
       " 'simulated_annealing_assisted_genetic_algorithm',\n",
       " 'simulated_annealing_assisted_genetic_algorithm_muliprocessing',\n",
       " 'simulated_annealing_assisted_genetic_algorithm_pairwise',\n",
       " 'variational_quantum_eigensolver',\n",
       " 'quantum_approximate_optimization_algorithm',\n",
       " 'recursive_quantum_approximate_optimization_algorithm']"
      ]
     },
     "execution_count": 34,
     "metadata": {},
     "output_type": "execute_result"
    }
   ],
   "source": [
    "response = requests.get(\n",
    "    url=URL+\"/api/info/solvers/available\",\n",
    "    headers=headers\n",
    ")\n",
    "\n",
    "response.json()"
   ]
  },
  {
   "cell_type": "markdown",
   "metadata": {},
   "source": [
    "Each solver represents a different approach to solving optimization problems and therefore can be configured differently. To allow you to configure your algorithm exactly as you wish, we provide the ability to send solver-specific parameters to each run of the algorithms. Again, we provide detailed documentation on all solvers and their corresponding parameters.\n",
    "\n",
    "Solvers are divided into several categories depending on their origin and/or underlying hardware."
   ]
  },
  {
   "cell_type": "code",
   "execution_count": 37,
   "metadata": {},
   "outputs": [
    {
     "data": {
      "text/plain": [
       "dict_keys(['MQLib', 'DWave', 'Aqarios', 'IBM'])"
      ]
     },
     "execution_count": 37,
     "metadata": {},
     "output_type": "execute_result"
    }
   ],
   "source": [
    "response = requests.get(\n",
    "    url=URL+\"/api/info/solvers\",\n",
    "    headers=headers\n",
    ")\n",
    "\n",
    "solvers = response.json()\n",
    "solvers.keys()"
   ]
  },
  {
   "cell_type": "markdown",
   "metadata": {},
   "source": [
    "Let's take a look at all solvers offered by D-Wave Systems."
   ]
  },
  {
   "cell_type": "code",
   "execution_count": 44,
   "metadata": {},
   "outputs": [
    {
     "data": {
      "text/plain": [
       "['brute_force',\n",
       " 'dialectic_search',\n",
       " 'dwave_qpu',\n",
       " 'kerberos',\n",
       " 'parallel_tempering_qpu',\n",
       " 'parallel_tempering',\n",
       " 'population_annealing_qpu',\n",
       " 'population_annealing',\n",
       " 'qbsolv_exact_solver',\n",
       " 'qbsolv_like_simulated_annealing',\n",
       " 'qbsolv_like_tabu_search',\n",
       " 'qbsolv_qpu',\n",
       " 'qbsolv_simulated_annealing',\n",
       " 'qbsolv_tabu_search',\n",
       " 'repeated_reverse_quantum_annealing',\n",
       " 'simulated_annealing',\n",
       " 'tabu_search']"
      ]
     },
     "execution_count": 44,
     "metadata": {},
     "output_type": "execute_result"
    }
   ],
   "source": [
    "dwave_solvers = [s['full_name'] for s in solvers['DWave']]\n",
    "dwave_solvers"
   ]
  },
  {
   "cell_type": "markdown",
   "metadata": {},
   "source": [
    "Now let's assume that we want to solve the problem with Simulated Annealing. Let's first take a look at how this algorithm is defined."
   ]
  },
  {
   "cell_type": "code",
   "execution_count": 54,
   "metadata": {},
   "outputs": [
    {
     "name": "stdout",
     "output_type": "stream",
     "text": [
      "\n",
      "    # Simulated Annealing\n",
      "\n",
      "    Description\n",
      "    ----------\n",
      "\n",
      "    Simulated Annealing finds the solution to a problem using a annealing process. \n",
      "    Initially, random states are chosen in the solution landscape. Afterwards, as \n",
      "    the temperature decreases, states are chosen that are more energetically favorable. \n",
      "    At the end of the complete annealing process, the resulting states make up \n",
      "    the solution.\n",
      "\n",
      "    Parameters\n",
      "    ----------\n",
      "\n",
      "    ### beta_range: tuple\n",
      "        \n",
      " Explicit linearly applied beta range that is used for the schedule\n",
      "\n",
      "    ### num_reads: int\n",
      "        \n",
      " number of produced samples\n",
      "\n",
      "    ### num_sweeps: int\n",
      "        \n",
      " number of sweeps per fixed temperature sampling\n",
      "\n",
      "    ### beta_schedule_type: str\n",
      "        \n",
      " beta scheduler type used to interpolate given beta range. \n",
      "        Supports either 'linear' or 'geometric'\n",
      "\n",
      "    ### initial_states_generator: str\n",
      "        \n",
      " defines expansion of input state subsamples into inital states for \n",
      "        the simulated annealing if subsamples are fewer than num_reads. \n",
      "        Supports either 'none', 'tile' or 'random'\n",
      "\n",
      "    ### n_init_samples: int\n",
      "        \n",
      " number of states initially selected at random\n",
      "    \n"
     ]
    }
   ],
   "source": [
    "sa = next(x for x in solvers['DWave'] if x['full_name'] == 'simulated_annealing') \n",
    "print(sa['description'])"
   ]
  },
  {
   "cell_type": "markdown",
   "metadata": {},
   "source": [
    "In case you are not sure which parameters to choose, you can go with our default parameters."
   ]
  },
  {
   "cell_type": "code",
   "execution_count": 55,
   "metadata": {},
   "outputs": [
    {
     "data": {
      "text/plain": [
       "{'beta_range': None,\n",
       " 'num_reads': None,\n",
       " 'num_sweeps': 200,\n",
       " 'beta_schedule_type': 'geometric',\n",
       " 'initial_states_generator': 'random',\n",
       " 'n_init_samples': 1,\n",
       " 'timeout': 5}"
      ]
     },
     "execution_count": 55,
     "metadata": {},
     "output_type": "execute_result"
    }
   ],
   "source": [
    "sa_params = sa['params']\n",
    "sa_params"
   ]
  },
  {
   "cell_type": "markdown",
   "metadata": {},
   "source": [
    "Now that we have decided on an algorithm and the parameters, let's actually solve our problem from before."
   ]
  },
  {
   "cell_type": "code",
   "execution_count": 65,
   "metadata": {},
   "outputs": [],
   "source": [
    "response = requests.post(\n",
    "    url=URL+f\"/api/optimizations/{tsp_id}/solutions\",\n",
    "    headers=headers,\n",
    "    params={\"solver_name\": \"simulated_annealing\"},\n",
    "    # You can also simply omit the json parameter if you want to use the default parameters.\n",
    "    json=sa_params\n",
    ")"
   ]
  },
  {
   "cell_type": "markdown",
   "metadata": {},
   "source": [
    "Since some solvers (especially quantum hardware) can take a long time to call, we don't want to keep you and the execution of your code waiting during this time. Instead, when a solution is requested, a 202 code is returned with a `solution_url` where the final result can be retrieved via the API once the computation is complete."
   ]
  },
  {
   "cell_type": "code",
   "execution_count": 66,
   "metadata": {},
   "outputs": [
    {
     "data": {
      "text/plain": [
       "{'id': '648c4b589f9ac53c2885c992',\n",
       " 'creation_time': '2023-06-16T11:45:28.064000',\n",
       " 'status': 'ready',\n",
       " 'solution': {'samples': [[False,\n",
       "    False,\n",
       "    False,\n",
       "    False,\n",
       "    False,\n",
       "    True,\n",
       "    False,\n",
       "    False,\n",
       "    False,\n",
       "    False,\n",
       "    False,\n",
       "    False,\n",
       "    False,\n",
       "    True,\n",
       "    True,\n",
       "    False,\n",
       "    False,\n",
       "    False,\n",
       "    False,\n",
       "    False,\n",
       "    False,\n",
       "    False,\n",
       "    False,\n",
       "    False,\n",
       "    True,\n",
       "    False,\n",
       "    False,\n",
       "    False,\n",
       "    False,\n",
       "    False,\n",
       "    True,\n",
       "    False,\n",
       "    False,\n",
       "    False,\n",
       "    False,\n",
       "    False,\n",
       "    True,\n",
       "    False,\n",
       "    False,\n",
       "    False,\n",
       "    False,\n",
       "    False,\n",
       "    False,\n",
       "    False,\n",
       "    False,\n",
       "    False,\n",
       "    True,\n",
       "    False,\n",
       "    False]],\n",
       "  'energies': [-8735.0],\n",
       "  'solver': 'simulated_annealing',\n",
       "  'params': {'beta_range': None,\n",
       "   'num_reads': None,\n",
       "   'num_sweeps': 200,\n",
       "   'beta_schedule_type': 'geometric',\n",
       "   'initial_states_generator': 'random',\n",
       "   'n_init_samples': 1,\n",
       "   'timeout': 5},\n",
       "  'runtime': {'total': 0.011201858520507812, 'overhead': None, 'qpu': None},\n",
       "  'metadata': {'beta_range': [2.905302961522111e-05, 0.2683047228001241],\n",
       "   'beta_schedule_type': 'geometric'}}}"
      ]
     },
     "execution_count": 66,
     "metadata": {},
     "output_type": "execute_result"
    }
   ],
   "source": [
    "solution_url = response.json().get(\"solution_url\")\n",
    "\n",
    "# Here you may have to wait, depending on the software and hardware you have chosen and how complex your problem is.\n",
    "\n",
    "response = requests.get(\n",
    "    url=URL+f\"/{solution_url}\",\n",
    "    headers=headers\n",
    ")\n",
    "\n",
    "solution = response.json()"
   ]
  },
  {
   "cell_type": "markdown",
   "metadata": {},
   "source": [
    "### D. Getting recommendations on solution algorithms\n",
    "\n",
    "However, in most cases, choosing some arbitrary solver with default parameters is not the most efficient way to solve optimization problems. Instead, you can use LunaSolve's *AI-powered* **Recommendation engine** to get a recommendation for the best solver to solve your particular problem.\n",
    "\n",
    "*Note: the `/recommend` endpoint is currently still in a prototypical state and as such will only recommend classical solvers. More to come in future updates.*"
   ]
  },
  {
   "cell_type": "code",
   "execution_count": 67,
   "metadata": {},
   "outputs": [
    {
     "data": {
      "text/plain": [
       "{'solver': 'tabu', 'solver_params': {'num_reads': 1}}"
      ]
     },
     "execution_count": 67,
     "metadata": {},
     "output_type": "execute_result"
    }
   ],
   "source": [
    "response = requests.get(\n",
    "    url=URL+f\"/api/optimizations/{tsp_id}/recommendation\",\n",
    "    headers=headers\n",
    ")\n",
    "\n",
    "recommendation = response.json()\n",
    "recommendation"
   ]
  },
  {
   "cell_type": "markdown",
   "metadata": {},
   "source": [
    "Now, use the received recommendation to request a solution from the API"
   ]
  },
  {
   "cell_type": "code",
   "execution_count": 69,
   "metadata": {},
   "outputs": [],
   "source": [
    "response = requests.post(\n",
    "    url=URL+f\"/api/optimizations/{tsp_id}/solutions\",\n",
    "    headers=headers,\n",
    "    params={\"solver_name\": \"tabu_search\"},\n",
    "    json=recommendation.get(\"solver_params\")\n",
    ")\n",
    "\n",
    "solution_url = response.json().get(\"solution_url\")\n",
    "\n",
    "# Wait for your solution to be complete\n",
    "\n",
    "response = requests.get(\n",
    "    url=URL+f\"/{solution_url}\",\n",
    "    headers=headers\n",
    ")\n",
    "\n",
    "solution = response.json()"
   ]
  },
  {
   "cell_type": "markdown",
   "metadata": {},
   "source": [
    "### E. Running on quantum hardware\n",
    "TODO"
   ]
  },
  {
   "cell_type": "code",
   "execution_count": 70,
   "metadata": {},
   "outputs": [],
   "source": [
    "# TODO: translate solution back into problem domain."
   ]
  },
  {
   "cell_type": "markdown",
   "metadata": {},
   "source": [
    "## Part 5: Custom QUBOs\n",
    "\n",
    "As useful as the library of optimization problems is, not all scenarios can be fit cleanly into a pre-defined problem definition. Some users may wish to input and solve their own custom mathematical models. \n",
    "\n",
    "Our services currently make all the samy functionalities available to optimization problems available to problems formulated as QUBO (quadratic unconstrained binary optimization) matrices. The matrices are passed as nested lists of floats."
   ]
  },
  {
   "cell_type": "markdown",
   "metadata": {},
   "source": [
    "### A. Initialize QUBO\n",
    "\n",
    "First, create a list of lists of floats (or integers) which represents the QUBO in question. Then send that qubo to LunaSolve."
   ]
  },
  {
   "cell_type": "code",
   "execution_count": null,
   "metadata": {},
   "outputs": [],
   "source": [
    "qubo = [\n",
    "    [4, 0, 0, 0, -2],\n",
    "    [0, -2, 0, 0, 0],\n",
    "    [0, 0, 6, -3, 0],\n",
    "    [0, 0, -3, 2, 0],\n",
    "    [-2, 0, 0, 0, 5]\n",
    "]"
   ]
  },
  {
   "cell_type": "code",
   "execution_count": null,
   "metadata": {},
   "outputs": [],
   "source": [
    "response = requests.post(\n",
    "    url=URL+f\"/api/qubos\",\n",
    "    headers=headers,\n",
    "    json={\"matrix\": qubo}\n",
    ")\n",
    "\n",
    "qubo_id = response.json().get(\"_id\")\n",
    "f\"id: {qubo_id}\""
   ]
  },
  {
   "cell_type": "markdown",
   "metadata": {},
   "source": [
    "### B. Solve QUBO\n",
    "\n",
    "Request the creation of a new solution for the QUBO and retrieve it once solving is completed."
   ]
  },
  {
   "cell_type": "code",
   "execution_count": null,
   "metadata": {},
   "outputs": [],
   "source": [
    "response = requests.post(\n",
    "    url=URL+f\"/api/qubos/{qubo_id}/solutions\",\n",
    "    headers=headers,\n",
    "    params={\"solver_name\": \"simulated_annealing\"}\n",
    "    json={\"num_sweeps\": 100, \"num_reads\"= 10}\n",
    ")\n",
    "\n",
    "solution = response.json()\n",
    "solution"
   ]
  },
  {
   "cell_type": "markdown",
   "metadata": {},
   "source": [
    "### C. Custom Solving Heuristic\n",
    "\n",
    "Researchers are often wish to develop their own proprietary heuristics for solving QUBOs effectively. These can involve complicated business logic for pre- and post-processing of results. LunaSolve can support developers of optimization heuristics by unifying the access point to both classical and quantum solvers. \n",
    "\n",
    "As an example of how Luna's integration could support the development of an innovative approach to QUBO solving, one can imagine a heuristic which strategically splits a QUBO into sub-QUBOs, which are then sent to existing solvers so that the results can be brought together to for an optimal total solution. This kind of functionality can be easily achieved using LunaSolve, as the business logic behind the novel heuristic can be written and maintained in the desired programming language and corresponding repository, while the Luna platform acts as a signel point of access to the solving heuristics which must be called inside the custom algorithm."
   ]
  }
 ],
 "metadata": {
  "kernelspec": {
   "display_name": "Python 3",
   "language": "python",
   "name": "python3"
  },
  "language_info": {
   "codemirror_mode": {
    "name": "ipython",
    "version": 3
   },
   "file_extension": ".py",
   "mimetype": "text/x-python",
   "name": "python",
   "nbconvert_exporter": "python",
   "pygments_lexer": "ipython3",
   "version": "3.10.8"
  }
 },
 "nbformat": 4,
 "nbformat_minor": 2
}
