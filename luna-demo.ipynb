{
 "cells": [
  {
   "attachments": {},
   "cell_type": "markdown",
   "metadata": {},
   "source": [
    "# Aqarios Luna Platform Demo\n",
    "\n",
    "This jupyter notebook will walk you through some of the potential uses of the Luna platform with the goal of demonstrating how this tool can be integrated into existing workflows. \n",
    "\n",
    "This demo will only include functionality from LunaSolve, our platform focused on optimization using state-of-the-art quantum, hybrid, and classical heuristics.\n",
    "\n",
    "The structure of this notebook is as follows:\n",
    " - **Part 1**: Setup\n",
    " - **Part 2**: Real-world optimization using built-in transformations\n",
    " - **Part 3**: Open-ended optimization using manuallu constructed QUBOs\n",
    "\n",
    "For a complete overview of our API's functionality visit https://api.aqarios.com/docs for interative documentation."
   ]
  },
  {
   "attachments": {},
   "cell_type": "markdown",
   "metadata": {},
   "source": [
    "## Part 1: Setup\n",
    "\n",
    "In order to make this notebook interactive, there are a few necessary steps to setup our environment."
   ]
  },
  {
   "attachments": {},
   "cell_type": "markdown",
   "metadata": {},
   "source": [
    "### A. Install the necessary packages"
   ]
  },
  {
   "cell_type": "code",
   "execution_count": null,
   "metadata": {},
   "outputs": [],
   "source": [
    "%pip install requests\n",
    "%pip install networkx"
   ]
  },
  {
   "attachments": {},
   "cell_type": "markdown",
   "metadata": {},
   "source": [
    "### B. Set the API URL for requests"
   ]
  },
  {
   "cell_type": "code",
   "execution_count": null,
   "metadata": {},
   "outputs": [],
   "source": [
    "URL = \"https://api.aqarios.com\""
   ]
  },
  {
   "attachments": {},
   "cell_type": "markdown",
   "metadata": {},
   "source": [
    "### C. Authenticate your account\n",
    "\n",
    "Create a file in this same directory named: `credentials.json`.\n",
    "\n",
    "This will house your secret login information so that you can request access tokens from the platform.\n",
    "\n",
    "The file should look like this:\n",
    "\n",
    "```\n",
    "{\n",
    "    \"username\": \"YOUREMAILHERE\",\n",
    "    \"password\": \"YOURPASSWORDHERE\"\n",
    "}\n",
    "```"
   ]
  },
  {
   "cell_type": "code",
   "execution_count": null,
   "metadata": {},
   "outputs": [],
   "source": [
    "import json\n",
    "import requests"
   ]
  },
  {
   "cell_type": "code",
   "execution_count": null,
   "metadata": {},
   "outputs": [],
   "source": [
    "# get credentials from secret file\n",
    "with open(\"credentials.json\", 'r') as f:\n",
    "    credentials = json.load(f)\n",
    "    username = credentials['username']\n",
    "    password = credentials['password']\n",
    "\n",
    "# request API for token using credentials\n",
    "response = requests.post(\n",
    "    url=URL+\"/accessToken\",\n",
    "    data={\n",
    "        \"username\": username,\n",
    "        \"password\": password\n",
    "    }\n",
    ")\n",
    "\n",
    "# set received token as header\n",
    "token = response.json().get(\"access_token\")\n",
    "headers = {\"Authorization\": f\"Bearer {token}\"}"
   ]
  },
  {
   "attachments": {},
   "cell_type": "markdown",
   "metadata": {},
   "source": [
    "## Part 2: Real-world optimization\n",
    "\n",
    "There are many computationally challenging optimization problems defined in the literature, which cover a variety of domains. Examples like the Traveling Salesman Problem, Job-Shop Scheduling, or the Knapsack Problem are likely familiar to many who have spent time in the field. \n",
    "\n",
    "Many, but not all, of these optimization problems have been analized by researchers interested in attempting to solve them of quantum hardware. This process requires a transformative step. \n",
    "\n",
    "While the Traveling Salesman Problem is described by a graph which contains all the desired destinations and the distances between them, this representation is not suitable for current quantum annealer, let alone classical optimization heuristics. \n",
    "\n",
    "This is the first functionaly of LunaSolve: **Transform**. \n",
    "\n",
    "We provide Users with a built-in library of (currently) **40** different optimization problems which can be configured using human-readable data formats (such as graphs). These are then automatically transformed into appropriate mathematical represetations for quantum computers."
   ]
  },
  {
   "attachments": {},
   "cell_type": "markdown",
   "metadata": {},
   "source": [
    "### A. Retrieve available optimizations\n",
    "\n",
    "The list of currently available optimizations can be retrieved using the `/api/problem/info/all` endpoint. However, we recommend browsing this information using the interactive documentation referenced above.\n",
    "\n",
    "Here is an example of an optimization specification from the docs:\n",
    "\n",
    "<div>\n",
    "<img src=\"static/tsp-docs.jpg\" width=\"800\"/>\n",
    "</div>\n",
    "\n",
    "This includes a description of the optimization problem, its attributes, and references to the publication that its transformation is taken from.\n",
    "\n",
    "The full list can be found by:\n",
    "1. Navigating to https://api.aqarios.com/docs#/Optimizations/create_optimization_api_optimizations_post\n",
    "2. Clicking on **Schema** in the Request Body section.\n",
    "3. Opening the `instance` dropdown.\n",
    "4. Opening the optimization problem of your choice.\n"
   ]
  },
  {
   "attachments": {},
   "cell_type": "markdown",
   "metadata": {},
   "source": [
    "### B. Create an instance of an optimization\n",
    "\n",
    "Suppose you need to coordinate the shipping of wholesale products to across Germany. You have retailers in the seven largest German ciites and want to deliver all of your product at once using the shortest route possible to minize transportation costs.\n",
    "\n",
    "For this problem we have found the distances between each of these major cities, and now need to format this data in terms of a graph with edge weights. "
   ]
  },
  {
   "cell_type": "code",
   "execution_count": null,
   "metadata": {},
   "outputs": [],
   "source": [
    "import networkx as nx"
   ]
  },
  {
   "cell_type": "code",
   "execution_count": null,
   "metadata": {},
   "outputs": [],
   "source": [
    "# Create an empty graph\n",
    "graph = nx.Graph()\n",
    "\n",
    "# Add nodes\n",
    "cities = ['Berlin', 'Hamburg', 'Munich', 'Cologne', 'Frankfurt', 'Stuttgart', 'Düsseldorf']\n",
    "graph.add_nodes_from(cities)\n",
    "\n",
    "# Add edges and their weights (distances between cities)\n",
    "edges = [('Berlin', 'Hamburg', 289), \n",
    "         ('Berlin', 'Munich', 590), \n",
    "         ('Berlin', 'Cologne', 579), \n",
    "         ('Berlin', 'Frankfurt', 551), \n",
    "         ('Berlin', 'Stuttgart', 639), \n",
    "         ('Berlin', 'Düsseldorf', 569), \n",
    "         ('Hamburg', 'Munich', 791), \n",
    "         ('Hamburg', 'Cologne', 433), \n",
    "         ('Hamburg', 'Frankfurt', 493), \n",
    "         ('Hamburg', 'Stuttgart', 656), \n",
    "         ('Hamburg', 'Düsseldorf', 401), \n",
    "         ('Munich', 'Cologne', 573), \n",
    "         ('Munich', 'Frankfurt', 392), \n",
    "         ('Munich', 'Stuttgart', 233), \n",
    "         ('Munich', 'Düsseldorf', 612), \n",
    "         ('Cologne', 'Frankfurt', 212), \n",
    "         ('Cologne', 'Stuttgart', 377), \n",
    "         ('Cologne', 'Düsseldorf', 54), \n",
    "         ('Frankfurt', 'Stuttgart', 205), \n",
    "         ('Frankfurt', 'Düsseldorf', 229), \n",
    "         ('Stuttgart', 'Düsseldorf', 416)]\n",
    "graph.add_weighted_edges_from(edges)\n",
    "\n",
    "graph_data = nx.to_dict_of_dicts(graph)"
   ]
  },
  {
   "attachments": {},
   "cell_type": "markdown",
   "metadata": {},
   "source": [
    "Now send a request to the API to create a new optimization instance according to this graph specification."
   ]
  },
  {
   "cell_type": "code",
   "execution_count": null,
   "metadata": {},
   "outputs": [],
   "source": [
    "request_body = {\n",
    "    \"instance\": {\n",
    "        \"name\": \"TSP\",\n",
    "        \"graph\": graph_data\n",
    "    }\n",
    "}\n",
    "\n",
    "response = requests.post(\n",
    "    url=URL+\"/api/optimizations\",\n",
    "    headers=headers,\n",
    "    json=request_body\n",
    ")\n",
    "\n",
    "tsp_id = response.json().get(\"_id\")\n",
    "f\"id: {tsp_id}\""
   ]
  },
  {
   "attachments": {},
   "cell_type": "markdown",
   "metadata": {},
   "source": [
    "### C. Solve your optimization\n",
    "\n",
    "Now that you have received a id for your TSP problem, you can make use of the other services LunaSolve provides. \n",
    "\n",
    "Before simply calling up some arbitrary solving heuristic, use LunaSolve's *AI-powered* **Recommendation engine** to select the best solver for your particular problem.\n",
    "\n",
    "*Note: the `/recommend` endpoint is currently still in a prototypical state and as such will only recommend classical solvers. More to come in future updates.*"
   ]
  },
  {
   "cell_type": "code",
   "execution_count": null,
   "metadata": {},
   "outputs": [],
   "source": [
    "response = requests.get(\n",
    "    url=URL+f\"/api/optimizations/{tsp_id}/recommendation\",\n",
    "    headers=headers\n",
    ")\n",
    "\n",
    "recommendation = response.json()\n",
    "recommendation"
   ]
  },
  {
   "attachments": {},
   "cell_type": "markdown",
   "metadata": {},
   "source": [
    "Now, use the received recommendation to request a solution from the API"
   ]
  },
  {
   "cell_type": "code",
   "execution_count": null,
   "metadata": {},
   "outputs": [],
   "source": [
    "response = requests.post(\n",
    "    url=URL+f\"/api/optimizations/{tsp_id}/solutions\",\n",
    "    headers=headers,\n",
    "    params={\"solver_name\": \"tabu_search\"},\n",
    "    json=recommendation.get(\"solver_params\")\n",
    ")\n",
    "\n",
    "solution_url = response.json().get(\"solution_url\")\n",
    "solution_url"
   ]
  },
  {
   "attachments": {},
   "cell_type": "markdown",
   "metadata": {},
   "source": [
    "Since calls to some solvers (quantum hardware in particular) can take an extended period of time of complete, requesting a solution be generated returns a 202 code with a `solution_url` where the final result can be retrieved from the API once the computation is completed."
   ]
  },
  {
   "cell_type": "code",
   "execution_count": null,
   "metadata": {},
   "outputs": [],
   "source": [
    "response = requests.get(\n",
    "    url=URL+f\"/{solution_url}\",\n",
    "    headers=headers\n",
    ")\n",
    "\n",
    "solution = response.json()"
   ]
  },
  {
   "cell_type": "code",
   "execution_count": null,
   "metadata": {},
   "outputs": [],
   "source": [
    "# TODO: translate solution back into problem domain."
   ]
  },
  {
   "attachments": {},
   "cell_type": "markdown",
   "metadata": {},
   "source": [
    "## Part 3: Custom QUBOs\n",
    "\n",
    "As useful as the library of optimization problems is, not all scenarios can be fit cleanly into a pre-defined problem definition. Some users may wish to input and solve their own custom mathematical models. \n",
    "\n",
    "Our services currently make all the samy functionalities available to optimization problems available to problems formulated as QUBO (quadratic unconstrained binary optimization) matrices. The matrices are passed as nested lists of floats."
   ]
  },
  {
   "attachments": {},
   "cell_type": "markdown",
   "metadata": {},
   "source": [
    "### A. Initialize QUBO\n",
    "\n",
    "First, create a list of lists of floats (or integers) which represents the QUBO in question. Then send that qubo to LunaSolve."
   ]
  },
  {
   "cell_type": "code",
   "execution_count": null,
   "metadata": {},
   "outputs": [],
   "source": [
    "qubo = [\n",
    "    [4, 0, 0, 0, -2],\n",
    "    [0, -2, 0, 0, 0],\n",
    "    [0, 0, 6, -3, 0],\n",
    "    [0, 0, -3, 2, 0],\n",
    "    [-2, 0, 0, 0, 5]\n",
    "]"
   ]
  },
  {
   "cell_type": "code",
   "execution_count": null,
   "metadata": {},
   "outputs": [],
   "source": [
    "response = requests.post(\n",
    "    url=URL+f\"/api/qubos\",\n",
    "    headers=headers,\n",
    "    json={\"matrix\": qubo}\n",
    ")\n",
    "\n",
    "qubo_id = response.json().get(\"_id\")\n",
    "f\"id: {qubo_id}\""
   ]
  },
  {
   "attachments": {},
   "cell_type": "markdown",
   "metadata": {},
   "source": [
    "### B. Solve QUBO\n",
    "\n",
    "Request the creation of a new solution for the QUBO and retrieve it once solving is completed."
   ]
  },
  {
   "cell_type": "code",
   "execution_count": null,
   "metadata": {},
   "outputs": [],
   "source": [
    "response = requests.post(\n",
    "    url=URL+f\"/api/qubos/{qubo_id}/solutions\",\n",
    "    headers=headers,\n",
    "    params={\"solver_name\": \"simulated_annealing\"}\n",
    "    json={\"num_sweeps\": 100, \"num_reads\"= 10}\n",
    ")\n",
    "\n",
    "solution = response.json()\n",
    "solution"
   ]
  },
  {
   "attachments": {},
   "cell_type": "markdown",
   "metadata": {},
   "source": [
    "### C. Custom Solving Heuristic\n",
    "\n",
    "Researchers are often wish to develop their own proprietary heuristics for solving QUBOs effectively. These can involve complicated business logic for pre- and post-processing of results. LunaSolve can support developers of optimization heuristics by unifying the access point to both classical and quantum solvers. \n",
    "\n",
    "As an example of how Luna's integration could support the development of an innovative approach to QUBO solving, one can imagine a heuristic which strategically splits a QUBO into sub-QUBOs, which are then sent to existing solvers so that the results can be brought together to for an optimal total solution. This kind of functionality can be easily achieved using LunaSolve, as the business logic behind the novel heuristic can be written and maintained in the desired programming language and corresponding repository, while the Luna platform acts as a signel point of access to the solving heuristics which must be called inside the custom algorithm."
   ]
  }
 ],
 "metadata": {
  "kernelspec": {
   "display_name": "Python 3",
   "language": "python",
   "name": "python3"
  },
  "language_info": {
   "codemirror_mode": {
    "name": "ipython",
    "version": 3
   },
   "file_extension": ".py",
   "mimetype": "text/x-python",
   "name": "python",
   "nbconvert_exporter": "python",
   "pygments_lexer": "ipython3",
   "version": "3.10.8"
  },
  "orig_nbformat": 4
 },
 "nbformat": 4,
 "nbformat_minor": 2
}
