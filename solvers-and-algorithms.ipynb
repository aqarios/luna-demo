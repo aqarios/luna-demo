{
 "cells": [
  {
   "cell_type": "markdown",
   "metadata": {},
   "source": [
    "# Solvers & Algorithms"
   ]
  },
  {
   "cell_type": "markdown",
   "metadata": {},
   "source": [
    "This page offers an overview on all available solvers and algorithms on Luna that can be used to solve optimization problems. In many cases, the performance of different algorithms can vary strongly based on the specific use case or even its specific instance, so we aim to provide a diverse selection of solvers. This allows users to choose the optimal approach for their applications, rather than being stuck with a single method. \n",
    "\n",
    "Each solver comes with a description of the algorithm and a comprehensive list of adjustable parameters. For each solver, we have a carefully chosen set of default parameters that should be usable in most scenarios, but we recommend to fine-tune these parameters to achieve optimal performance for each algorithm. This can be done either manually or by using our recommendation engine.\n",
    "\n",
    "**TODO: Insert solvers from API**"
   ]
  }
 ],
 "metadata": {
  "kernelspec": {
   "display_name": "Python 3 (ipykernel)",
   "language": "python",
   "name": "python3"
  },
  "language_info": {
   "codemirror_mode": {
    "name": "ipython",
    "version": 3
   },
   "file_extension": ".py",
   "mimetype": "text/x-python",
   "name": "python",
   "nbconvert_exporter": "python",
   "pygments_lexer": "ipython3",
   "version": "3.8.10"
  }
 },
 "nbformat": 4,
 "nbformat_minor": 2
}
