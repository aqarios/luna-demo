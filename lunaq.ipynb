{
 "cells": [
  {
   "cell_type": "markdown",
   "metadata": {},
   "source": [
    "# LunaQ"
   ]
  },
  {
   "cell_type": "markdown",
   "metadata": {},
   "source": [
    "## The central quantum nervous systems\n",
    "\n",
    "LunaQ is a framework designed to democratize access to quantum hardware, making the application and development of algorithms across various domains and hardware platforms more accessible. With LunaQ, you can easily send your quantum programs to a diverse portfolio of quantum hardware providers using one unified framework, facilitating various stages of your usual pipelines. Furthermore, we will offer an extensive library of quantum use cases that extend beyond the field of optimization.\n",
    "\n",
    "While LunaQ is currently in development, we already offer the capability to dispatch raw quantum programs written in Qiskit to IBM's quantum hardware. This follows the official [Qiskit Runtime Specification](https://qiskit.org/ecosystem/ibm-runtime/apidocs/runtime_service.html) from IBM.\n",
    "\n",
    "To start using LunaQ, begin by following the instructions on our [Get Started page](https://docs.aqarios.com/get-started). Afterwards, you can access [a comprehensive tutorial on using LunaQ](https://docs.aqarios.com/tutorials/#expert-running-qiskit-programs-on-IBM-quantum) on our tutorials page.\n",
    "\n",
    "Further enhancements to LunaQ are expected to be launched in 2024. Stay tuned and follow our [LinkedIn page](https://www.linkedin.com/company/aqarios-gmbh) for future updates."
   ]
  }
 ],
 "metadata": {
  "kernelspec": {
   "display_name": "Python 3 (ipykernel)",
   "language": "python",
   "name": "python3"
  },
  "language_info": {
   "codemirror_mode": {
    "name": "ipython",
    "version": 3
   },
   "file_extension": ".py",
   "mimetype": "text/x-python",
   "name": "python",
   "nbconvert_exporter": "python",
   "pygments_lexer": "ipython3",
   "version": "3.8.10"
  }
 },
 "nbformat": 4,
 "nbformat_minor": 2
}
