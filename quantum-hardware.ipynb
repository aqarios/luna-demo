{
 "cells": [
  {
   "cell_type": "markdown",
   "metadata": {},
   "source": [
    "# Quantum Hardware\n",
    "\n",
    "## Running quantum algorithms through Luna"
   ]
  },
  {
   "cell_type": "markdown",
   "metadata": {},
   "source": [
    "Here, you can learn how to configure your tokens for accessing quantum hardware through Luna. In addition, you can get further details about the available quantum hardware.\n",
    "\n",
    "## QPU Token Management\n",
    "\n",
    "Luna offers the possibility to store your access tokens for quantum hardware directly within its system. This step is necessary to run quantum algorithms on the relevant hardware and only needs to be done once.\n",
    "\n",
    "You can acquire the token for quantum hardware directly from the provider of that hardware. If you have any questions, please feel free to get in touch with us."
   ]
  },
  {
   "cell_type": "code",
   "execution_count": null,
   "metadata": {},
   "outputs": [],
   "source": [
    "# Load the luna package\n",
    "from luna import Luna\n",
    "\n",
    "# Create a Luna object and set your credentials\n",
    "luna = Luna(credentials=\"credentials.json\")\n",
    "\n",
    "# Set the provider of the quantum hardware, e.g. 'IBM'\n",
    "provider = '<QPUPROVIDER>'\n",
    "\n",
    "# Set the token you have received to access the quantum hardware provider\n",
    "token = '<QPUTOKEN>'\n",
    "\n",
    "# Finally, set the token in Luna to be able to access the quantum hardware\n",
    "luna.set_qpu_token(provider=provider, token=token)"
   ]
  },
  {
   "cell_type": "markdown",
   "metadata": {},
   "source": [
    "You can always get a list of your tokens."
   ]
  },
  {
   "cell_type": "code",
   "execution_count": null,
   "metadata": {},
   "outputs": [],
   "source": [
    "# Get a list of all tokens set for your account \n",
    "tokens = luna.get_qpu_tokens()"
   ]
  },
  {
   "cell_type": "markdown",
   "metadata": {},
   "source": [
    "You can also rename any of your tokens."
   ]
  },
  {
   "cell_type": "code",
   "execution_count": null,
   "metadata": {},
   "outputs": [],
   "source": [
    "# Access one of your QPU tokens\n",
    "qpu_token = tokens[0]\n",
    "\n",
    "# Get the id of your QPU tokens\n",
    "qpu_token_id = qpu_token['id']\n",
    "\n",
    "# Rename the accessed QPU token\n",
    "luna.rename_qpu_token(id=qpu_token_id, name='new_token_name')"
   ]
  },
  {
   "cell_type": "markdown",
   "metadata": {},
   "source": [
    "And, finally, if you don't want a token to be stored in your account any more, you can remove any tokens you don't need."
   ]
  },
  {
   "cell_type": "code",
   "execution_count": null,
   "metadata": {},
   "outputs": [],
   "source": [
    "# Delete a specific token. Use with caution!\n",
    "luna.delete_qpu_token(id=qpu_token_id)"
   ]
  },
  {
   "cell_type": "markdown",
   "metadata": {},
   "source": [
    "To find out how to set QPU tokens for organizations, please refer to the [Organization page](https://docs.aqarios.com/organizations/) of our documentation."
   ]
  },
  {
   "cell_type": "markdown",
   "metadata": {},
   "source": [
    "## Available Quantum Hardware\n",
    "\n",
    "### IBM\n",
    "\n",
    "IBM provides a large number of Quantum Processing Units (QPUs) that are based on the superconducting technology. Some of these hardwares (all up to 7 qubits) can be accessed free of charge. To access the larger QPUs, you will have to get in touch with IBM directly to request access. \n",
    "In addition, IBM provides several simulators for quantum hardware, which can all be accessed free of charge as well.\n",
    "\n",
    "To access the hardware from IBM, you have to create a free account at [IBM Quantum](https://quantum-computing.ibm.com/). After registration, you can find your API token directly on the dashboard. You can use this token for any services of Luna by simply adding it to your account, as described above.\n",
    "\n",
    "IBM offers a wide range of Quantum Processing Units (QPUs) based on the superconducting technology. Some of these QPUs (up to 7 qubits) are available for free usage. For access to larger QPUs, you need to contact IBM directly. Additionally, IBM provides several simulators for quantum hardware, all of which are accessible at no cost.\n",
    "\n",
    "To access IBM's quantum hardware, you need to create a free account on IBM Quantum. After registration, your API token can be found directly on the dashboard. You can use this token for Luna's services by adding it to your account as explained above.\n",
    "\n",
    "\n",
    "#### QPUs\n",
    "\n",
    "IBM offers various QPUs with different numbers of qubits all around the world. The following QPU types are currently available:\n",
    "\n",
    "##### Egret (up to 33 qubits)\n",
    "Egret is IBM's latest QPU, introducing tunable couplers for faster and higher fidelity two-qubit gates.\n",
    "\n",
    "#### Osprey (up to 433 qubits)\n",
    "Osprey is the largest QPU in IBM's lineup, featuring substantial improvements in device packaging to handle larger chip sizes and uses custom flex cabling for increased I/O requirements.\n",
    "\n",
    "#### Eagle (up to 127 qubits)\n",
    "Eagle was developed with novel packaging techniques, showcasing increased scalability.\n",
    "\n",
    "#### Hummingbird (up to 65 qubits)\n",
    "Hummingbird is very similar in architecture to Falcon, but incorporates scalability enhancements.\n",
    "\n",
    "#### Falcon (up to 27 qubits)\n",
    "Falcon uses a multi-chip stack with an \"interposer\" chip for readout and signal delivery wiring.\n",
    "\n",
    "#### Canary (up to 16 qubits)\n",
    "Canary provides an optimized 2D lattice with qubits and readout resonators on the same layer.\n",
    "\n",
    "More detailed information about these QPUs can be found on the [IBM website](https://quantum-computing.ibm.com/services/resources?tab=systems).\n",
    "\n",
    "\n",
    "### Simulators\n",
    "IBM offers several simulators, which are classical emulators of quantum systems freely accessible via cloud.\n",
    "\n",
    "#### Stabilizer (5000 qubits)\n",
    "Stabilizer simulates Clifford circuits and can also model noisy evolution if noise operators are Clifford gates.\n",
    "\n",
    "#### MPS (100 qubits)\n",
    "This simulator uses a tensor network and Matrix Product State (MPS) representation for states and is often more efficient for states with weak entanglement.\n",
    "\n",
    "#### Extended Stabilizer (63 qubits)\n",
    "Extended Stabilizer approximates quantum circuit action using ranked-stabilizer decomposition, with non-Clifford gates determining stabilizer terms.\n",
    "\n",
    "#### QASM Simulator (32 qubits)\n",
    "A general purpose simulator for quantum circuits, offering both ideal and noise-modeled simulations with the method automatically selected based on input circuits and parameters.\n",
    "\n",
    "#### Statevector (32 qubits)\n",
    "Simulates quantum circuits by computing the qubit's wavefunction statevector as gates and instructions are applied, supporting general noise modeling.\n",
    "\n",
    "Further details can be found on the [IBM website](https://quantum-computing.ibm.com/services/resources?tab=simulators).\n",
    "\n",
    "\n",
    "### D-Wave Systems\n",
    "\n",
    "D-Wave Systems is a leading provider of Quantum Annealers, specialized quantum hardware designed for optimization problems. For a brief introduction to Quantum Annealing, refer to the [D-Wave website](https://docs.dwavesys.com/docs/latest/c_gs_2.html).\n",
    "\n",
    "To access D-Wave hardware, sign up for [Leap](https://cloud.dwavesys.com/leap/login/?next=/leap/), D-Wave's quantum cloud service, providing real-time access to their Advantage quantum computers. Signing up is free and grants you 1 free minute of processing time. For additional processing time, contact D-Wave directly."
   ]
  },
  {
   "cell_type": "markdown",
   "metadata": {},
   "source": [
    "### Coming Soon\n",
    "\n",
    "In addition to the mentioned hardware providers, we are actively expanding the portfolio of available quantum hardware providers. In future versions, you can expect to access hardware from [IonQ](www.ionq.com), [Rigetti](rigetti.com), [Oxford Quantum Circuits](https://oxfordquantumcircuits.com/), [QuEra](https://www.quera.com/) and [Fujitsu](https://www.fujitsu.com/de/themes/digitalannealer/), among others. Stay tuned and follow our [LinkedIn page](https://www.linkedin.com/company/aqarios-gmbh) for future updates."
   ]
  }
 ],
 "metadata": {
  "kernelspec": {
   "display_name": "Python 3 (ipykernel)",
   "language": "python",
   "name": "python3"
  },
  "language_info": {
   "codemirror_mode": {
    "name": "ipython",
    "version": 3
   },
   "file_extension": ".py",
   "mimetype": "text/x-python",
   "name": "python",
   "nbconvert_exporter": "python",
   "pygments_lexer": "ipython3",
   "version": "3.8.10"
  }
 },
 "nbformat": 4,
 "nbformat_minor": 2
}
