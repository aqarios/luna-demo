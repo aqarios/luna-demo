{
 "cells": [
  {
   "cell_type": "markdown",
   "metadata": {},
   "source": [
    "# Aqarios Luna Documentation\n",
    "\n",
    "Make it look something like this:\n",
    "\n",
    "<div>\n",
    "<img src=\"overview.png\" width=\"800\"/>\n",
    "</div>\n",
    "\n",
    "+ Missing subpages \"Organizations\" and \"Use Cases\"\n",
    "Text is just an example, will change that after layout is fixed\n",
    "Also add some graphic like Q-CTRL\n",
    "\n",
    "We can also add boxes with a link to each part of the docs:\n",
    "\n",
    "<div>\n",
    "<img src=\"overview_boxes.png\" width=\"800\"/>\n",
    "</div>\n",
    "\n",
    "\n",
    "Order of pages:\n",
    "- Overview\n",
    "- Get Started\n",
    "- Tutorials\n",
    "- LunaSolve\n",
    "- LunaBench\n",
    "- LunaQ\n",
    "- Organizations\n",
    "- Use Cases\n",
    "- Solvers & Algorithms\n",
    "- Quantum Hardware\n",
    "\n",
    "Don't forget Footer, Cookies etc. We can take this from our website."
   ]
  }
 ],
 "metadata": {
  "kernelspec": {
   "display_name": "Python 3 (ipykernel)",
   "language": "python",
   "name": "python3"
  },
  "language_info": {
   "codemirror_mode": {
    "name": "ipython",
    "version": 3
   },
   "file_extension": ".py",
   "mimetype": "text/x-python",
   "name": "python",
   "nbconvert_exporter": "python",
   "pygments_lexer": "ipython3",
   "version": "3.8.10"
  }
 },
 "nbformat": 4,
 "nbformat_minor": 2
}
