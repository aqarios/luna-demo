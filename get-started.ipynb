{
 "cells": [
  {
   "cell_type": "markdown",
   "metadata": {},
   "source": [
    "# Get Started\n",
    "\n",
    "Aqarios Luna is a platform designed to facilitate the application of quantum technologies, providing services that span the entire journey from from formulating a use case to achieving a quantum-powered solution. Luna's primary focus is on solving complex optimization problems.\n",
    "\n",
    "Many of the business challenges faced by companies today can be formulated as optimization problems, whether in supply chain management, portfolio optimization, or balancing demand and supply for electricity. However, a significant portion of our real-world optimization problems is so complex that they cannot be solved efficiently - or even not at all, using our current hardware, *classical computers*. This results in inefficient workflows and huge untapped potential throughout our entire economy.\n",
    "\n",
    "This is precisely where **Quantum Computing** will shine. The quantum leap in computing power and speed will empower us to efficiently tackle these optimization problems, leading to unparalleled advances in our economic future.\n",
    "\n",
    "Luna enables businesses to harness quantum technology and solve the most complex business problems. While quantum computers hold tremendous potential, the complexity associated with developing, understanding, and applying the necessary quantum algorithms remains a major challgenge for many stakeholders. Luna offers an intuitive and user-friendly interface for accessing quantum hardware and applying quantum algorithm. This eliminates the needs to delve into the mechanics behind quantum algorithms, instead focusing on solving problems and achieving solutions. At the same time, Luna offers full customization and flexibility for users with the necessary expertise who wish to explore further depths. "
   ]
  },
  {
   "cell_type": "markdown",
   "metadata": {},
   "source": [
    "## Setup\n",
    "\n",
    "### 1. Access Luna\n",
    "\n",
    "To acquire an account for accessing Luna, reach out to us directly through our [Website](https://aqarios.com/get-started). You will receive access to the Luna package, along with instructions and guidance for installation and environment setup."
   ]
  },
  {
   "cell_type": "markdown",
   "metadata": {},
   "source": [
    "### 2. Prepare your credentials\n",
    "\n",
    "To access Luna's services, you'll need to provide your credentials. A simple way to do this is by creating a JSON file named credentials.json in your working directory.\n",
    "\n",
    "This file will store your confidential login information, allowing you to request access from the platform without the need to manually input your credentials each time.\n",
    "\n",
    "The file's structure should resemble the following:\n",
    "\n",
    "```\n",
    "{\n",
    "    \"username\": \"YOUREMAILHERE\",\n",
    "    \"password\": \"YOURPASSWORDHERE\"\n",
    "}\n",
    "```"
   ]
  },
  {
   "cell_type": "markdown",
   "metadata": {},
   "source": [
    "### 3. Initiate  your first Luna session\n",
    "\n",
    "To begin using Luna, import the package you've recently installed and initiate your session. This involves creating a `Luna` object along with a corresponding object for your intended service. Provide the necessary credentials for seamless access."
   ]
  },
  {
   "cell_type": "code",
   "execution_count": null,
   "metadata": {},
   "outputs": [],
   "source": [
    "# Load the luna package\n",
    "from luna import Luna\n",
    "\n",
    "# Create a Luna object and set your credentials\n",
    "luna = Luna(credentials=\"credentials.json\")\n",
    "\n",
    "# Initiate your first LunaSolve session\n",
    "ls = luna.start_LunaSolve()\n",
    "\n",
    "# Initiate your first LunaBench session\n",
    "lb = luna.start_LunaBench()\n",
    "\n",
    "# Initiate your first LunaQ session\n",
    "lq = luna.start_LunaQ()"
   ]
  },
  {
   "cell_type": "markdown",
   "metadata": {},
   "source": [
    "### 4. Configure your QPU token (optional)\n",
    "\n",
    "If you wish to access the quantum hardware using your organization's tokens, you can instruct Luna to configure this token for you. "
   ]
  },
  {
   "cell_type": "code",
   "execution_count": null,
   "metadata": {},
   "outputs": [],
   "source": [
    "# Configure your token to access quantum hardware\n",
    "luna.set_qpu_token(provider='<QPUPROVIDER>', token='<QPUTOKEN>')"
   ]
  },
  {
   "cell_type": "markdown",
   "metadata": {},
   "source": [
    "You can visit our page on [quantum hardware providers](https://docs.aqarios.com/quantum-hardware) to find out more about the quantum hardware available through Luna and how to gain access."
   ]
  },
  {
   "cell_type": "markdown",
   "metadata": {},
   "source": [
    "### 5. Start using our services"
   ]
  },
  {
   "cell_type": "markdown",
   "metadata": {},
   "source": [
    "These steps cover the essentials to start your journey with Luna. You are now ready to apply quantum computing to your use cases.\n",
    "\n",
    "You can find practical demonstrations on our [tutorials](https://docs.aqarios.com/tutorials) page. Alternatively, you can dive into more in-depth descriptions of [LunaSolve](https://docs.aqarios.com/lunasolve),  [LunaBench](https://docs.aqarios.com/lunabench) and [LunaQ](https://docs.aqarios.com/lunaq)."
   ]
  }
 ],
 "metadata": {
  "kernelspec": {
   "display_name": "Python 3 (ipykernel)",
   "language": "python",
   "name": "python3"
  },
  "language_info": {
   "codemirror_mode": {
    "name": "ipython",
    "version": 3
   },
   "file_extension": ".py",
   "mimetype": "text/x-python",
   "name": "python",
   "nbconvert_exporter": "python",
   "pygments_lexer": "ipython3",
   "version": "3.8.10"
  }
 },
 "nbformat": 4,
 "nbformat_minor": 2
}
