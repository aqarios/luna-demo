{
 "cells": [
  {
   "cell_type": "markdown",
   "metadata": {},
   "source": [
    "# Get Started\n",
    "\n",
    "Aqarios Luna is a platform designed to facilitate the application of quantum technologies, providing services that span the entire journey from from formulating a use case to achieving a quantum-powered solution. Luna's primary focus is on solving complex optimization problems.\n",
    "\n",
    "Many of the business challenges faced by companies today can be formulated as optimization problems, whether in supply chain management, portfolio optimization, or balancing demand and supply for electricity. However, a significant portion of our real-world optimization problems is so complex that they cannot be solved efficiently - or even not at all, using our current hardware, *classical computers*. This results in inefficient workflows and huge untapped potential throughout our entire economy.\n",
    "\n",
    "This is precisely where **Quantum Computing** will shine. The quantum leap in computing power and speed will empower us to efficiently tackle these optimization problems, leading to unparalleled advances in our economic future.\n",
    "\n",
    "Luna enables businesses to harness quantum technology and solve the most complex business problems. While quantum computers hold tremendous potential, the complexity associated with developing, understanding, and applying the necessary quantum algorithms remains a major challgenge for many stakeholders. Luna offers an intuitive and user-friendly interface for accessing quantum hardware and applying quantum algorithm. This eliminates the needs to delve into the mechanics behind quantum algorithms, instead focusing on solving problems and achieving solutions. At the same time, Luna offers full customization and flexibility for users with the necessary expertise who wish to explore further depths. "
   ]
  },
  {
   "cell_type": "markdown",
   "metadata": {},
   "source": [
    "## Setup\n",
    "\n",
    "### 1. Access Luna\n",
    "\n",
    "To acquire an account for accessing Luna, reach out to us directly through our [Website](https://aqarios.com/get-started). You will receive access to the Luna package, along with instructions and guidance for installation and environment setup."
   ]
  },
  {
   "cell_type": "markdown",
   "metadata": {},
   "source": []
  },
  {
   "cell_type": "markdown",
   "metadata": {},
   "source": [
    "### 2. Initiate  your first Luna session\n",
    "\n",
    "To begin using Luna, import the package you've recently installed and initiate your session. This involves creating a `Luna` object along with a corresponding object for your intended service. Provide the necessary credentials for seamless access."
   ]
  },
  {
   "cell_type": "code",
   "execution_count": null,
   "metadata": {},
   "outputs": [],
   "source": [
    "# Load the luna package\n",
    "from luna_sdk import LunaSolve\n",
    "\n",
    "# Create a Luna object and set your credentials\n",
    "luna = LunaSolve(username=\"YOURUSERNAME\", password=\"YOURPASSWORD\")"
   ]
  },
  {
   "cell_type": "markdown",
   "metadata": {},
   "source": [
    "### 3. Configure your QPU token (optional)\n",
    "\n",
    "If you wish to access the quantum hardware using your organization's tokens, you can instruct Luna to configure this token for you. "
   ]
  },
  {
   "cell_type": "code",
   "execution_count": null,
   "metadata": {},
   "outputs": [],
   "source": [
    "# Configure your token to access quantum hardware\n",
    "from luna_sdk.schemas.enums.qpu_provider import QpuProviderEnum\n",
    "from luna_sdk.schemas.qpu_token import QpuToken\n",
    "qpu_token: QpuToken = luna.user.create_qpu_token(\n",
    "    name=\"TokenName\",\n",
    "    provider=QpuProviderEnum.dwave,\n",
    "    token=\"QPUToken\"\n",
    ")"
   ]
  },
  {
   "cell_type": "markdown",
   "metadata": {},
   "source": [
    "You can visit our page on [quantum hardware providers](https://docs.aqarios.com/quantum-hardware) to find out more about the quantum hardware available through Luna and how to gain access."
   ]
  },
  {
   "cell_type": "markdown",
   "metadata": {},
   "source": [
    "### 4. Start using our services"
   ]
  },
  {
   "cell_type": "markdown",
   "metadata": {},
   "source": [
    "These steps cover the essentials to start your journey with Luna. You are now ready to apply quantum computing to your use cases.\n",
    "\n",
    "You can find practical demonstrations on our [tutorials](https://docs.aqarios.com/tutorials) page. Alternatively, you can dive into more in-depth descriptions of [LunaSolve](https://docs.aqarios.com/lunasolve),  [LunaBench](https://docs.aqarios.com/lunabench) and [LunaQ](https://docs.aqarios.com/lunaq)."
   ]
  }
 ],
 "metadata": {
  "kernelspec": {
   "display_name": "Python 3 (ipykernel)",
   "language": "python",
   "name": "python3"
  },
  "language_info": {
   "codemirror_mode": {
    "name": "ipython",
    "version": 3
   },
   "file_extension": ".py",
   "mimetype": "text/x-python",
   "name": "python",
   "nbconvert_exporter": "python",
   "pygments_lexer": "ipython3",
   "version": "3.8.10"
  }
 },
 "nbformat": 4,
 "nbformat_minor": 2
}
