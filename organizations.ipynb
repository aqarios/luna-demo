{
 "cells": [
  {
   "cell_type": "markdown",
   "metadata": {},
   "source": [
    "# Organizations"
   ]
  },
  {
   "cell_type": "markdown",
   "metadata": {},
   "source": [
    "## Organize your organization's structure\n",
    "\n",
    "Luna enables creating hierarchical organization account structures, allowing you to establish a framework with one or more administrators and multiple users within your organization. You can assign access tokens for quantum hardware at the organizational level, ensuring that users can use the hardware, but don't possess the authority to view, modify, or delete the tokens. Admins are able to manage user privileges, including adding or removing users, as well as assigning or revoking administrative roles.\n",
    "\n",
    "To associate an organization with your account and attain administrative privileges, please get in contact with us. Once you have obtained administrative access to your organization, you can start adding user accounts and overseeing user roles."
   ]
  },
  {
   "cell_type": "code",
   "execution_count": null,
   "metadata": {},
   "outputs": [],
   "source": [
    "# Load the luna package\n",
    "from luna import Luna\n",
    "\n",
    "# Create a Luna object and set your credentials\n",
    "luna = Luna(credentials=\"credentials.json\")\n",
    "\n",
    "# Define the email address, given name and family name of the user to add\n",
    "email = 'user@example.com'\n",
    "given_name = 'User'\n",
    "family_name = 'Example'\n",
    "\n",
    "# Add the specified user to your organization\n",
    "luna.add_user(email=email, given_name=given_name, family_name=family_name)\n",
    "\n",
    "# Assign the admin role to the new user\n",
    "luna.assign_admin(email=email)\n",
    "\n",
    "# Remove the admin role from the new user\n",
    "luna.revoke_admin(email=email)\n",
    "\n",
    "# Remove the user from your organization\n",
    "luna.remove_user(email=email)"
   ]
  },
  {
   "cell_type": "markdown",
   "metadata": {},
   "source": [
    "You can get an overview of a specific user and all current users in your organization at any time."
   ]
  },
  {
   "cell_type": "code",
   "execution_count": null,
   "metadata": {},
   "outputs": [],
   "source": [
    "# View a specific user of your organization\n",
    "luna.view_user(email=email)\n",
    "\n",
    "# View all users of your organization\n",
    "luna.view_all_users()"
   ]
  },
  {
   "cell_type": "markdown",
   "metadata": {},
   "source": [
    "Your organization can be used to add access tokens to quantum hardware without your users being able to access the token themselves."
   ]
  },
  {
   "cell_type": "code",
   "execution_count": null,
   "metadata": {},
   "outputs": [],
   "source": [
    "# Set the provider of the quantum hardware, e.g. 'IBM'\n",
    "provider = '<QPUPROVIDER>'\n",
    "\n",
    "# Set the token you have received to access the quantum hardware provider\n",
    "token = '<QPUTOKEN>'\n",
    "\n",
    "# Finally, set the token in your organization in Luna to be able to access the quantum hardware\n",
    "luna.set_organization_qpu_token(provider=provider, token=token)"
   ]
  },
  {
   "cell_type": "markdown",
   "metadata": {},
   "source": [
    "You can always get a list of the tokens of your organization."
   ]
  },
  {
   "cell_type": "code",
   "execution_count": null,
   "metadata": {},
   "outputs": [],
   "source": [
    "# Get a list of all tokens set for your organization \n",
    "tokens = luna.get_organization_qpu_tokens()"
   ]
  },
  {
   "cell_type": "markdown",
   "metadata": {},
   "source": [
    "You can also rename any of the tokens."
   ]
  },
  {
   "cell_type": "code",
   "execution_count": null,
   "metadata": {},
   "outputs": [],
   "source": [
    "# Access one of your organization's QPU tokens\n",
    "qpu_token = tokens[0]\n",
    "\n",
    "# Get the id of the QPU token\n",
    "qpu_token_id = qpu_token['id']\n",
    "\n",
    "# Define a new name for the token\n",
    "name = 'new_token_name'\n",
    "\n",
    "# Rename the accessed QPU token\n",
    "luna.rename_organization_qpu_token(id=qpu_token_id, name=name)"
   ]
  },
  {
   "cell_type": "markdown",
   "metadata": {},
   "source": [
    "And, finally, if you don't want a token to be stored in your organization any more, you can remove any tokens you don't need."
   ]
  },
  {
   "cell_type": "code",
   "execution_count": null,
   "metadata": {},
   "outputs": [],
   "source": [
    "# Delete a specific token. Use with caution!\n",
    "luna.delete_organization_qpu_token(id=qpu_token_id)"
   ]
  }
 ],
 "metadata": {
  "kernelspec": {
   "display_name": "Python 3 (ipykernel)",
   "language": "python",
   "name": "python3"
  },
  "language_info": {
   "codemirror_mode": {
    "name": "ipython",
    "version": 3
   },
   "file_extension": ".py",
   "mimetype": "text/x-python",
   "name": "python",
   "nbconvert_exporter": "python",
   "pygments_lexer": "ipython3",
   "version": "3.8.10"
  }
 },
 "nbformat": 4,
 "nbformat_minor": 2
}
