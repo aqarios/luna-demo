{
 "cells": [
  {
   "cell_type": "markdown",
   "metadata": {},
   "source": [
    "# Organizations"
   ]
  },
  {
   "cell_type": "markdown",
   "metadata": {},
   "source": [
    "## Organize your organization's structure\n",
    "\n",
    "Luna enables creating hierarchical organization account structures, allowing you to establish a framework with one or more administrators and multiple users within your organization. You can assign access tokens for quantum hardware at the organizational level, ensuring that users can use the hardware, but don't possess the authority to view, modify, or delete the tokens. Admins are able to manage user privileges, including adding or removing users, as well as assigning or revoking administrative roles.\n",
    "\n",
    "To associate an organization with your account and attain administrative privileges, please get in contact with us. Once you have obtained administrative access to your organization, you can start adding user accounts and overseeing user roles."
   ]
  },
  {
   "cell_type": "code",
   "execution_count": null,
   "metadata": {},
   "outputs": [],
   "source": [
    "# Load the luna package\n",
    "from luna_sdk import LunaSolve\n",
    "from luna_sdk.schemas.user import User\n",
    "\n",
    "# Create a Luna object and set your credentials\n",
    "luna = LunaSolve(username=\"YOURUSERNAME\", password=\"YOURPASSWORD\")\n",
    "\n",
    "# Define the email address, given name and family name of the user to add\n",
    "email = 'user@example.com'\n",
    "given_name = 'User'\n",
    "family_name = 'Example'\n",
    "\n",
    "# Add the specified user to your organization\n",
    "user: User = luna.organization.add_user(email=email, given_name=given_name, family_name=family_name)\n",
    "\n",
    "# Assign the admin role to the new user\n",
    "user: User = luna.organization.assign_admin(email=email)\n",
    "\n",
    "# Remove the admin role from the new user\n",
    "user: User = luna.organization.revoke_admin(email=email)\n",
    "\n",
    "# Remove the user from your organization\n",
    "luna.organization.delete_user(email=email)"
   ]
  },
  {
   "cell_type": "markdown",
   "metadata": {},
   "source": [
    "You can get an overview of a specific user and all current users in your organization at any time."
   ]
  },
  {
   "cell_type": "code",
   "execution_count": null,
   "metadata": {},
   "outputs": [],
   "source": [
    "# View a specific user of your organization\n",
    "user: User = luna.organization.get_user(email=email)\n",
    "\n",
    "from typing import List\n",
    "# View all users of your organization\n",
    "users: List[User] = luna.organization.get_users()"
   ]
  },
  {
   "cell_type": "markdown",
   "metadata": {},
   "source": [
    "Your organization can be used to add access tokens to quantum hardware without your users being able to access the token themselves."
   ]
  },
  {
   "cell_type": "code",
   "execution_count": null,
   "metadata": {},
   "outputs": [],
   "source": [
    "from luna_sdk.schemas.enums.qpu_provider import QpuProviderEnum\n",
    "from luna_sdk.schemas.qpu_token import QpuToken\n",
    "# create organization qpu tokens\n",
    "qpu_token: QpuToken = luna.organization.create_qpu_token(\n",
    "    name=\"TokenName\", provider=QpuProviderEnum.dwave, token=\"QPUToken\"\n",
    ")"
   ]
  },
  {
   "cell_type": "markdown",
   "metadata": {},
   "source": [
    "You can always get a list of the tokens of your organization."
   ]
  },
  {
   "cell_type": "code",
   "execution_count": null,
   "metadata": {},
   "outputs": [],
   "source": [
    "from typing import List\n",
    "# get organization qpu tokens, the filter is optional\n",
    "tokens: List[QpuToken] = luna.organization.get_qpu_tokens(filter_qpu_provider=QpuProviderEnum.dwave)"
   ]
  },
  {
   "cell_type": "markdown",
   "metadata": {},
   "source": [
    "You can also rename any of the tokens."
   ]
  },
  {
   "cell_type": "code",
   "execution_count": null,
   "metadata": {},
   "outputs": [],
   "source": [
    "# Access one of your organization's QPU tokens\n",
    "token_to_rename: QpuToken = tokens[0]\n",
    "\n",
    "# rename an organization qpu token\n",
    "token_renamed: QpuToken =luna.organization.update_qpu_token(qpu_token_id=token_to_rename.id, name=\"NewTokenName\")"
   ]
  },
  {
   "cell_type": "markdown",
   "metadata": {},
   "source": [
    "And, finally, if you don't want a token to be stored in your organization any more, you can remove any tokens you don't need."
   ]
  },
  {
   "cell_type": "code",
   "execution_count": null,
   "metadata": {},
   "outputs": [],
   "source": [
    "# Delete a specific token. Use with caution!\n",
    "luna.organization.delete_qpu_token(qpu_token_id=qpu_token.id)"
   ]
  }
 ],
 "metadata": {
  "kernelspec": {
   "display_name": "Python 3 (ipykernel)",
   "language": "python",
   "name": "python3"
  },
  "language_info": {
   "codemirror_mode": {
    "name": "ipython",
    "version": 3
   },
   "file_extension": ".py",
   "mimetype": "text/x-python",
   "name": "python",
   "nbconvert_exporter": "python",
   "pygments_lexer": "ipython3",
   "version": "3.11.5"
  }
 },
 "nbformat": 4,
 "nbformat_minor": 4
}
