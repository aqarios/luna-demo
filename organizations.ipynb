{
 "cells": [
  {
   "cell_type": "markdown",
   "metadata": {},
   "source": [
    "# Organizations"
   ]
  },
  {
   "cell_type": "markdown",
   "metadata": {},
   "source": [
    "## Organize your organization's structure\n",
    "\n",
    "Luna enables creating hierarchical organization account structures, allowing you to establish a framework with one or more administrators and multiple users within your organization. You can assign access tokens for quantum hardware at the organizational level, ensuring that users can use the hardware, but don't possess the authority to view, modify, or delete the tokens. Admins are able to manage user privileges, including adding or removing users, as well as assigning or revoking administrative roles.\n",
    "\n",
    "To associate an organization with your account and attain administrative privileges, please get in contact with us. Once you have obtained administrative access to your organization, you can start adding user accounts and overseeing user roles."
   ]
  },
  {
   "cell_type": "code",
   "execution_count": 4,
   "metadata": {
    "ExecuteTime": {
     "end_time": "2023-09-08T10:50:21.392744036Z",
     "start_time": "2023-09-08T10:50:21.322898990Z"
    }
   },
   "outputs": [
    {
     "ename": "ModuleNotFoundError",
     "evalue": "No module named 'luna_sdk'",
     "output_type": "error",
     "traceback": [
      "\u001B[0;31m---------------------------------------------------------------------------\u001B[0m",
      "\u001B[0;31mModuleNotFoundError\u001B[0m                       Traceback (most recent call last)",
      "Cell \u001B[0;32mIn[4], line 2\u001B[0m\n\u001B[1;32m      1\u001B[0m \u001B[38;5;66;03m# Load the luna package\u001B[39;00m\n\u001B[0;32m----> 2\u001B[0m \u001B[38;5;28;01mfrom\u001B[39;00m \u001B[38;5;21;01mluna_sdk\u001B[39;00m \u001B[38;5;28;01mimport\u001B[39;00m LunaSolve\n\u001B[1;32m      4\u001B[0m \u001B[38;5;66;03m# Create a Luna object and set your credentials\u001B[39;00m\n\u001B[1;32m      5\u001B[0m luna \u001B[38;5;241m=\u001B[39m LunaSolve(username\u001B[38;5;241m=\u001B[39m\u001B[38;5;124m\"\u001B[39m\u001B[38;5;124mYOURUSERNAME\u001B[39m\u001B[38;5;124m\"\u001B[39m, password\u001B[38;5;241m=\u001B[39m\u001B[38;5;124m\"\u001B[39m\u001B[38;5;124mYOURPASSWORD\u001B[39m\u001B[38;5;124m\"\u001B[39m)\n",
      "\u001B[0;31mModuleNotFoundError\u001B[0m: No module named 'luna_sdk'"
     ]
    }
   ],
   "source": [
    "# Load the luna package\n",
    "from luna_sdk import LunaSolve\n",
    "\n",
    "# Create a Luna object and set your credentials\n",
    "luna = LunaSolve(username=\"YOURUSERNAME\", password=\"YOURPASSWORD\")\n",
    "\n"
   ]
  },
  {
   "cell_type": "markdown",
   "metadata": {},
   "source": [
    "You can get an overview of a specific user and all current users in your organization at any time."
   ]
  },
  {
   "cell_type": "code",
   "execution_count": null,
   "metadata": {},
   "outputs": [],
   "source": []
  },
  {
   "cell_type": "markdown",
   "metadata": {},
   "source": [
    "Your organization can be used to add access tokens to quantum hardware without your users being able to access the token themselves."
   ]
  },
  {
   "cell_type": "code",
   "execution_count": null,
   "metadata": {},
   "outputs": [],
   "source": [
    "from luna_sdk.schemas.enums.qpu_provider import QpuProviderEnum\n",
    "from luna_sdk.schemas.qpu_token import QpuToken\n",
    "# create organization qpu tokens\n",
    "qpu_token: QpuToken = luna.organization.create_qpu_token(\n",
    "    name=\"TokenName\", provider=QpuProviderEnum.dwave, token=\"QPUToken\"\n",
    ")"
   ]
  },
  {
   "cell_type": "markdown",
   "metadata": {},
   "source": [
    "You can always get a list of the tokens of your organization."
   ]
  },
  {
   "cell_type": "code",
   "execution_count": null,
   "metadata": {},
   "outputs": [],
   "source": [
    "from typing import List\n",
    "# get organization qpu tokens, the filter is optional\n",
    "tokens: List[QpuToken] = luna.organization.get_qpu_tokens(filter_qpu_provider=QpuProviderEnum.dwave)"
   ]
  },
  {
   "cell_type": "markdown",
   "metadata": {},
   "source": [
    "You can also rename any of the tokens."
   ]
  },
  {
   "cell_type": "code",
   "execution_count": null,
   "metadata": {},
   "outputs": [],
   "source": [
    "# Access one of your organization's QPU tokens\n",
    "token_to_rename: QpuToken = tokens[0]\n",
    "\n",
    "# rename an organization qpu token\n",
    "token_renamed: QpuToken =luna.organization.update_qpu_token(qpu_token_id=token_to_rename.id, name=\"NewTokenName\")"
   ]
  },
  {
   "cell_type": "markdown",
   "metadata": {},
   "source": [
    "And, finally, if you don't want a token to be stored in your organization any more, you can remove any tokens you don't need."
   ]
  },
  {
   "cell_type": "code",
   "execution_count": null,
   "metadata": {},
   "outputs": [],
   "source": [
    "# Delete a specific token. Use with caution!\n",
    "luna.organization.delete_qpu_token(qpu_token_id=qpu_token.id)"
   ]
  }
 ],
 "metadata": {
  "kernelspec": {
   "display_name": "Python 3 (ipykernel)",
   "language": "python",
   "name": "python3"
  },
  "language_info": {
   "codemirror_mode": {
    "name": "ipython",
    "version": 3
   },
   "file_extension": ".py",
   "mimetype": "text/x-python",
   "name": "python",
   "nbconvert_exporter": "python",
   "pygments_lexer": "ipython3",
   "version": "3.8.10"
  }
 },
 "nbformat": 4,
 "nbformat_minor": 2
}
