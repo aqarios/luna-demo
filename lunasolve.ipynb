{
 "cells": [
  {
   "cell_type": "markdown",
   "metadata": {},
   "source": [
    "# LunaSolve\n",
    "\n",
    "## Solving real-world optimization challenges efficiently\n",
    "\n",
    "\n",
    "LunaSolve is a service dedicated to optimizing business solutions by offering tailored software and hardware options for tackling optimization challenges. With our user-centric approach, you can create optimization instances using a documented high-level specification, or upload problems using industry-standard modeling formats. Once submitted, our AI-driven recommendation engine suggests suitable software and hardware based on your specific use case. We then leverage quantum computers to handle the challenge, process the data, and deliver the solution. Through post-processing techniques, we convert raw quantum data into a human-readable format before sharing the response with you.\n",
    "\n",
    "When using LunaSolve, you typically follow three steps:\n",
    "\n",
    "- **Transformation:** Go from your problem definition to a (quantum-ready) mathematical format\n",
    "- **Recommendation:** Get a suggestion on the best combination of software and hardware for your use case\n",
    "- **Solve:** Solve the problem on quantum or classical hardware, or a combination of both.\n",
    "\n",
    "To get started with LunaSolve, refer to the [Get Started page](https://docs.aqarios.com/get-started) for instructions. Once you've set the foundation, you can directly dive into the service and start solving your optimization challenges."
   ]
  },
  {
   "cell_type": "code",
   "execution_count": null,
   "metadata": {},
   "outputs": [],
   "source": [
    "# Load the luna package\n",
    "from luna import Luna\n",
    "\n",
    "# Create a Luna object and set your credentials\n",
    "luna = Luna(credentials=\"credentials.json\")\n",
    "\n",
    "# Create your LunaSolve session\n",
    "ls = luna.start_LunaSolve()"
   ]
  },
  {
   "cell_type": "markdown",
   "metadata": {},
   "source": [
    "## Transformation: How to create optimization problem instances\n",
    "\n",
    "To start solving an optimization problem, the first step is to define which problem you want to solve in the first place. You have two different approaches how to formulate the problem: You can either choose an optimization problem from our [use case library](https://docs.aqarios.com/use-cases) or directly provide your use case in a mathematical modeling format. At the moment, we only support QUBOs as predefined modeling formats, but other modelling languages will be included in future versions.\n",
    "\n",
    "### Access our use case library\n",
    "\n",
    "We provide users with a built-in library of (currently) more than 40 different optimization problems which can be configured using human-readable data formats such as graphs or lists. These are then automatically transformed into appropriate mathematical representations for optimization algorithms and quantum hardware.\n",
    "\n",
    "The list of currently available optimizations can be retrieved from our [use case library](https://docs.aqarios.com/use-cases). Here, you can also find detailed information on how to specify each problem formulation, i.e. which parameters you need to provide for each optimization problem and which format they should be in.\n",
    "\n",
    "As an example, let's say you want to solve a Traveling Salesperson Problem (TSP). From our use case library, you can find all information about the use case, including a description, a link to a detailed description of the mathematical model, and any parameters necessary to create a problem instance. Here, you will see that to create an instance of TSP, the only data you need to provide is a graph. This graph can either be a nested dictionary or can be created from `networkx`. We recommend the latter approach."
   ]
  },
  {
   "cell_type": "code",
   "execution_count": null,
   "metadata": {},
   "outputs": [],
   "source": [
    "import networkx as nx\n",
    "\n",
    "# Create an empty graph using networkx\n",
    "graph = nx.Graph()\n",
    "\n",
    "# Define the nodes of our TSP instance\n",
    "nodes = ['A', 'B', 'C', 'D']\n",
    "\n",
    "# Add the nodes to our graph\n",
    "graph.add_nodes_from(nodes)\n",
    "\n",
    "# Define the distances between each node\n",
    "edges = [('A', 'B', 10), \n",
    "         ('A', 'C', 9), \n",
    "         ('A', 'D', 13), \n",
    "         ('B', 'C', 6), \n",
    "         ('B', 'D', 21), \n",
    "         ('C', 'D', 15)]\n",
    "\n",
    "# Add the distances as the edges in our graph\n",
    "graph.add_weighted_edges_from(edges)"
   ]
  },
  {
   "cell_type": "markdown",
   "metadata": {},
   "source": [
    "With this, we have defined our graph and provided all the necessary specifications. Now, let's send our graph to Luna and generate the TSP instance."
   ]
  },
  {
   "cell_type": "code",
   "execution_count": null,
   "metadata": {},
   "outputs": [],
   "source": [
    "# Convert the networkx graph to a digestible format for Luna\n",
    "graph_data = nx.to_dict_of_dicts(graph)\n",
    "\n",
    "# Define that we want to create a TSP with the corresponding graph data\n",
    "tsp_instance =  {\n",
    "    \"name\": \"TSP\",\n",
    "    \"graph\": graph_data\n",
    "}\n",
    "\n",
    "# Create a TSP instance and retrieve the corresponding ID\n",
    "tsp_id = luna.create_optimization(instance=tsp_instance)"
   ]
  },
  {
   "cell_type": "markdown",
   "metadata": {},
   "source": [
    "When creating an instance of an optimization problem, Luna will store this problem in your account's database. This way, you can access the instance for further calculations or revisit it at a later time.\n",
    "\n",
    "### Uploading custom optimization problems\n",
    "\n",
    "We also offer the ability to solve instances of problem classes that are not included in our use case library. To achieve this, you can send the mathematical model of your optimization problem to Luna. Currently, only QUBOs are supported, but we plan to include other mathematical formats in future versions. QUBOs can be provided as nested lists of floats, and all the same functionalities available to optimization problems are accessible for problems formulated as QUBOs as well."
   ]
  },
  {
   "cell_type": "code",
   "execution_count": null,
   "metadata": {},
   "outputs": [],
   "source": [
    "qubo = [\n",
    "    [4, 0, 0, 0, -2],\n",
    "    [0, -2, 0, 0, 0],\n",
    "    [0, 0, 6, -3, 0],\n",
    "    [0, 0, -3, 2, 0],\n",
    "    [-2, 0, 0, 0, 5]\n",
    "]\n",
    "\n",
    "# Send and store the QUBO and retrieve the corresponding ID\n",
    "qubo_id = luna.create_qubo(instance=tsp_instance)"
   ]
  },
  {
   "cell_type": "markdown",
   "metadata": {},
   "source": [
    "In a similar fashion to when creating an instance of an optimization problem, Luna will store this problem in your account's database. You can access the QUBO for further computations just as you would with instances created through the use case library.\n",
    "\n",
    "### Managing and accessing your optimization problems and solutions\n",
    "\n",
    "All optimization problems created through Luna or uploaded to it will be stored in your account. You can always access a list of all IDs of the optimization problems you have created."
   ]
  },
  {
   "cell_type": "code",
   "execution_count": null,
   "metadata": {},
   "outputs": [],
   "source": [
    "# Maximum number of optimization problems to be returned\n",
    "show_limit = 10\n",
    "\n",
    "# Retrieve a list of your created optimization problem instances\n",
    "all_optimization_ids = luna.get_all_optimizations(show_limit=show_limit)"
   ]
  },
  {
   "cell_type": "markdown",
   "metadata": {},
   "source": [
    "You can use this functionality for repeated access at a later point, allowing you to create multiple solutions and perform various operations. Additionally, you have the ability to access individual instances to retrieve more detailed information, such as the name of the instance, its creation timestamp, or the specific QUBO formulation."
   ]
  },
  {
   "cell_type": "code",
   "execution_count": null,
   "metadata": {},
   "outputs": [],
   "source": [
    "# Select an instance you want more details about\n",
    "optimization_instance_id = all_optimization_ids[0]\n",
    "\n",
    "# Get more information about the specific instance\n",
    "optimization_instance = luna.get_optimization(id=optimization_instance_id)\n",
    "\n",
    "# Print the details of the specific instance\n",
    "print(optimization_instance)"
   ]
  },
  {
   "cell_type": "markdown",
   "metadata": {},
   "source": [
    "Furthermore, you have the option to rename the optimizations you have created."
   ]
  },
  {
   "cell_type": "code",
   "execution_count": null,
   "metadata": {},
   "outputs": [],
   "source": [
    "# Rename a specific instance\n",
    "luna.rename_optimization(id=optimization_instance_id, name='New instance name')"
   ]
  },
  {
   "cell_type": "markdown",
   "metadata": {},
   "source": [
    "You can always retrieve all existing solutions for any optimization."
   ]
  },
  {
   "cell_type": "code",
   "execution_count": null,
   "metadata": {},
   "outputs": [],
   "source": [
    "# Retrieve all solutions for a specific instance\n",
    "all_solutions = luna.get_all_solutions(id=optimization_instance_id)"
   ]
  },
  {
   "cell_type": "markdown",
   "metadata": {},
   "source": [
    "Or also retrieve any specific solution for your optimization problems."
   ]
  },
  {
   "cell_type": "code",
   "execution_count": null,
   "metadata": {},
   "outputs": [],
   "source": [
    "# Specify a solution ID to retrieve\n",
    "solution_id = all_solutions[0]\n",
    "\n",
    "# Retrieve all solutions for a specific instance\n",
    "luna.get_solutions(optimization_id=optimization_instance_id, solution_id=solution_id)"
   ]
  },
  {
   "cell_type": "markdown",
   "metadata": {},
   "source": [
    "Finally, if you no longer need a specific optimization, you can delete it from your account.\n",
    "\n",
    "**Note:** Deleting an optimization will also delete all solutions corresponding to that optimization."
   ]
  },
  {
   "cell_type": "code",
   "execution_count": null,
   "metadata": {},
   "outputs": [],
   "source": [
    "# Delete a specific instance. Use with caution!\n",
    "luna.delete_optimization(id=optimization_instance_id)"
   ]
  },
  {
   "cell_type": "markdown",
   "metadata": {},
   "source": [
    "## Recommendation: Choosing the best Algorithm and Hardware\n",
    "\n",
    "\n",
    "Luna provides you with a wide variety of preimplemented algorithms that can be used to solve your optimization problem. You can either select the algorithm yourself, or query our **Recommendation Engine** to retrieve a recommendation on the best algorithm to be used, together with a recommended set of parameters.  \n",
    "\n",
    "Note that the current implementation of our recommendation engine only chooses between our available classical algorithms. New versions that will include quantum algorithms are already being developed."
   ]
  },
  {
   "cell_type": "code",
   "execution_count": null,
   "metadata": {},
   "outputs": [],
   "source": [
    "# Query the recommendation engine with our optimization instance\n",
    "recommendation = ls.recommend(id=tsp_id)\n",
    "\n",
    "# Investigate the recommendation from Luna\n",
    "print(recommendation)"
   ]
  },
  {
   "cell_type": "markdown",
   "metadata": {},
   "source": [
    "## Solve: Applying (quantum) algorithms to solve optimization problems\n",
    "\n",
    "Overall, there are four different categories of algorithms available at the moment:\n",
    "\n",
    "- **Quantum algorithms:** Algorithms that are run on real quantum hardware such as IBM or D-Wave.\n",
    "- **Hybrid algorithms:** Algorithms that combine both quantum and classical hardware, often running certain computations on quantum hardware. These algorithms are often used to tackle the problem of the limited size of current quantum harwdare.\n",
    "- **Quantum-inspired algorithms:** Algorithms that are fully run on classical hardware, but mimic certain properties of quantum algorithms during their computation. \n",
    "- **Classical algorithms:** Algorithms that are run on classical hardware and are used today to solve optimization problems.\n",
    "\n",
    "You can either retrieve a recommendation using our Recommendation Engine from the previous chapter, or choose your algorithms and the corresponding hardware yourself. You will be able to find a list of all implemented algorithms on our [Solvers & Algorithms page](https://docs.aqarios.com/solvers-algorithms) as well as a list of all available quantum hardware providers' on our [Quantum Hardware page](https://docs.aqarios.com/quantum-hardware).\n",
    "\n",
    "To solve an optimization problem, you can either use the recommendation returned from our Recommendation Engine, or simply choose the algorithm yourself. "
   ]
  },
  {
   "cell_type": "code",
   "execution_count": null,
   "metadata": {},
   "outputs": [],
   "source": [
    "# Solve the optimization instance with the recommendation\n",
    "solver = recommendation['solver']\n",
    "recommendation['params']\n",
    "solution_url = luna.solve_problem(id=tsp_id, solver=solver, params=params)\n",
    "\n",
    "# Or, alternatively, define your own solver to be used. Here, we use the classical heuristic Simulated Annealing\n",
    "solver = \"simulated_annealing\"\n",
    "\n",
    "# The parameters and their meanings can be found on our Solvers & Algorithms page on our documentation\n",
    "params = {'beta_range': None,\n",
    "         'num_reads': None,\n",
    "         'num_sweeps': 200,\n",
    "         'beta_schedule_type': 'geometric',\n",
    "         'initial_states_generator': 'random',\n",
    "         'n_init_samples': 1,\n",
    "         'timeout': 5}\n",
    "\n",
    "# When configuring the solver yourself, solving the problem still works the same way\n",
    "solution_url = luna.solve_problem(id=tsp_id, solver=solver, params=params)\n",
    "\n",
    "# When omitting parameters or the whole parameter set, the solver will fall back to the default parameter values found in our documentation\n",
    "solution_url = luna.solve_problem(id=tsp_id, solver=solver)"
   ]
  },
  {
   "cell_type": "markdown",
   "metadata": {},
   "source": [
    "Since some algorithms, especially those run on quantum hardware, can take some time to be executed, we don't want to keep you and the execution of your code waiting during this time. Instead, when a solution is requested, we will take care of all steps necesssary in an asynchronous fashion. This means that while your solution is being computed, you are free to do anything you want - and you can simply come back later, when the execution is finished."
   ]
  },
  {
   "cell_type": "code",
   "execution_count": null,
   "metadata": {},
   "outputs": [],
   "source": [
    "# After the execution of your algorithm has been finished, retrieve your raw solution\n",
    "solution = ls.get_solution(solution_url)\n",
    "\n",
    "# Print the raw solution\n",
    "print(solution)"
   ]
  },
  {
   "cell_type": "markdown",
   "metadata": {},
   "source": [
    "Note that this will return the raw solution that we get from the optimization algorithm that has been applied and which is dependent on the mathematical format that has been used. In case you are interested in the solution that has an interpretable meaning, there is one final step that needs to be done."
   ]
  },
  {
   "cell_type": "markdown",
   "metadata": {},
   "source": [
    "### Postprocess: Understanding raw outputs from optimization algorithms"
   ]
  },
  {
   "cell_type": "markdown",
   "metadata": {},
   "source": [
    "As the raw output that we get from these algorithms is usually not too helpful if you are not familiar with optimization algorithms, we provide the possibility to map this raw output back into the domain of our initial problem formulation. \n",
    "\n",
    "Note that this feature only works for optimization problems generated through our use case library."
   ]
  },
  {
   "cell_type": "code",
   "execution_count": null,
   "metadata": {},
   "outputs": [],
   "source": [
    "# Apply postprocessing methods to get an interpretable solution\n",
    "solution = ls.postprocess_solution(solution)\n",
    "\n",
    "# Alternatively, you can directly retrieve the transformed solution\n",
    "solution = ls.get_solution(solution_url, transform=True)\n",
    "\n",
    "# Print the transformed solution \n",
    "print(solution)"
   ]
  }
 ],
 "metadata": {
  "kernelspec": {
   "display_name": "Python 3 (ipykernel)",
   "language": "python",
   "name": "python3"
  },
  "language_info": {
   "codemirror_mode": {
    "name": "ipython",
    "version": 3
   },
   "file_extension": ".py",
   "mimetype": "text/x-python",
   "name": "python",
   "nbconvert_exporter": "python",
   "pygments_lexer": "ipython3",
   "version": "3.8.10"
  }
 },
 "nbformat": 4,
 "nbformat_minor": 2
}
