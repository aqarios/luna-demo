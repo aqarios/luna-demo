{
 "cells": [
  {
   "cell_type": "markdown",
   "metadata": {},
   "source": [
    "# LunaBench"
   ]
  },
  {
   "attachments": {},
   "cell_type": "markdown",
   "metadata": {},
   "source": [
    "## Accurate Benchmarking of Use Cases and Solvers\n",
    "\n",
    "LunaBench introduces a comprehensive benchmarking framework designed to assess your algorithms or use cases against the state-of-the-art solutions available in quantum, hybrid, and classical environments. With LunaBench, you can determine the competitiveness of your algorithm and explore the potential quantum advantage for your specific use case.\n",
    "\n",
    "Please note that LunaBench is currently in development and is expected to be launched in 2024. Stay tuned and follow our [LinkedIn page](https://www.linkedin.com/company/aqarios-gmbh) for future updates."
   ]
  }
 ],
 "metadata": {
  "kernelspec": {
   "display_name": "Python 3 (ipykernel)",
   "language": "python",
   "name": "python3"
  },
  "language_info": {
   "codemirror_mode": {
    "name": "ipython",
    "version": 3
   },
   "file_extension": ".py",
   "mimetype": "text/x-python",
   "name": "python",
   "nbconvert_exporter": "python",
   "pygments_lexer": "ipython3",
   "version": "3.8.10"
  }
 },
 "nbformat": 4,
 "nbformat_minor": 2
}
