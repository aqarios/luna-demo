{
 "cells": [
  {
   "cell_type": "markdown",
   "metadata": {},
   "source": [
    "# Use Cases"
   ]
  },
  {
   "cell_type": "markdown",
   "metadata": {},
   "source": [
    "Optimization has become ubiquitous in today's world, influencing large parts of industries and society. While simple problems can be solved intuitively, when tackling large-scale and real-world optimization challenges, we need to fall back on mathematical models and optimization algorithms.\n",
    "\n",
    "This section presents a list of preimplemented use cases available on Luna across our services. Each use case can be solved on both quantum and classical hardware and comes with a detailed specification to guide you through the process of solving them. In addition, you will find a description of the use case itself and helpful links for further details and explanations about the mathematical models we have integrated. \n",
    "Note that currently, use cases are always transformed into Quadratic Unconstrained Binary Optimization (QUBO) formats, but additional formats will be added in future versions of Luna. \n",
    "\n",
    "**TODO: Insert use cases from API**"
   ]
  }
 ],
 "metadata": {
  "kernelspec": {
   "display_name": "Python 3 (ipykernel)",
   "language": "python",
   "name": "python3"
  },
  "language_info": {
   "codemirror_mode": {
    "name": "ipython",
    "version": 3
   },
   "file_extension": ".py",
   "mimetype": "text/x-python",
   "name": "python",
   "nbconvert_exporter": "python",
   "pygments_lexer": "ipython3",
   "version": "3.8.10"
  }
 },
 "nbformat": 4,
 "nbformat_minor": 2
}
